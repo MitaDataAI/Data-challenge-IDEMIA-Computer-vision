{
 "cells": [
  {
   "cell_type": "markdown",
   "id": "85629f9e-c877-4d17-aedc-c319f51c392b",
   "metadata": {},
   "source": [
    "# Code qu'on va peut-être utilisé "
   ]
  },
  {
   "cell_type": "markdown",
   "id": "affb568a-665e-4c88-add6-b9e0b1e9675d",
   "metadata": {},
   "source": [
    "## Fichier 0"
   ]
  },
  {
   "cell_type": "code",
   "execution_count": null,
   "id": "de50674c-2fa9-41e3-afd9-1e07d41a4414",
   "metadata": {},
   "outputs": [],
   "source": []
  },
  {
   "cell_type": "code",
   "execution_count": null,
   "id": "ee7126ed-4528-4ffa-8684-f1123017ed10",
   "metadata": {},
   "outputs": [],
   "source": []
  },
  {
   "cell_type": "code",
   "execution_count": null,
   "id": "0a9be6e5-9949-4c92-a2d9-cf0b69be57a2",
   "metadata": {},
   "outputs": [],
   "source": [
    "pred_color_val = []\n",
    "pred_gray_val = []\n",
    "\n",
    "with torch.no_grad():\n",
    "\n",
    "    for batch_idx, (X, y, gender, filename) in tqdm(enumerate(validation_generator), total=len(validation_generator)):\n",
    "            X, gender = X.to(device), y.to(device)\n",
    "            g_pred_color = model_color(X)\n",
    "            #g_pred_gray = model_gray(X)\n",
    "            for i in range(len(X)):\n",
    "                pred_color_val.append({'pred_color': float(g_pred_color[i]),\n",
    "                                       #'pred_gray': float(g_pred_color[i]),\n",
    "                                    'occ': float(y[i]),\n",
    "                                    'gender': float(gender[i])\n",
    "                                    })\n",
    "pred_color_val = pd.DataFrame(pred_color_val)\n",
    "\n",
    "\n",
    "val['gender_color_pred'] = pred_color_val['pred_color']\n",
    "#val['gender_gray_pred'] = pred_gray_val['pred_gray']\n",
    "#val['gender_pred'] = val['color']*val['gender_color_pred'] + (1-pred)*val['gender_gray_pred'] * val['gender_gray_pred']\n",
    "\n",
    "with open('val.pkl', 'wb') as f: pickle.dump(val, f)"
   ]
  },
  {
   "cell_type": "code",
   "execution_count": null,
   "id": "d0b55c94-4c81-42d7-adbe-19fb292aa3d3",
   "metadata": {},
   "outputs": [],
   "source": [
    "with open('val_with_gender.pkl', 'wb') as f: pickle.dump(val, f)"
   ]
  },
  {
   "cell_type": "code",
   "execution_count": null,
   "id": "7f2f49fd-e3ac-478d-b9e4-24199e3e4835",
   "metadata": {},
   "outputs": [],
   "source": [
    "# Prediction\n",
    "\n",
    "def get pred_color_gray(val, model_color, model_gray):\n",
    "\n",
    "    val_set = Dataset(val, image_dir)\n",
    "    generator = torch.utils.data.DataLoader(val_set, batch_size=512, shuffle=False, num_workers=0)\n",
    "\n",
    "    pred_color_val = []\n",
    "    pred_gray_val = []\n",
    "\n",
    "    with torch.no_grad():\n",
    "\n",
    "        for batch_idx, (X, y, gender, filename) in tqdm(enumerate(generator), total=len(generator)):\n",
    "                X, gender = X.to(device), y.to(device)\n",
    "                g_pred_color = model_color(X)\n",
    "                g_pred_gray = model_gray(X)\n",
    "                for i in range(len(X)):\n",
    "                    pred_color_val.append({'pred_color': float(g_pred_color[i]),\n",
    "                                        'pred_gray': float(g_pred_color[i]),\n",
    "                                        'occ': float(y[i]),\n",
    "                                        'gender': float(gender[i])\n",
    "                                        })\n",
    "    gender_pred = pd.DataFrame(pred_color_val)\n",
    "\n",
    "    return gender_pred\n",
    "\n",
    "\n",
    "val['gender_color_pred'] = pred_color_val['pred_color']\n",
    "#val['gender_gray_pred'] = pred_gray_val['pred_gray']\n",
    "#val['gender_pred'] = val['color']*val['gender_color_pred'] + (1-pred)*val['gender_gray_pred'] * val['gender_gray_pred']\n",
    "\n",
    "with open('val.pkl', 'wb') as f: pickle.dump(val, f)"
   ]
  },
  {
   "cell_type": "code",
   "execution_count": null,
   "id": "d7fa2e95-60a2-4129-8aa6-7206cdd3d975",
   "metadata": {},
   "outputs": [],
   "source": [
    "# Code à supprimer "
   ]
  },
  {
   "cell_type": "code",
   "execution_count": null,
   "id": "d506cb14-782a-4c3a-aee9-df0f86b0e3a5",
   "metadata": {},
   "outputs": [],
   "source": [
    "# PREDICT GENDER IN TEST DATASET\n",
    "\n",
    "# Load the test dataset\n",
    "test_set = Dataset(df_test, image_dir)\n",
    "test_generator = torch.utils.data.DataLoader(test_set, batch_size=512, shuffle=False, num_workers=0)\n",
    "\n",
    "# predict gender with the color model and the grayscale model\n",
    "gender_color_pred = model_color.predict(test_generator)\n",
    "gender_gray_pred = model_gray.predict(test_generator)\n",
    "\n",
    "df_test['gender_color_pred'] = gender_color_pred.cpu().numpy().flatten()\n",
    "df_test['gender_gray_pred'] = gender_gray_pred.cpu().numpy().flatten()\n",
    "df_test['gender_pred'] = df_test['color']*df_test['gender_color_pred'] + (1-pred)*df_test['gender_gray_pred'] * gender_gray_pred\n",
    "\n",
    "with open('df_test_with gender.pkl', 'wb') as f: pickle.dump(df_test, f)"
   ]
  },
  {
   "cell_type": "code",
   "execution_count": null,
   "id": "e78d19ab-d449-40bc-b615-feab1eda0297",
   "metadata": {},
   "outputs": [],
   "source": [
    "# Parce qu'on a déjà la distribution au départ\n",
    "\n",
    "# Plot histogram of Gender with 50 baskets\n",
    "# 0 = Women and 1 = Men\n",
    "plt.hist(df_train['gender'], bins=50)\n",
    "plt.title('Distribution of gender values (50 bins)\\n'+str(df_train.shape[0])+' images in total')\n",
    "plt.show()\n",
    "\n",
    "# Plot histogram of gender between 0.1 and 0.9 with 40 baskets\n",
    "gender_mixed = df_train[(df_train['gender'] > 0.1) & (df_train['gender'] < 0.9)]\n",
    "plt.hist(gender_mixed['gender'], bins=40)\n",
    "plt.title('Zoom on gender values between 0.1 and 0.9 (40 bins)\\n'+str(gender_mixed.shape[0])+' images in total')\n",
    "plt.show()\n",
    "df_gender_4_6 = df_train[(df_train['gender'] > 0.4) & (df_train['gender'] < 0.6)]\n",
    "print(len(df_gender_4_6))"
   ]
  },
  {
   "cell_type": "code",
   "execution_count": null,
   "id": "4b2d6be1-eefd-47c0-a4e7-c38c82d25ac0",
   "metadata": {},
   "outputs": [],
   "source": []
  },
  {
   "cell_type": "code",
   "execution_count": null,
   "id": "9e53367e-bb0c-420b-bf56-aae97ff54c5e",
   "metadata": {},
   "outputs": [],
   "source": []
  }
 ],
 "metadata": {
  "kernelspec": {
   "display_name": "Python (portofolio)",
   "language": "python",
   "name": "portofolio"
  },
  "language_info": {
   "codemirror_mode": {
    "name": "ipython",
    "version": 3
   },
   "file_extension": ".py",
   "mimetype": "text/x-python",
   "name": "python",
   "nbconvert_exporter": "python",
   "pygments_lexer": "ipython3",
   "version": "3.9.21"
  }
 },
 "nbformat": 4,
 "nbformat_minor": 5
}
