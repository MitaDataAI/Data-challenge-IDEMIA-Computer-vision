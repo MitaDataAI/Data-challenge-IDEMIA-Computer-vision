{
 "cells": [
  {
   "cell_type": "code",
   "execution_count": null,
   "id": "84954c9d",
   "metadata": {},
   "outputs": [],
   "source": [
    "# Import required libraries to run the naive baseline\n",
    "import pandas as pd\n",
    "import numpy as np\n",
    "from PIL import Image\n",
    "from tqdm import tqdm\n",
    "from collections import OrderedDict\n",
    "import matplotlib.pyplot as plt\n",
    "import pickle\n",
    "\n",
    "import torch\n",
    "import torch.nn as nn\n",
    "import torchvision\n",
    "import torchvision.transforms as transforms\n",
    "from torchvision.models import mobilenet_v3_small"
   ]
  },
  {
   "cell_type": "code",
   "execution_count": null,
   "id": "e92c9c67",
   "metadata": {},
   "outputs": [],
   "source": [
    "#############################################\n",
    "# FUNCTIONS\n",
    "#############################################\n",
    "\n",
    "def show_images(df, image_dir, n_images=5, title='None'):\n",
    "    N = len(df)\n",
    "    plt.figure(figsize=(15, (N//5 + 1)*3))\n",
    "    for i in range(N):\n",
    "        plt.subplot(N//5 + 1, n_images, i + 1)\n",
    "        img = Image.open(f\"{image_dir}/{df.iloc[i]['filename']}\")\n",
    "        plt.imshow(img)\n",
    "        plt.axis('off')\n",
    "    plt.suptitle(title)\n",
    "    plt.show()"
   ]
  },
  {
   "cell_type": "code",
   "execution_count": null,
   "id": "d8b9a1b8",
   "metadata": {},
   "outputs": [],
   "source": [
    "df_train = pd.read_csv(\"data/listes_training/data_100K/train_100K.csv\", delimiter=' ')\n",
    "df_test = pd.read_csv(\"data/listes_training/data_100K/test_students.csv\", delimiter=' ')\n",
    "\n",
    "image_dir = \"data/crops_100K\"\n",
    "\n",
    "df_train.head(-10)"
   ]
  },
  {
   "cell_type": "markdown",
   "id": "98570ee4",
   "metadata": {},
   "source": [
    "# Questions"
   ]
  },
  {
   "cell_type": "markdown",
   "id": "22ca3dfc",
   "metadata": {},
   "source": [
    "1. Quelles questions essayons de résoudre (ou de réfuter) ?"
   ]
  },
  {
   "cell_type": "markdown",
   "id": "76006671",
   "metadata": {},
   "source": [
    "- Distribution des occlusions de visage : Quelle est la distribution générale des pourcentages d'occlusion de visage dans notre jeu de données ?\n",
    "- Mais pourquoi il y a des valeurs entre 0 et 1 pour la variable gender? \n",
    "- Impact du genre : La distribution de l'occlusion du visage diffère-t-elle entre les hommes et les femmes ?\n",
    "- Extrêmes des occlusions : Quelles sont les caractéristiques des images avec des pourcentages d'occlusion très élevés ou très faibles ?"
   ]
  },
  {
   "cell_type": "markdown",
   "id": "108dcbc3",
   "metadata": {},
   "source": [
    "2. Quel type de données avez-vous et comment traitez-vous les différents types ?"
   ]
  },
  {
   "cell_type": "markdown",
   "id": "ac71fb77",
   "metadata": {},
   "source": [
    "FaceOcclusion : Variable continue représentant le pourcentage d'occlusion du visage.\n",
    "Gender : Variable binaire indiquant le genre (0 pour femme, 1 pour homme). "
   ]
  },
  {
   "cell_type": "markdown",
   "id": "d31385b1",
   "metadata": {},
   "source": [
    "3. Qu'est-ce qui manque dans les données et comment y remédiez-vous ?"
   ]
  },
  {
   "cell_type": "markdown",
   "id": "298b5395",
   "metadata": {},
   "source": [
    "- valeurs manquantes : Vérifier la présence de valeurs manquantes dans FaceOcclusion et gender.\n",
    "- Traitement : Imputation ou suppression des lignes avec des valeurs manquantes.\n",
    "- Diversité des images : Vérifier si la diversité des images (conditions d'éclairage, angles de prise de vue, types d'occlusion) est suffisante.\n",
    "- Traitement : Utilisation de techniques d'augmentation de données pour améliorer la diversité."
   ]
  },
  {
   "cell_type": "markdown",
   "id": "214b7337",
   "metadata": {},
   "source": [
    "4. Où sont les outliers et pourquoi devrions-nous en soucier ?\n",
    "- Détection des outliers : Identifier les valeurs extrêmes de FaceOcclusion qui pourraient influencer négativement l'analyse.\n",
    "- Traitement : Analyse des caractéristiques des outliers pour comprendre leur impact potentiel.\n",
    "- Impact des outliers : Les outliers peuvent affecter les statistiques descriptives et les performances du modèle.\n",
    "- Traitement : Décider de les traiter séparément ou de les supprimer."
   ]
  },
  {
   "cell_type": "markdown",
   "id": "74a88f9d",
   "metadata": {},
   "source": [
    "5. Comment pouvez-vous ajouter, modifier ou supprimer des caractéristiques pour tirer le meilleur parti de vos données ?"
   ]
  },
  {
   "cell_type": "markdown",
   "id": "ed07468b",
   "metadata": {},
   "source": [
    "# Analyse du target"
   ]
  },
  {
   "cell_type": "code",
   "execution_count": null,
   "id": "4c3312eb",
   "metadata": {},
   "outputs": [],
   "source": [
    "# Statistiques de base pour la colonne FaceOcclusion\n",
    "print(df_train['FaceOcclusion'].describe())\n",
    "\n",
    "# Distribution des genres\n",
    "print(df_train['gender'].value_counts())"
   ]
  },
  {
   "cell_type": "code",
   "execution_count": null,
   "id": "7e246255",
   "metadata": {},
   "outputs": [],
   "source": [
    "import matplotlib.pyplot as plt\n",
    "import seaborn as sns\n",
    "\n",
    "# Distribution de FaceOcclusion\n",
    "plt.figure(figsize=(10, 6))\n",
    "sns.histplot(df_train['FaceOcclusion'], bins=50, kde=True)\n",
    "plt.title('Distribution de FaceOcclusion')\n",
    "plt.xlabel('FaceOcclusion')\n",
    "plt.ylabel('Fréquence')\n",
    "plt.show()"
   ]
  },
  {
   "cell_type": "code",
   "execution_count": null,
   "id": "491482ac",
   "metadata": {},
   "outputs": [],
   "source": [
    "# Calcul du pourcentage d'observations avec FaceOcclusion > 0.4\n",
    "percentage_above = (df_train['FaceOcclusion'] > 0.4).mean() * 100\n",
    "print(f\"{percentage_above:.2f}% des observations ont une valeur de FaceOcclusion supérieure à 0.4.\")"
   ]
  },
  {
   "cell_type": "code",
   "execution_count": null,
   "id": "7b3a95a2",
   "metadata": {},
   "outputs": [],
   "source": [
    "import matplotlib.pyplot as plt\n",
    "import seaborn as sns\n",
    "\n",
    "# Box plot de FaceOcclusion\n",
    "plt.figure(figsize=(10, 6))\n",
    "sns.boxplot(x=df_train['FaceOcclusion'])\n",
    "plt.title('Box Plot de FaceOcclusion')\n",
    "plt.xlabel('FaceOcclusion')\n",
    "plt.show()\n",
    "\n"
   ]
  },
  {
   "cell_type": "code",
   "execution_count": null,
   "id": "68541565",
   "metadata": {},
   "outputs": [],
   "source": []
  },
  {
   "cell_type": "markdown",
   "id": "06779f55",
   "metadata": {},
   "source": [
    "La distribution de FaceOcclusion montre que la majorité des images ont une faible occlusion du visage, avec un nombre décroissant d'images à mesure que le pourcentage d'occlusion augmente. \n",
    "\n",
    "Cette décroissance est très forte au départ avant de devenir de plus en plus moindre après.\n",
    "\n",
    "Lorsque le taux d'occlusion s'étend au dessus de 0.4, on voit qu'il y a des outliers. "
   ]
  },
  {
   "cell_type": "markdown",
   "id": "9dd92a5b",
   "metadata": {},
   "source": [
    "- Si l'algorithme exige la normalité, il faut transformer cette variable.\n",
    "\n",
    "- Il faut détecter la cause de l'occlusion à chaque bins. Pour les 04 premières bins, ils pourront avoir des spécificités. Sur la suite jusqu'à 0.4, il est fort probable d'avoir des bins ayant les mêmes caractères. Il faut les combiner. Pour le reste, on devrait les analyser particulièrement.  "
   ]
  },
  {
   "cell_type": "code",
   "execution_count": null,
   "id": "d18c40a2",
   "metadata": {},
   "outputs": [],
   "source": [
    "show_images(df_train.sample(10), image_dir, title='Random images from the training set')"
   ]
  },
  {
   "cell_type": "code",
   "execution_count": null,
   "id": "b115e074",
   "metadata": {
    "scrolled": false
   },
   "outputs": [],
   "source": [
    "# Définir les bins\n",
    "bins_first = [0.00, 0.02, 0.04, 0.06]\n",
    "bin_ranges_first = [(0, 0.02), (0.02, 0.04), (0.04, 0.06), (0.06, 0.08)]\n",
    "\n",
    "# Afficher les images pour les bins spécifiques\n",
    "for bin_range in bin_ranges_first:\n",
    "    selection = df_train[(df_train['FaceOcclusion'] >= bin_range[0]) & (df_train['FaceOcclusion'] < bin_range[1])]\n",
    "    title_bin = f\"FaceOcclusion entre {bin_range[0]} et {bin_range[1]}\\n {len(selection)} images\"\n",
    "    show_images(selection.head(20), image_dir, n_images=6, title=title_bin)\n"
   ]
  },
  {
   "cell_type": "markdown",
   "id": "94cc2300",
   "metadata": {},
   "source": [
    "**Conclusion pour le Bin \"FaceOcclusion entre 0 et 0.02\"**\n",
    "\n",
    "Les images de ce bin montrent que la plupart des visages sont presque complètement visibles, avec de très légères obstructions dues à :\n",
    "\n",
    "Éclairage et ombres : Variations légères d'éclairage créant des ombres minimes.\n",
    "Accessoires légers : Lunettes discrètes ou petits accessoires.\n",
    "Cheveux : Cheveux couvrant légèrement le visage.\n",
    "Expressions faciales : Expressions influençant légèrement la visibilité des parties du visage\n",
    "\n",
    "\n",
    "**Conclusion pour le Bin \"FaceOcclusion entre 0.02 et 0.04\"\n",
    "Les images de ce bin montrent des obstructions légères dues à :\n",
    "\n",
    "Lunettes : Accessoires couvrant une petite partie des yeux.\n",
    "Ombres : Variations d'éclairage créant des ombres.\n",
    "Cheveux : Cheveux couvrant légèrement le visage.\n",
    "Expressions faciales : Expressions influençant légèrement la visibilité de certaines parties du visage\n",
    "\n",
    "Les obstructions sont généralement mineures mais légèrement plus prononcées que celles du bin précédent (0 à 0.02).\n",
    "\n",
    "\n",
    "\n",
    "**Conclusion pour le Bin \"FaceOcclusion entre 0.04 et 0.06\"**\n",
    "Les images de ce bin montrent des obstructions modérées dues à :\n",
    "\n",
    "Accessoires : Lunettes couvrant une partie des yeux.\n",
    "Cheveux : Cheveux couvrant une partie importante du visage.\n",
    "Ombres : Variations d'éclairage créant des ombres.\n",
    "Expressions faciales : Expressions influençant la visibilité des parties du visage.\n",
    "Les obstructions dans ce bin sont plus prononcées que dans les bins précédents, mais restent modérées.\n",
    "\n",
    "\n",
    "**Passons maintenant à l'analyse du bin suivant : \"FaceOcclusion entre 0.06 et 0.08\".**\n",
    "En analysant les images dans chaque bin, nous avons identifié plusieurs causes d'occlusion :\n",
    "\n",
    "Lunettes de soleil ou optiques : Couvre une partie des yeux.\n",
    "Cheveux : Couvre légèrement à modérément le visage.\n",
    "Ombres : Variations d'éclairage créant des ombres sur le visage.\n",
    "Expressions faciales : Influencent la visibilité des parties du visage"
   ]
  },
  {
   "cell_type": "code",
   "execution_count": null,
   "id": "ef5b9ede",
   "metadata": {},
   "outputs": [],
   "source": [
    "# Définir les bins et les plages\n",
    "bins_combined = [(0.08, 0.1), (0.1, 0.2), (0.2, 0.3), (0.3, 0.4)]\n",
    "image_dir = \"data/crops_100K\"\n",
    "\n",
    "# Afficher les images pour les bins combinés\n",
    "for bin_range in bins_combined:\n",
    "    selection = df_train[(df_train['FaceOcclusion'] >= bin_range[0]) & (df_train['FaceOcclusion'] < bin_range[1])]\n",
    "    title_bin = f\"FaceOcclusion entre {bin_range[0]} et {bin_range[1]}\\n {len(selection)} images\"\n",
    "    show_images(selection.head(10), image_dir, n_images=10, title=title_bin)"
   ]
  },
  {
   "cell_type": "markdown",
   "id": "858ff0b9",
   "metadata": {},
   "source": [
    "Lunettes de soleil ou optiques : Couvre une partie des yeux.\n",
    "Cheveux : Couvre légèrement à modérément le visage.\n",
    "Ombres : Variations d'éclairage créant des ombres sur le visage.\n",
    "Expressions faciales : Influencent la visibilité des parties du visage\n",
    "Objets : mirco, main, bonet"
   ]
  },
  {
   "cell_type": "code",
   "execution_count": null,
   "id": "39bfaad6",
   "metadata": {},
   "outputs": [],
   "source": [
    "# Définir les bins et les plages\n",
    "bins_high = [(0.4, 0.5), (0.5, 0.6), (0.6, 0.7), (0.7, 0.8), (0.8, 0.9), (0.9, 1.0)]\n",
    "image_dir = \"data/crops_100K\"\n",
    "\n",
    "# Afficher les images pour les bins au-delà de 0.4\n",
    "for bin_range in bins_high:\n",
    "    selection = df_train[(df_train['FaceOcclusion'] >= bin_range[0]) & (df_train['FaceOcclusion'] <= bin_range[1])]\n",
    "    title_bin = f\"FaceOcclusion entre {bin_range[0]} et {bin_range[1]}\\n {len(selection)} images\"\n",
    "    show_images(selection.head(5), image_dir, n_images=5, title=title_bin)"
   ]
  },
  {
   "cell_type": "markdown",
   "id": "6f7e91ad",
   "metadata": {},
   "source": [
    "Cheveux : Couvre légèrement à presque entièrement le visage.\n",
    "Lunettes de soleil ou optiques : Couvre une grande partie des yeux.\n",
    "Objets : Pommes, chapeaux, microphones, et autres objets couvrant le visage.\n",
    "Maquillage ou peinture : Couvre une grande partie du visage.\n",
    "Ombres et effets de lumière : Variations d'éclairage créant des ombres.\n",
    "Qualité d'image basse : Artefacts de compression couvrant le visage."
   ]
  },
  {
   "cell_type": "code",
   "execution_count": null,
   "id": "41101913",
   "metadata": {},
   "outputs": [],
   "source": [
    "# Données manquantes\n"
   ]
  },
  {
   "cell_type": "markdown",
   "id": "1db0bcbc",
   "metadata": {},
   "source": [
    "# Analyse de gender"
   ]
  },
  {
   "cell_type": "code",
   "execution_count": null,
   "id": "f6dce33f",
   "metadata": {},
   "outputs": [],
   "source": [
    "# Distribution de gender\n",
    "plt.figure(figsize=(10, 6))\n",
    "sns.histplot(df_train['gender'], bins=50, kde=True)\n",
    "plt.title('Distribution de la variable gender')\n",
    "plt.xlabel('Gender')\n",
    "plt.ylabel('Fréquence')\n",
    "plt.show()\n"
   ]
  },
  {
   "cell_type": "code",
   "execution_count": null,
   "id": "6844bde7",
   "metadata": {},
   "outputs": [],
   "source": []
  },
  {
   "cell_type": "code",
   "execution_count": null,
   "id": "7ca1a4f2",
   "metadata": {},
   "outputs": [],
   "source": []
  },
  {
   "cell_type": "code",
   "execution_count": null,
   "id": "9528f2c0",
   "metadata": {},
   "outputs": [],
   "source": [
    "# Valeurs uniques de gender\n",
    "unique_genders = df_train['gender'].unique()\n",
    "print(f\"Valeurs uniques de gender : {unique_genders}\")"
   ]
  },
  {
   "cell_type": "code",
   "execution_count": null,
   "id": "31d4c506",
   "metadata": {},
   "outputs": [],
   "source": [
    "# Plot histogram of gender between 0.1 and 0.9 with 40 baskets\n",
    "gender_mixed = df_train[(df_train['gender'] > 0.1) & (df_train['gender'] < 0.9)]\n",
    "plt.hist(gender_mixed['gender'], bins=40)\n",
    "plt.title('Zoom on gender values between 0.1 and 0.9 (40 bins)\\n'+str(gender_mixed.shape[0])+' images in total')\n",
    "plt.show()\n",
    "df_gender_4_6 = df_train[(df_train['gender'] > 0.4) & (df_train['gender'] < 0.6)]\n",
    "print(len(df_gender_4_6))"
   ]
  },
  {
   "cell_type": "markdown",
   "id": "57d1345b",
   "metadata": {},
   "source": [
    "çà c'est la probabilité d'être homme ou femme\n",
    "çelà veut dire qu'il y a plus de probabilité qu'un individu soit homme dans notre base de données. En tout cas, il y a plus d'hommes que des femmes. "
   ]
  },
  {
   "cell_type": "markdown",
   "id": "a6271c10",
   "metadata": {},
   "source": [
    "# Relation entre Target et gender"
   ]
  },
  {
   "cell_type": "code",
   "execution_count": null,
   "id": "ef7abef7",
   "metadata": {},
   "outputs": [],
   "source": [
    "# Utiliser les noms corrects des colonnes (assumons que les colonnes s'appellent 'FaceOcclusion' et 'gender')\n",
    "cross_table = pd.crosstab(df_train['FaceOcclusion'], df_train['gender'])\n",
    "\n",
    "# Afficher le tableau croisé\n",
    "print(cross_table)\n",
    "\n",
    "# Calculer le nombre total d'individus par FaceOcclusion\n",
    "total_by_faceocclusion = cross_table.sum(axis=1)\n",
    "\n",
    "# Diviser chaque valeur dans le tableau croisé par le nombre total d'individus par FaceOcclusion\n",
    "cross_table_percent = cross_table.div(total_by_faceocclusion, axis=0) * 100\n",
    "\n",
    "# Création d'un graphique à barres empilées\n",
    "cross_table_percent.plot(kind='bar', stacked=True, color=['lightgreen', 'black', 'red'])\n",
    "plt.title('Répartition des genres par FaceOcclusion (en pourcentage)')\n",
    "plt.xlabel('FaceOcclusion')\n",
    "plt.ylabel('Pourcentage')\n",
    "plt.xticks(rotation=0)\n",
    "plt.legend(title='Gender')\n",
    "plt.show()\n"
   ]
  },
  {
   "attachments": {
    "Sans%20titre.png": {
     "image/png": "[encoded data removed]"
    }
   },
   "cell_type": "markdown",
   "id": "8bc72b45",
   "metadata": {},
   "source": [
    "![Sans%20titre.png](attachment:Sans%20titre.png)"
   ]
  },
  {
   "cell_type": "code",
   "execution_count": null,
   "id": "59289eac",
   "metadata": {},
   "outputs": [],
   "source": [
    "bins = np.arange(0, 1.01, 0.01)\n",
    "df_train['FaceOcclusionBin'] = pd.cut(df_train['FaceOcclusion'], bins=bins, include_lowest=True)\n",
    "\n",
    "cross_table = pd.crosstab(df_train['FaceOcclusionBin'], df_train['gender'], normalize='index') * 100\n",
    "cross_table.plot(kind='bar', stacked=True, color=['orange', 'blue'])\n",
    "plt.title('Répartition des genres par FaceOcclusion (en pourcentage)')\n",
    "plt.xlabel('FaceOcclusion')\n",
    "plt.ylabel('Pourcentage')\n",
    "plt.xticks(rotation=90)\n",
    "plt.legend(title='Genre', labels=['Femme', 'Homme'])\n",
    "plt.show()"
   ]
  },
  {
   "cell_type": "code",
   "execution_count": null,
   "id": "d3f29622",
   "metadata": {},
   "outputs": [],
   "source": [
    "from scipy.stats import chi2_contingency\n",
    "\n",
    "df_train['FaceOcclusionBin'] = pd.cut(df_train['FaceOcclusion'], bins=bins, include_lowest=True)\n",
    "contingency_table = pd.crosstab(df_train['FaceOcclusionBin'], df_train['gender'])\n",
    "chi2, p, dof, expected = chi2_contingency(contingency_table)\n",
    "\n",
    "print(f\"Chi2 Statistic: {chi2}, p-value: {p}\")\n"
   ]
  },
  {
   "cell_type": "code",
   "execution_count": null,
   "id": "485479c0",
   "metadata": {},
   "outputs": [],
   "source": [
    "plt.figure(figsize=(12, 6))\n",
    "cross_table.plot(kind='bar', stacked=True, color=['orange', 'blue'])\n",
    "plt.title('Répartition des genres par FaceOcclusion (en pourcentage)', fontsize=16)\n",
    "plt.xlabel('FaceOcclusion', fontsize=14)\n",
    "plt.ylabel('Pourcentage', fontsize=14)\n",
    "plt.xticks(rotation=90, fontsize=10)\n",
    "plt.yticks(fontsize=12)\n",
    "plt.legend(title='Genre', labels=['Femme', 'Homme'], fontsize=12)\n",
    "plt.show()\n"
   ]
  }
 ],
 "metadata": {
  "kernelspec": {
   "display_name": "Python 3 (ipykernel)",
   "language": "python",
   "name": "python3"
  },
  "language_info": {
   "codemirror_mode": {
    "name": "ipython",
    "version": 3
   },
   "file_extension": ".py",
   "mimetype": "text/x-python",
   "name": "python",
   "nbconvert_exporter": "python",
   "pygments_lexer": "ipython3",
   "version": "3.12.4"
  }
 },
 "nbformat": 4,
 "nbformat_minor": 5
}
