{
 "cells": [
  {
   "cell_type": "markdown",
   "metadata": {},
   "source": [
    "## Best model - 2 models color / grayscale with occlusion weighted MSE loss function\n",
    "(The result varies from 0.00089 to 0.0025 for 30 epochs training)"
   ]
  },
  {
   "cell_type": "code",
   "execution_count": 1,
   "metadata": {},
   "outputs": [
    {
     "name": "stderr",
     "output_type": "stream",
     "text": [
      "c:\\Users\\ASUS\\envs\\virtual\\Lib\\site-packages\\tqdm\\auto.py:21: TqdmWarning: IProgress not found. Please update jupyter and ipywidgets. See https://ipywidgets.readthedocs.io/en/stable/user_install.html\n",
      "  from .autonotebook import tqdm as notebook_tqdm\n"
     ]
    }
   ],
   "source": [
    "# Import required libraries to run the naive baseline\n",
    "import pandas as pd\n",
    "import numpy as np\n",
    "from PIL import Image\n",
    "import cv2\n",
    "from tqdm import tqdm\n",
    "from collections import OrderedDict\n",
    "import matplotlib.pyplot as plt\n",
    "import pickle\n",
    "from sklearn.model_selection import train_test_split\n",
    "\n",
    "import torch\n",
    "import torch.nn as nn\n",
    "import torchvision\n",
    "import torchvision.transforms as transforms\n",
    "from torchvision.models import mobilenet_v3_small\n",
    "\n",
    "# from torch.utils.data import Dataset, DataLoader\n",
    "import torchvision.models as models\n",
    "import torch.optim as optim"
   ]
  },
  {
   "cell_type": "code",
   "execution_count": 2,
   "metadata": {},
   "outputs": [],
   "source": [
    "#############################################\n",
    "# FUNCTIONS\n",
    "#############################################\n",
    "\n",
    "# PREPROCESSING\n",
    "# --------------------------------------------\n",
    "\n",
    "# function to check if image is black and white\n",
    "\n",
    "def is_color(img):\n",
    "    # check if image has 3 channels\n",
    "    dim = len(np.array(img).shape)\n",
    "    \n",
    "    if dim == 2: # with 1 channel dimension = (224,224) => greyscale image\n",
    "        return 0\n",
    "    # if image has 3 channels and all channels are equal\n",
    "    elif dim == 3: # for example (224, 224, 3)\n",
    "        if ((np.array(img)[:,:,2] == np.array(img)[:,:,1]).all() == True &\n",
    "            (np.array(img)[:,:,0] == np.array(img)[:,:,1]).all() == True &\n",
    "            (np.array(img)[:,:,0] == np.array(img)[:,:,2]).all() == True ):\n",
    "            return 0\n",
    "        else:\n",
    "            return 1\n",
    "    else:\n",
    "        return 0\n",
    "\n",
    "def preprocess_df(df, image_dir, process_mediapipe=False):\n",
    "    # add gender and FaceOcclusion columns with -1 values (for test)\n",
    "    if 'gender' not in df.columns:\n",
    "        df['gender'] = - np.ones(len(df)).astype(float)\n",
    "    if 'FaceOcclusion' not in df.columns:\n",
    "        df['FaceOcclusion'] = -np.ones(len(df)).astype(float)\n",
    "        \n",
    "    # preprocess the dataframe\n",
    "    df['initial_index'] = df.index\n",
    "    df = df.dropna(subset=['FaceOcclusion'])\n",
    "    df['gender_id'] = np.round(df['gender'] ).astype(int)\n",
    "    df['db_number'] = df['filename'].apply(lambda x: (x.split('/')[0])[-1])\n",
    "    df['db_number'] = df['db_number'].astype(int)\n",
    "    df['count']=1\n",
    "\n",
    "    # add columns for the image properties\n",
    "    df['color']= 0 # 1 = color 0 = black & white (grayscale)\n",
    "    df['image_width'] = np.zeros(len(df)).astype(int)\n",
    "    df['image_height'] = np.zeros(len(df)).astype(int)\n",
    "    df['channels'] = np.zeros(len(df)).astype(int)\n",
    "    df['pixels'] = np.zeros(len(df)).astype(int)\n",
    "\n",
    "    if process_mediapipe == True:\n",
    "        df['face'] = np.ones(len(df)).astype(int)   # 1 = 1 face detected, 0 = no face detected\n",
    "        df['face_pixels'] = np.zeros(len(df)).astype(int)\n",
    "        df['mask_pixels'] = np.zeros(len(df)).astype(int)\n",
    "        print('use preprocessing _mediapipe file to get mediapipe mask, mesh and contours')\n",
    "\n",
    "    # loop through the images to extract properties\n",
    "    for i in df.index:\n",
    "\n",
    "        if i % 5000 == 0: print(i)\n",
    "\n",
    "        try:\n",
    "            filename = df.loc[i, 'filename']\n",
    "    \n",
    "            # load image; convert and save information\n",
    "            image = cv2.imread(f\"{image_dir}/{filename}\")\n",
    "            image = cv2.cvtColor(image, cv2.COLOR_BGR2RGB)\n",
    "            \n",
    "            df.loc[i, 'image_width'] = image.shape[0]\n",
    "            df.loc[i, 'image_height'] = image.shape[1]\n",
    "            df.loc[i, 'pixels'] = image.shape[0] * image.shape[1]\n",
    "            df.loc[i, 'channels'] = image.shape[2]\n",
    "\n",
    "            if is_color(image)==1:\n",
    "                df.loc[i, 'color'] = 1\n",
    "\n",
    "            if process_mediapipe == True:\n",
    "                # to be added\n",
    "                print('use preprocessing _mediapipe file to get mediapipe mask, mesh and contours')\n",
    "\n",
    "        except ValueError as e:\n",
    "            print(f'could not open {filename} (index {i}): {e}')\n",
    "\n",
    "    df['no_color']= 1 - df['color']\n",
    "\n",
    "    return df\n",
    "\n",
    "def process_mediapipe(df, image_dir, save_to_file=False):\n",
    "    '''function to apply mediapipe face mesh model to images, get masked images, \n",
    "    contours and mesh, and return 468 landmarks (3D keypoints)\n",
    "    Input :\n",
    "        df : panda dataframe with image filenames\n",
    "        image_dir : directory where images are stored\n",
    "    Output :\n",
    "        df : panda dataframe with additional columns for number of faces detected, face pixels, mask pixels,\n",
    "        masked_image: image with skin area, ans black mask overlay (ovale) elsewhere \n",
    "        contours : image with face ovale contours, brows and lips in green\n",
    "        mesh : image with face mesh keypoints\n",
    "        landmarks : 468 landmarks (3D keypoints) in mediapipe format (madiapipe array of (x, y, z) coordinates in dictionary format)\n",
    "    '''\n",
    "#---------------------------------------\n",
    "# SHOW IMAGES\n",
    "#---------------------------------------\n",
    "\n",
    "def show_images(df, image_dir, n_images=5, title='None'):\n",
    "    N = len(df)\n",
    "    plt.figure(figsize=(15, (N//5 + 1)*3))\n",
    "    for i in range(N):\n",
    "        plt.subplot(N//5 + 1, n_images, i + 1)\n",
    "        img = Image.open(f\"{image_dir}/{df.iloc[i]['filename']}\")\n",
    "        plt.imshow(img)\n",
    "        plt.axis('off')\n",
    "    plt.suptitle(title)\n",
    "    plt.show()\n",
    "\n",
    "#---------------------------------------\n",
    "# DEFINE DEVICE\n",
    "#---------------------------------------\n",
    "def get_device():\n",
    "    if torch.cuda.is_available():\n",
    "        device = \"cuda\"\n",
    "    elif torch.backends.mps.is_available():\n",
    "        device = \"mps\"\n",
    "    else:\n",
    "        device = \"cpu\"\n",
    "    return device\n",
    "\n",
    "#---------------------------------------\n",
    "# DEFINE DATASET CLASS\n",
    "#---------------------------------------\n",
    "\n",
    "#class Dataset(torch.utils.data.Dataset): # in \"starter notebook code\" dataset is imported from torch.utils.data\n",
    "class Dataset(torch.utils.data.Dataset):\n",
    "    'Characterizes a dataset for PyTorch'\n",
    "    def __init__(self, df, image_dir):\n",
    "         'Initialization'\n",
    "         self.image_dir = image_dir\n",
    "         self.df = df\n",
    "         self.transform = transforms.ToTensor()\n",
    "         \n",
    "    def __len__(self):\n",
    "        'Denotes the total number of samples'\n",
    "        return len(self.df)\n",
    "\n",
    "    def __getitem__(self, index):\n",
    "        'Generates one sample of data'\n",
    "        # Select sample\n",
    "        row = self.df.loc[index]\n",
    "        filename = row['filename']\n",
    "        \n",
    "\n",
    "        # Load data and get label\n",
    "        img = Image.open(f\"{self.image_dir}/{filename}\")  \n",
    "        X = self.transform(img)\n",
    "\n",
    "        y = row['FaceOcclusion']     \n",
    "        y = np.float32(y)\n",
    "\n",
    "        gender = row['gender_id'] # changed to have round values 0 or 1\n",
    "\n",
    "        return X, y, gender, filename\n",
    "\n",
    "#--------------------------------------------------\n",
    "# Compute mean and standard deviation on the pixels\n",
    "#--------------------------------------------------\n",
    "\n",
    "def calculate_mean_std(loader, num_channels=3):\n",
    "    '''Calculate mean and standard deviation of the dataset.\n",
    "    Args:\n",
    "        loader: DataLoader object\n",
    "        num_channels: number of channels\n",
    "    Returns:\n",
    "        mean: mean of the dataset (tensor)\n",
    "        std: standard deviation of the dataset (tensor)\n",
    "    '''\n",
    "    device = get_device()\n",
    "    channel_sum = torch.zeros(num_channels).to(device)\n",
    "    channel_squared_sum = torch.zeros(num_channels).to(device)\n",
    "    num_elements = 0\n",
    "\n",
    "    for data, _, _, _ in loader:\n",
    "        data = data.to(device)\n",
    "        channel_sum += data.sum(dim=[0, 2, 3])\n",
    "        channel_squared_sum += (data ** 2).sum(dim=[0, 2, 3])\n",
    "        num_elements += data.size(0) * data.size(2) * data.size(3)\n",
    "\n",
    "    mean = channel_sum / num_elements\n",
    "    std = (channel_squared_sum / num_elements - mean ** 2) ** 0.5\n",
    "    return mean, std"
   ]
  },
  {
   "cell_type": "code",
   "execution_count": 3,
   "metadata": {},
   "outputs": [
    {
     "data": {
      "text/html": [
       "<div>\n",
       "<style scoped>\n",
       "    .dataframe tbody tr th:only-of-type {\n",
       "        vertical-align: middle;\n",
       "    }\n",
       "\n",
       "    .dataframe tbody tr th {\n",
       "        vertical-align: top;\n",
       "    }\n",
       "\n",
       "    .dataframe thead th {\n",
       "        text-align: right;\n",
       "    }\n",
       "</style>\n",
       "<table border=\"1\" class=\"dataframe\">\n",
       "  <thead>\n",
       "    <tr style=\"text-align: right;\">\n",
       "      <th></th>\n",
       "      <th>filename</th>\n",
       "      <th>FaceOcclusion</th>\n",
       "      <th>gender</th>\n",
       "    </tr>\n",
       "  </thead>\n",
       "  <tbody>\n",
       "    <tr>\n",
       "      <th>0</th>\n",
       "      <td>database1/img00011271.jpg</td>\n",
       "      <td>0.019</td>\n",
       "      <td>0.999</td>\n",
       "    </tr>\n",
       "    <tr>\n",
       "      <th>1</th>\n",
       "      <td>database1/img00012471.jpg</td>\n",
       "      <td>0.035</td>\n",
       "      <td>1.000</td>\n",
       "    </tr>\n",
       "    <tr>\n",
       "      <th>2</th>\n",
       "      <td>database1/img00008127.jpg</td>\n",
       "      <td>0.127</td>\n",
       "      <td>0.001</td>\n",
       "    </tr>\n",
       "    <tr>\n",
       "      <th>3</th>\n",
       "      <td>database1/img00008972.jpg</td>\n",
       "      <td>0.014</td>\n",
       "      <td>0.999</td>\n",
       "    </tr>\n",
       "    <tr>\n",
       "      <th>4</th>\n",
       "      <td>database1/img00028187.jpg</td>\n",
       "      <td>0.346</td>\n",
       "      <td>0.982</td>\n",
       "    </tr>\n",
       "    <tr>\n",
       "      <th>...</th>\n",
       "      <td>...</td>\n",
       "      <td>...</td>\n",
       "      <td>...</td>\n",
       "    </tr>\n",
       "    <tr>\n",
       "      <th>101330</th>\n",
       "      <td>database3/database3/m.01drbr/59-FaceId-0_align...</td>\n",
       "      <td>0.000</td>\n",
       "      <td>1.000</td>\n",
       "    </tr>\n",
       "    <tr>\n",
       "      <th>101331</th>\n",
       "      <td>database3/database3/m.01drbr/69-FaceId-0_align...</td>\n",
       "      <td>0.021</td>\n",
       "      <td>0.998</td>\n",
       "    </tr>\n",
       "    <tr>\n",
       "      <th>101332</th>\n",
       "      <td>database3/database3/m.01drbr/7-FaceId-0_align.jpg</td>\n",
       "      <td>0.008</td>\n",
       "      <td>1.000</td>\n",
       "    </tr>\n",
       "    <tr>\n",
       "      <th>101333</th>\n",
       "      <td>database3/database3/m.01drbr/71-FaceId-0_align...</td>\n",
       "      <td>0.005</td>\n",
       "      <td>1.000</td>\n",
       "    </tr>\n",
       "    <tr>\n",
       "      <th>101334</th>\n",
       "      <td>database3/database3/m.01drbr/72-FaceId-0_align...</td>\n",
       "      <td>0.009</td>\n",
       "      <td>0.999</td>\n",
       "    </tr>\n",
       "  </tbody>\n",
       "</table>\n",
       "<p>101331 rows × 3 columns</p>\n",
       "</div>"
      ],
      "text/plain": [
       "                                                 filename  FaceOcclusion  \\\n",
       "0                               database1/img00011271.jpg          0.019   \n",
       "1                               database1/img00012471.jpg          0.035   \n",
       "2                               database1/img00008127.jpg          0.127   \n",
       "3                               database1/img00008972.jpg          0.014   \n",
       "4                               database1/img00028187.jpg          0.346   \n",
       "...                                                   ...            ...   \n",
       "101330  database3/database3/m.01drbr/59-FaceId-0_align...          0.000   \n",
       "101331  database3/database3/m.01drbr/69-FaceId-0_align...          0.021   \n",
       "101332  database3/database3/m.01drbr/7-FaceId-0_align.jpg          0.008   \n",
       "101333  database3/database3/m.01drbr/71-FaceId-0_align...          0.005   \n",
       "101334  database3/database3/m.01drbr/72-FaceId-0_align...          0.009   \n",
       "\n",
       "        gender  \n",
       "0        0.999  \n",
       "1        1.000  \n",
       "2        0.001  \n",
       "3        0.999  \n",
       "4        0.982  \n",
       "...        ...  \n",
       "101330   1.000  \n",
       "101331   0.998  \n",
       "101332   1.000  \n",
       "101333   1.000  \n",
       "101334   0.999  \n",
       "\n",
       "[101331 rows x 3 columns]"
      ]
     },
     "execution_count": 3,
     "metadata": {},
     "output_type": "execute_result"
    }
   ],
   "source": [
    "df_train = pd.read_csv(\"listes_training/data_100K/train_100K.csv\", delimiter=' ')\n",
    "df_test = pd.read_csv(\"listes_training/data_100K/test_students.csv\", delimiter=' ')\n",
    "\n",
    "image_dir = \"crops_100K\"\n",
    "\n",
    "df_train = df_train.dropna()\n",
    "df_test = df_test.dropna()\n",
    "df_train.head(-10)"
   ]
  },
  {
   "cell_type": "code",
   "execution_count": 4,
   "metadata": {},
   "outputs": [
    {
     "data": {
      "text/html": [
       "<div>\n",
       "<style scoped>\n",
       "    .dataframe tbody tr th:only-of-type {\n",
       "        vertical-align: middle;\n",
       "    }\n",
       "\n",
       "    .dataframe tbody tr th {\n",
       "        vertical-align: top;\n",
       "    }\n",
       "\n",
       "    .dataframe thead th {\n",
       "        text-align: right;\n",
       "    }\n",
       "</style>\n",
       "<table border=\"1\" class=\"dataframe\">\n",
       "  <thead>\n",
       "    <tr style=\"text-align: right;\">\n",
       "      <th></th>\n",
       "      <th>filename</th>\n",
       "    </tr>\n",
       "  </thead>\n",
       "  <tbody>\n",
       "    <tr>\n",
       "      <th>0</th>\n",
       "      <td>database2/database2/test/0.jpg</td>\n",
       "    </tr>\n",
       "    <tr>\n",
       "      <th>1</th>\n",
       "      <td>database2/database2/test/1.jpg</td>\n",
       "    </tr>\n",
       "    <tr>\n",
       "      <th>2</th>\n",
       "      <td>database2/database2/test/2.jpg</td>\n",
       "    </tr>\n",
       "    <tr>\n",
       "      <th>3</th>\n",
       "      <td>database2/database2/test/3.jpg</td>\n",
       "    </tr>\n",
       "    <tr>\n",
       "      <th>4</th>\n",
       "      <td>database2/database2/test/4.jpg</td>\n",
       "    </tr>\n",
       "    <tr>\n",
       "      <th>...</th>\n",
       "      <td>...</td>\n",
       "    </tr>\n",
       "    <tr>\n",
       "      <th>30492</th>\n",
       "      <td>database3/database3/m.01507p/75-FaceId-0_align...</td>\n",
       "    </tr>\n",
       "    <tr>\n",
       "      <th>30493</th>\n",
       "      <td>database3/database3/m.01507p/76-FaceId-0_align...</td>\n",
       "    </tr>\n",
       "    <tr>\n",
       "      <th>30494</th>\n",
       "      <td>database3/database3/m.01507p/77-FaceId-0_align...</td>\n",
       "    </tr>\n",
       "    <tr>\n",
       "      <th>30495</th>\n",
       "      <td>database3/database3/m.01507p/78-FaceId-0_align...</td>\n",
       "    </tr>\n",
       "    <tr>\n",
       "      <th>30496</th>\n",
       "      <td>database3/database3/m.01507p/79-FaceId-0_align...</td>\n",
       "    </tr>\n",
       "  </tbody>\n",
       "</table>\n",
       "<p>30497 rows × 1 columns</p>\n",
       "</div>"
      ],
      "text/plain": [
       "                                                filename\n",
       "0                         database2/database2/test/0.jpg\n",
       "1                         database2/database2/test/1.jpg\n",
       "2                         database2/database2/test/2.jpg\n",
       "3                         database2/database2/test/3.jpg\n",
       "4                         database2/database2/test/4.jpg\n",
       "...                                                  ...\n",
       "30492  database3/database3/m.01507p/75-FaceId-0_align...\n",
       "30493  database3/database3/m.01507p/76-FaceId-0_align...\n",
       "30494  database3/database3/m.01507p/77-FaceId-0_align...\n",
       "30495  database3/database3/m.01507p/78-FaceId-0_align...\n",
       "30496  database3/database3/m.01507p/79-FaceId-0_align...\n",
       "\n",
       "[30497 rows x 1 columns]"
      ]
     },
     "execution_count": 4,
     "metadata": {},
     "output_type": "execute_result"
    }
   ],
   "source": [
    "df_test.head(-10)"
   ]
  },
  {
   "cell_type": "markdown",
   "metadata": {},
   "source": [
    "# 1 Data exploration"
   ]
  },
  {
   "cell_type": "code",
   "execution_count": 5,
   "metadata": {},
   "outputs": [
    {
     "name": "stdout",
     "output_type": "stream",
     "text": [
      "<class 'pandas.core.frame.DataFrame'>\n",
      "Int64Index: 101341 entries, 0 to 101344\n",
      "Data columns (total 3 columns):\n",
      " #   Column         Non-Null Count   Dtype  \n",
      "---  ------         --------------   -----  \n",
      " 0   filename       101341 non-null  object \n",
      " 1   FaceOcclusion  101341 non-null  float64\n",
      " 2   gender         101341 non-null  float64\n",
      "dtypes: float64(2), object(1)\n",
      "memory usage: 3.1+ MB\n"
     ]
    }
   ],
   "source": [
    "df_train.info()"
   ]
  },
  {
   "cell_type": "code",
   "execution_count": 6,
   "metadata": {},
   "outputs": [],
   "source": [
    "\n",
    "preprocess = False\n",
    "\n",
    "if preprocess== True:\n",
    "\n",
    "    # Preprocess the train data\n",
    "    print('Preprocessing train dataset')\n",
    "    df_train = preprocess_df(df_train, image_dir, process_mediapipe=False)\n",
    "\n",
    "    # Preprocess the test data\n",
    "    print('\\nPreprocessing test dataset')\n",
    "    df_test = preprocess_df(df_test, image_dir, process_mediapipe=False)\n",
    "\n",
    "    # Save the preprocessed data to pickle file\n",
    "    with open('df_train.pkl', 'wb') as file: pickle.dump(df_train, file)\n",
    "    with open('df_test.pkl', 'wb') as file:  pickle.dump(df_test, file)\n",
    "\n",
    "else:\n",
    "    # opened already preprocessed files\n",
    "    with open('df_train.pkl', 'rb') as file:\n",
    "        df_train = pickle.load(file)\n",
    "    with open('df_test.pkl', 'rb') as file:\n",
    "        df_test = pickle.load(file)\n",
    "\n",
    "# print('Preprocessing train dataset')\n",
    "# df_train_pp = preprocess_df(df_train, image_dir, process_mediapipe=False)\n",
    "# print('\\nPreprocessing test dataset')\n",
    "# df_test_pp = preprocess_df(df_test, image_dir, process_mediapipe=False)"
   ]
  },
  {
   "cell_type": "code",
   "execution_count": 7,
   "metadata": {},
   "outputs": [
    {
     "data": {
      "text/html": [
       "<div>\n",
       "<style scoped>\n",
       "    .dataframe tbody tr th:only-of-type {\n",
       "        vertical-align: middle;\n",
       "    }\n",
       "\n",
       "    .dataframe tbody tr th {\n",
       "        vertical-align: top;\n",
       "    }\n",
       "\n",
       "    .dataframe thead th {\n",
       "        text-align: right;\n",
       "    }\n",
       "</style>\n",
       "<table border=\"1\" class=\"dataframe\">\n",
       "  <thead>\n",
       "    <tr style=\"text-align: right;\">\n",
       "      <th></th>\n",
       "      <th>FaceOcclusion</th>\n",
       "      <th>gender</th>\n",
       "      <th>initial_index</th>\n",
       "      <th>gender_id</th>\n",
       "      <th>db_number</th>\n",
       "      <th>count</th>\n",
       "      <th>color</th>\n",
       "      <th>image_width</th>\n",
       "      <th>image_height</th>\n",
       "      <th>channels</th>\n",
       "      <th>pixels</th>\n",
       "      <th>no_color</th>\n",
       "    </tr>\n",
       "  </thead>\n",
       "  <tbody>\n",
       "    <tr>\n",
       "      <th>count</th>\n",
       "      <td>101341.000000</td>\n",
       "      <td>101341.000000</td>\n",
       "      <td>101341.000000</td>\n",
       "      <td>101341.000000</td>\n",
       "      <td>101341.000000</td>\n",
       "      <td>101341.0</td>\n",
       "      <td>101341.000000</td>\n",
       "      <td>101341.0</td>\n",
       "      <td>101341.0</td>\n",
       "      <td>101341.0</td>\n",
       "      <td>101341.0</td>\n",
       "      <td>101341.000000</td>\n",
       "    </tr>\n",
       "    <tr>\n",
       "      <th>mean</th>\n",
       "      <td>0.087769</td>\n",
       "      <td>0.599738</td>\n",
       "      <td>50671.339093</td>\n",
       "      <td>0.601080</td>\n",
       "      <td>2.394668</td>\n",
       "      <td>1.0</td>\n",
       "      <td>0.861112</td>\n",
       "      <td>224.0</td>\n",
       "      <td>224.0</td>\n",
       "      <td>3.0</td>\n",
       "      <td>50176.0</td>\n",
       "      <td>0.138888</td>\n",
       "    </tr>\n",
       "    <tr>\n",
       "      <th>std</th>\n",
       "      <td>0.090530</td>\n",
       "      <td>0.486110</td>\n",
       "      <td>29256.219556</td>\n",
       "      <td>0.489679</td>\n",
       "      <td>0.911578</td>\n",
       "      <td>0.0</td>\n",
       "      <td>0.345831</td>\n",
       "      <td>0.0</td>\n",
       "      <td>0.0</td>\n",
       "      <td>0.0</td>\n",
       "      <td>0.0</td>\n",
       "      <td>0.345831</td>\n",
       "    </tr>\n",
       "    <tr>\n",
       "      <th>min</th>\n",
       "      <td>0.000000</td>\n",
       "      <td>0.000000</td>\n",
       "      <td>0.000000</td>\n",
       "      <td>0.000000</td>\n",
       "      <td>1.000000</td>\n",
       "      <td>1.0</td>\n",
       "      <td>0.000000</td>\n",
       "      <td>224.0</td>\n",
       "      <td>224.0</td>\n",
       "      <td>3.0</td>\n",
       "      <td>50176.0</td>\n",
       "      <td>0.000000</td>\n",
       "    </tr>\n",
       "    <tr>\n",
       "      <th>25%</th>\n",
       "      <td>0.019000</td>\n",
       "      <td>0.001000</td>\n",
       "      <td>25335.000000</td>\n",
       "      <td>0.000000</td>\n",
       "      <td>1.000000</td>\n",
       "      <td>1.0</td>\n",
       "      <td>1.000000</td>\n",
       "      <td>224.0</td>\n",
       "      <td>224.0</td>\n",
       "      <td>3.0</td>\n",
       "      <td>50176.0</td>\n",
       "      <td>0.000000</td>\n",
       "    </tr>\n",
       "    <tr>\n",
       "      <th>50%</th>\n",
       "      <td>0.054000</td>\n",
       "      <td>0.996000</td>\n",
       "      <td>50670.000000</td>\n",
       "      <td>1.000000</td>\n",
       "      <td>3.000000</td>\n",
       "      <td>1.0</td>\n",
       "      <td>1.000000</td>\n",
       "      <td>224.0</td>\n",
       "      <td>224.0</td>\n",
       "      <td>3.0</td>\n",
       "      <td>50176.0</td>\n",
       "      <td>0.000000</td>\n",
       "    </tr>\n",
       "    <tr>\n",
       "      <th>75%</th>\n",
       "      <td>0.131000</td>\n",
       "      <td>0.999000</td>\n",
       "      <td>76008.000000</td>\n",
       "      <td>1.000000</td>\n",
       "      <td>3.000000</td>\n",
       "      <td>1.0</td>\n",
       "      <td>1.000000</td>\n",
       "      <td>224.0</td>\n",
       "      <td>224.0</td>\n",
       "      <td>3.0</td>\n",
       "      <td>50176.0</td>\n",
       "      <td>0.000000</td>\n",
       "    </tr>\n",
       "    <tr>\n",
       "      <th>max</th>\n",
       "      <td>1.000000</td>\n",
       "      <td>1.000000</td>\n",
       "      <td>101344.000000</td>\n",
       "      <td>1.000000</td>\n",
       "      <td>3.000000</td>\n",
       "      <td>1.0</td>\n",
       "      <td>1.000000</td>\n",
       "      <td>224.0</td>\n",
       "      <td>224.0</td>\n",
       "      <td>3.0</td>\n",
       "      <td>50176.0</td>\n",
       "      <td>1.000000</td>\n",
       "    </tr>\n",
       "  </tbody>\n",
       "</table>\n",
       "</div>"
      ],
      "text/plain": [
       "       FaceOcclusion         gender  initial_index      gender_id  \\\n",
       "count  101341.000000  101341.000000  101341.000000  101341.000000   \n",
       "mean        0.087769       0.599738   50671.339093       0.601080   \n",
       "std         0.090530       0.486110   29256.219556       0.489679   \n",
       "min         0.000000       0.000000       0.000000       0.000000   \n",
       "25%         0.019000       0.001000   25335.000000       0.000000   \n",
       "50%         0.054000       0.996000   50670.000000       1.000000   \n",
       "75%         0.131000       0.999000   76008.000000       1.000000   \n",
       "max         1.000000       1.000000  101344.000000       1.000000   \n",
       "\n",
       "           db_number     count          color  image_width  image_height  \\\n",
       "count  101341.000000  101341.0  101341.000000     101341.0      101341.0   \n",
       "mean        2.394668       1.0       0.861112        224.0         224.0   \n",
       "std         0.911578       0.0       0.345831          0.0           0.0   \n",
       "min         1.000000       1.0       0.000000        224.0         224.0   \n",
       "25%         1.000000       1.0       1.000000        224.0         224.0   \n",
       "50%         3.000000       1.0       1.000000        224.0         224.0   \n",
       "75%         3.000000       1.0       1.000000        224.0         224.0   \n",
       "max         3.000000       1.0       1.000000        224.0         224.0   \n",
       "\n",
       "       channels    pixels       no_color  \n",
       "count  101341.0  101341.0  101341.000000  \n",
       "mean        3.0   50176.0       0.138888  \n",
       "std         0.0       0.0       0.345831  \n",
       "min         3.0   50176.0       0.000000  \n",
       "25%         3.0   50176.0       0.000000  \n",
       "50%         3.0   50176.0       0.000000  \n",
       "75%         3.0   50176.0       0.000000  \n",
       "max         3.0   50176.0       1.000000  "
      ]
     },
     "execution_count": 7,
     "metadata": {},
     "output_type": "execute_result"
    }
   ],
   "source": [
    "df_train.describe()"
   ]
  },
  {
   "cell_type": "code",
   "execution_count": 8,
   "metadata": {},
   "outputs": [
    {
     "data": {
      "text/html": [
       "<div>\n",
       "<style scoped>\n",
       "    .dataframe tbody tr th:only-of-type {\n",
       "        vertical-align: middle;\n",
       "    }\n",
       "\n",
       "    .dataframe tbody tr th {\n",
       "        vertical-align: top;\n",
       "    }\n",
       "\n",
       "    .dataframe thead th {\n",
       "        text-align: right;\n",
       "    }\n",
       "</style>\n",
       "<table border=\"1\" class=\"dataframe\">\n",
       "  <thead>\n",
       "    <tr style=\"text-align: right;\">\n",
       "      <th></th>\n",
       "      <th>gender</th>\n",
       "      <th>FaceOcclusion</th>\n",
       "      <th>initial_index</th>\n",
       "      <th>gender_id</th>\n",
       "      <th>db_number</th>\n",
       "      <th>count</th>\n",
       "      <th>color</th>\n",
       "      <th>image_width</th>\n",
       "      <th>image_height</th>\n",
       "      <th>channels</th>\n",
       "      <th>pixels</th>\n",
       "      <th>no_color</th>\n",
       "    </tr>\n",
       "  </thead>\n",
       "  <tbody>\n",
       "    <tr>\n",
       "      <th>count</th>\n",
       "      <td>30507.0</td>\n",
       "      <td>30507.0</td>\n",
       "      <td>30507.000000</td>\n",
       "      <td>30507.000000</td>\n",
       "      <td>30507.000000</td>\n",
       "      <td>30507.0</td>\n",
       "      <td>30507.000000</td>\n",
       "      <td>30507.0</td>\n",
       "      <td>30507.0</td>\n",
       "      <td>30507.0</td>\n",
       "      <td>30507.0</td>\n",
       "      <td>30507.000000</td>\n",
       "    </tr>\n",
       "    <tr>\n",
       "      <th>mean</th>\n",
       "      <td>-1.0</td>\n",
       "      <td>-1.0</td>\n",
       "      <td>15253.000000</td>\n",
       "      <td>0.365654</td>\n",
       "      <td>2.983381</td>\n",
       "      <td>1.0</td>\n",
       "      <td>0.807225</td>\n",
       "      <td>224.0</td>\n",
       "      <td>224.0</td>\n",
       "      <td>3.0</td>\n",
       "      <td>50176.0</td>\n",
       "      <td>0.192775</td>\n",
       "    </tr>\n",
       "    <tr>\n",
       "      <th>std</th>\n",
       "      <td>0.0</td>\n",
       "      <td>0.0</td>\n",
       "      <td>8806.756667</td>\n",
       "      <td>0.481621</td>\n",
       "      <td>0.127842</td>\n",
       "      <td>0.0</td>\n",
       "      <td>0.394485</td>\n",
       "      <td>0.0</td>\n",
       "      <td>0.0</td>\n",
       "      <td>0.0</td>\n",
       "      <td>0.0</td>\n",
       "      <td>0.394485</td>\n",
       "    </tr>\n",
       "    <tr>\n",
       "      <th>min</th>\n",
       "      <td>-1.0</td>\n",
       "      <td>-1.0</td>\n",
       "      <td>0.000000</td>\n",
       "      <td>0.000000</td>\n",
       "      <td>2.000000</td>\n",
       "      <td>1.0</td>\n",
       "      <td>0.000000</td>\n",
       "      <td>224.0</td>\n",
       "      <td>224.0</td>\n",
       "      <td>3.0</td>\n",
       "      <td>50176.0</td>\n",
       "      <td>0.000000</td>\n",
       "    </tr>\n",
       "    <tr>\n",
       "      <th>25%</th>\n",
       "      <td>-1.0</td>\n",
       "      <td>-1.0</td>\n",
       "      <td>7626.500000</td>\n",
       "      <td>0.000000</td>\n",
       "      <td>3.000000</td>\n",
       "      <td>1.0</td>\n",
       "      <td>1.000000</td>\n",
       "      <td>224.0</td>\n",
       "      <td>224.0</td>\n",
       "      <td>3.0</td>\n",
       "      <td>50176.0</td>\n",
       "      <td>0.000000</td>\n",
       "    </tr>\n",
       "    <tr>\n",
       "      <th>50%</th>\n",
       "      <td>-1.0</td>\n",
       "      <td>-1.0</td>\n",
       "      <td>15253.000000</td>\n",
       "      <td>0.000000</td>\n",
       "      <td>3.000000</td>\n",
       "      <td>1.0</td>\n",
       "      <td>1.000000</td>\n",
       "      <td>224.0</td>\n",
       "      <td>224.0</td>\n",
       "      <td>3.0</td>\n",
       "      <td>50176.0</td>\n",
       "      <td>0.000000</td>\n",
       "    </tr>\n",
       "    <tr>\n",
       "      <th>75%</th>\n",
       "      <td>-1.0</td>\n",
       "      <td>-1.0</td>\n",
       "      <td>22879.500000</td>\n",
       "      <td>1.000000</td>\n",
       "      <td>3.000000</td>\n",
       "      <td>1.0</td>\n",
       "      <td>1.000000</td>\n",
       "      <td>224.0</td>\n",
       "      <td>224.0</td>\n",
       "      <td>3.0</td>\n",
       "      <td>50176.0</td>\n",
       "      <td>0.000000</td>\n",
       "    </tr>\n",
       "    <tr>\n",
       "      <th>max</th>\n",
       "      <td>-1.0</td>\n",
       "      <td>-1.0</td>\n",
       "      <td>30506.000000</td>\n",
       "      <td>1.000000</td>\n",
       "      <td>3.000000</td>\n",
       "      <td>1.0</td>\n",
       "      <td>1.000000</td>\n",
       "      <td>224.0</td>\n",
       "      <td>224.0</td>\n",
       "      <td>3.0</td>\n",
       "      <td>50176.0</td>\n",
       "      <td>1.000000</td>\n",
       "    </tr>\n",
       "  </tbody>\n",
       "</table>\n",
       "</div>"
      ],
      "text/plain": [
       "        gender  FaceOcclusion  initial_index     gender_id     db_number  \\\n",
       "count  30507.0        30507.0   30507.000000  30507.000000  30507.000000   \n",
       "mean      -1.0           -1.0   15253.000000      0.365654      2.983381   \n",
       "std        0.0            0.0    8806.756667      0.481621      0.127842   \n",
       "min       -1.0           -1.0       0.000000      0.000000      2.000000   \n",
       "25%       -1.0           -1.0    7626.500000      0.000000      3.000000   \n",
       "50%       -1.0           -1.0   15253.000000      0.000000      3.000000   \n",
       "75%       -1.0           -1.0   22879.500000      1.000000      3.000000   \n",
       "max       -1.0           -1.0   30506.000000      1.000000      3.000000   \n",
       "\n",
       "         count         color  image_width  image_height  channels   pixels  \\\n",
       "count  30507.0  30507.000000      30507.0       30507.0   30507.0  30507.0   \n",
       "mean       1.0      0.807225        224.0         224.0       3.0  50176.0   \n",
       "std        0.0      0.394485          0.0           0.0       0.0      0.0   \n",
       "min        1.0      0.000000        224.0         224.0       3.0  50176.0   \n",
       "25%        1.0      1.000000        224.0         224.0       3.0  50176.0   \n",
       "50%        1.0      1.000000        224.0         224.0       3.0  50176.0   \n",
       "75%        1.0      1.000000        224.0         224.0       3.0  50176.0   \n",
       "max        1.0      1.000000        224.0         224.0       3.0  50176.0   \n",
       "\n",
       "           no_color  \n",
       "count  30507.000000  \n",
       "mean       0.192775  \n",
       "std        0.394485  \n",
       "min        0.000000  \n",
       "25%        0.000000  \n",
       "50%        0.000000  \n",
       "75%        0.000000  \n",
       "max        1.000000  "
      ]
     },
     "execution_count": 8,
     "metadata": {},
     "output_type": "execute_result"
    }
   ],
   "source": [
    "df_test.describe()"
   ]
  },
  {
   "cell_type": "code",
   "execution_count": 9,
   "metadata": {},
   "outputs": [],
   "source": [
    "# CONCLUSION DU PREPROCESSING :\n",
    "# -----------------------------\n",
    "# Average face occlusion is 8.8% (median 5.4%) with a standard deviation of 9.1% => really not a gausian distribution !\n",
    "# 60.1% of images are men (gender_id=1) and 39.9% are women. Information not available in test dataset\n",
    "# All images can be read, but some are black and white\n",
    "# All images havethe same format (224x224) and 3 channels\n",
    "# 86.1% of images are in color and 13.9% in black and white (80.7% and 19.3% in test)"
   ]
  },
  {
   "cell_type": "code",
   "execution_count": 10,
   "metadata": {},
   "outputs": [
    {
     "name": "stdout",
     "output_type": "stream",
     "text": [
      "Training set:\n",
      "                                            filename  FaceOcclusion  gender  \\\n",
      "0                          database1/img00015966.jpg          0.015   0.997   \n",
      "1  database3/database3/m.01bczm/134-FaceId-0_alig...          0.011   0.998   \n",
      "2  database3/database3/m.01bldq/0-FaceId-0_align.jpg          0.071   0.997   \n",
      "3                          database1/img00017957.jpg          0.351   0.001   \n",
      "4                          database1/img00020727.jpg          0.128   0.001   \n",
      "\n",
      "   initial_index  gender_id  db_number  count  color  image_width  \\\n",
      "0           3803          1          1      1      1          224   \n",
      "1          83938          1          3      1      1          224   \n",
      "2          85474          1          3      1      1          224   \n",
      "3           1978          0          1      1      1          224   \n",
      "4           1200          0          1      1      1          224   \n",
      "\n",
      "   image_height  channels  pixels  no_color  \n",
      "0           224         3   50176         0  \n",
      "1           224         3   50176         0  \n",
      "2           224         3   50176         0  \n",
      "3           224         3   50176         0  \n",
      "4           224         3   50176         0  \n",
      "\n",
      "Validation set:\n",
      "                                            filename  FaceOcclusion  gender  \\\n",
      "0  database3/database3/m.01b1jr/84-FaceId-0_align...          0.061   1.000   \n",
      "1  database3/database3/m.018j3w/68-FaceId-0_align...          0.213   0.845   \n",
      "2  database3/database3/m.01bjs2/47-FaceId-0_align...          0.195   0.999   \n",
      "3                          database1/img00010973.jpg          0.015   0.999   \n",
      "4  database3/database3/m.01541z/61-FaceId-0_align...          0.108   0.001   \n",
      "\n",
      "   initial_index  gender_id  db_number  count  color  image_width  \\\n",
      "0          81529          1          3      1      0          224   \n",
      "1          68785          1          3      1      1          224   \n",
      "2          85013          1          3      1      1          224   \n",
      "3          27502          1          1      1      1          224   \n",
      "4          33150          0          3      1      1          224   \n",
      "\n",
      "   image_height  channels  pixels  no_color  \n",
      "0           224         3   50176         1  \n",
      "1           224         3   50176         0  \n",
      "2           224         3   50176         0  \n",
      "3           224         3   50176         0  \n",
      "4           224         3   50176         0  \n"
     ]
    }
   ],
   "source": [
    "import pandas as pd\n",
    "from sklearn.model_selection import train_test_split\n",
    "\n",
    "\n",
    "# Randomly disrupt the dataset\n",
    "df_train_shuffled = df_train.sample(frac=1, random_state=42).reset_index(drop=True)\n",
    "\n",
    "df_train, df_val = train_test_split(df_train_shuffled, test_size=0.2, random_state=42)\n",
    "\n",
    "# reset index\n",
    "df_train = df_train.reset_index(drop=True)\n",
    "df_val = df_val.reset_index(drop=True)\n",
    "\n",
    "print(\"Training set:\")\n",
    "print(df_train.head())\n",
    "print(\"\\nValidation set:\")\n",
    "print(df_val.head())"
   ]
  },
  {
   "cell_type": "markdown",
   "metadata": {},
   "source": [
    "# 1. Image - source, color ratio and gender\n",
    "\n",
    "## 1.1 General distribution between source (db1, db2 & db3), color ratio and gender"
   ]
  },
  {
   "cell_type": "code",
   "execution_count": 11,
   "metadata": {},
   "outputs": [
    {
     "data": {
      "text/html": [
       "<div>\n",
       "<style scoped>\n",
       "    .dataframe tbody tr th:only-of-type {\n",
       "        vertical-align: middle;\n",
       "    }\n",
       "\n",
       "    .dataframe tbody tr th {\n",
       "        vertical-align: top;\n",
       "    }\n",
       "\n",
       "    .dataframe thead th {\n",
       "        text-align: right;\n",
       "    }\n",
       "</style>\n",
       "<table border=\"1\" class=\"dataframe\">\n",
       "  <thead>\n",
       "    <tr style=\"text-align: right;\">\n",
       "      <th></th>\n",
       "      <th>Occl_ratio</th>\n",
       "      <th>|</th>\n",
       "      <th>count</th>\n",
       "      <th>db_ratio</th>\n",
       "      <th>|</th>\n",
       "      <th>color</th>\n",
       "      <th>color_ratio</th>\n",
       "      <th>no_color</th>\n",
       "      <th>no_color_ratio</th>\n",
       "      <th>|</th>\n",
       "      <th>gender_id</th>\n",
       "      <th>men_ratio</th>\n",
       "      <th>men_occ_ratio</th>\n",
       "      <th>|</th>\n",
       "      <th>women</th>\n",
       "      <th>women_ratio</th>\n",
       "      <th>women_occ_ratio</th>\n",
       "    </tr>\n",
       "    <tr>\n",
       "      <th>db_number</th>\n",
       "      <th></th>\n",
       "      <th></th>\n",
       "      <th></th>\n",
       "      <th></th>\n",
       "      <th></th>\n",
       "      <th></th>\n",
       "      <th></th>\n",
       "      <th></th>\n",
       "      <th></th>\n",
       "      <th></th>\n",
       "      <th></th>\n",
       "      <th></th>\n",
       "      <th></th>\n",
       "      <th></th>\n",
       "      <th></th>\n",
       "      <th></th>\n",
       "      <th></th>\n",
       "    </tr>\n",
       "  </thead>\n",
       "  <tbody>\n",
       "    <tr>\n",
       "      <th>1</th>\n",
       "      <td>11.40%</td>\n",
       "      <td>|</td>\n",
       "      <td>24045.0</td>\n",
       "      <td>29.66%</td>\n",
       "      <td>|</td>\n",
       "      <td>24045.0</td>\n",
       "      <td>100.00%</td>\n",
       "      <td>0.0</td>\n",
       "      <td>0.00%</td>\n",
       "      <td>|</td>\n",
       "      <td>8725.0</td>\n",
       "      <td>36.29%</td>\n",
       "      <td>7.45%</td>\n",
       "      <td>|</td>\n",
       "      <td>15320.0</td>\n",
       "      <td>63.71%</td>\n",
       "      <td>13.65%</td>\n",
       "    </tr>\n",
       "    <tr>\n",
       "      <th>2</th>\n",
       "      <td>12.81%</td>\n",
       "      <td>|</td>\n",
       "      <td>1093.0</td>\n",
       "      <td>1.35%</td>\n",
       "      <td>|</td>\n",
       "      <td>1001.0</td>\n",
       "      <td>91.58%</td>\n",
       "      <td>92.0</td>\n",
       "      <td>8.42%</td>\n",
       "      <td>|</td>\n",
       "      <td>584.0</td>\n",
       "      <td>53.43%</td>\n",
       "      <td>8.88%</td>\n",
       "      <td>|</td>\n",
       "      <td>509.0</td>\n",
       "      <td>46.57%</td>\n",
       "      <td>17.31%</td>\n",
       "    </tr>\n",
       "    <tr>\n",
       "      <th>3</th>\n",
       "      <td>7.55%</td>\n",
       "      <td>|</td>\n",
       "      <td>55934.0</td>\n",
       "      <td>68.99%</td>\n",
       "      <td>|</td>\n",
       "      <td>44758.0</td>\n",
       "      <td>80.02%</td>\n",
       "      <td>11176.0</td>\n",
       "      <td>19.98%</td>\n",
       "      <td>|</td>\n",
       "      <td>39434.0</td>\n",
       "      <td>70.50%</td>\n",
       "      <td>5.60%</td>\n",
       "      <td>|</td>\n",
       "      <td>16500.0</td>\n",
       "      <td>29.50%</td>\n",
       "      <td>12.21%</td>\n",
       "    </tr>\n",
       "    <tr>\n",
       "      <th>total</th>\n",
       "      <td>8.77%</td>\n",
       "      <td>|</td>\n",
       "      <td>81072.0</td>\n",
       "      <td>100.00%</td>\n",
       "      <td>|</td>\n",
       "      <td>69804.0</td>\n",
       "      <td>86.10%</td>\n",
       "      <td>11268.0</td>\n",
       "      <td>13.90%</td>\n",
       "      <td>|</td>\n",
       "      <td>48743.0</td>\n",
       "      <td>60.12%</td>\n",
       "      <td>5.97%</td>\n",
       "      <td>|</td>\n",
       "      <td>32329.0</td>\n",
       "      <td>39.88%</td>\n",
       "      <td>12.97%</td>\n",
       "    </tr>\n",
       "  </tbody>\n",
       "</table>\n",
       "</div>"
      ],
      "text/plain": [
       "          Occl_ratio  |    count db_ratio  |    color color_ratio  no_color  \\\n",
       "db_number                                                                     \n",
       "1             11.40%  |  24045.0   29.66%  |  24045.0     100.00%       0.0   \n",
       "2             12.81%  |   1093.0    1.35%  |   1001.0      91.58%      92.0   \n",
       "3              7.55%  |  55934.0   68.99%  |  44758.0      80.02%   11176.0   \n",
       "total          8.77%  |  81072.0  100.00%  |  69804.0      86.10%   11268.0   \n",
       "\n",
       "          no_color_ratio  |  gender_id men_ratio men_occ_ratio  |    women  \\\n",
       "db_number                                                                    \n",
       "1                  0.00%  |     8725.0    36.29%         7.45%  |  15320.0   \n",
       "2                  8.42%  |      584.0    53.43%         8.88%  |    509.0   \n",
       "3                 19.98%  |    39434.0    70.50%         5.60%  |  16500.0   \n",
       "total             13.90%  |    48743.0    60.12%         5.97%  |  32329.0   \n",
       "\n",
       "          women_ratio women_occ_ratio  \n",
       "db_number                              \n",
       "1              63.71%          13.65%  \n",
       "2              46.57%          17.31%  \n",
       "3              29.50%          12.21%  \n",
       "total          39.88%          12.97%  "
      ]
     },
     "execution_count": 11,
     "metadata": {},
     "output_type": "execute_result"
    }
   ],
   "source": [
    "# TRAIN DATASET\n",
    "# ------------\n",
    "\n",
    "df_train['women'] = 1 - df_train['gender_id']\n",
    "df_train['women_occ'] = df_train['FaceOcclusion'] * df_train['women']\n",
    "df_train['men_occ'] = df_train['FaceOcclusion'] * df_train['gender_id']\n",
    "\n",
    "stats_db = df_train.groupby('db_number')[['FaceOcclusion','count', 'color', 'no_color','gender_id','men_occ','women','women_occ']].sum()\n",
    "# add total row\n",
    "stats_db.loc['total'] = stats_db.sum()\n",
    "# get mean Face occlusion\n",
    "stats_db['FaceOcclusion'] = stats_db['FaceOcclusion'] / stats_db['count']\n",
    "stats_db['men_occ']   = stats_db['men_occ'] / stats_db['gender_id']\n",
    "stats_db['women_occ'] = stats_db['women_occ'] / stats_db['women']\n",
    "# format to get ratios in %                  \n",
    "stats_db['db_ratio'] = (stats_db['count'] / len(df_train)) .map('{:.2%}'.format)\n",
    "stats_db['color_ratio'] = (stats_db['color'] / stats_db['count']) .map('{:.2%}'.format)\n",
    "stats_db['no_color_ratio'] = (stats_db['no_color'] / stats_db['count']) .map('{:.2%}'.format)\n",
    "stats_db['men_ratio'] = ( stats_db['gender_id'] / stats_db['count']) .map('{:.2%}'.format)\n",
    "stats_db['women_ratio'] = ( stats_db['women'] / stats_db['count']) .map('{:.2%}'.format)\n",
    "stats_db['Occl_ratio'] = stats_db['FaceOcclusion'].map('{:.2%}'.format)\n",
    "stats_db['men_occ_ratio'] = stats_db['men_occ'].map('{:.2%}'.format)\n",
    "stats_db['women_occ_ratio'] = stats_db['women_occ'].map('{:.2%}'.format)\n",
    "stats_db['|'] = '|'\n",
    "stats_db = stats_db[['Occl_ratio','|','count', 'db_ratio','|', 'color', 'color_ratio', 'no_color', 'no_color_ratio','|','gender_id','men_ratio','men_occ_ratio','|','women','women_ratio','women_occ_ratio']]\n",
    "\n",
    "#show stats on train dataset\n",
    "stats_db\n"
   ]
  },
  {
   "cell_type": "code",
   "execution_count": 12,
   "metadata": {},
   "outputs": [],
   "source": [
    "# TRAIN - ANALYSIS OF FACE OCCLUSION, COLOR AND GENDER\n",
    "# ----------------------------------------------------------\n",
    "# The 3 data sources do not share the same distribution in many regards :\n",
    "#   - face occlusion is 8.78% overall, higher in db1 and db2 (11.4% and 13.0%), and lower in db3 (7.6%), partly due to gender distribution\n",
    "#   - face occlusion is and lower for men (6.0%) and than for womne (13%), and particularly high in db2 (13.0% overall and 17.6% for women)\n",
    "#   - gender is imbalanced with 60% of men and 40% of women, with strong disparities between databases (db1 has 36%-64% distribution, db2 has 53%-47% and db3 has 70%-30%)\n",
    "#   - color images account for 86.1% of images: db1 has only color images, whereas db2 and db3 contain 8.2% and 20% respectively of black and white images (with all 3 channels identical)\n",
    "\n",
    "# In summary for each database in the train dataset :\n",
    "#   - db1 : high face occlusion (11.42% overall and 13.7.% for women), mainly women (34%-64%), only color images\n",
    "#   - db2 : very high face occlusion (13.0% overall and 17.6% for women), almost balanced gender (53%-47%), 8.2% black and white images\n",
    "#   - db3 : low face occlusion (7.6% overall and 12.3% for women), mainly men (71%-29%), 20% black and white images"
   ]
  },
  {
   "cell_type": "code",
   "execution_count": 13,
   "metadata": {},
   "outputs": [
    {
     "data": {
      "text/html": [
       "<div>\n",
       "<style scoped>\n",
       "    .dataframe tbody tr th:only-of-type {\n",
       "        vertical-align: middle;\n",
       "    }\n",
       "\n",
       "    .dataframe tbody tr th {\n",
       "        vertical-align: top;\n",
       "    }\n",
       "\n",
       "    .dataframe thead th {\n",
       "        text-align: right;\n",
       "    }\n",
       "</style>\n",
       "<table border=\"1\" class=\"dataframe\">\n",
       "  <thead>\n",
       "    <tr style=\"text-align: right;\">\n",
       "      <th></th>\n",
       "      <th>count</th>\n",
       "      <th>db_ratio</th>\n",
       "      <th>|</th>\n",
       "      <th>color</th>\n",
       "      <th>color_ratio</th>\n",
       "      <th>no_color</th>\n",
       "      <th>no_color_ratio</th>\n",
       "      <th>|</th>\n",
       "    </tr>\n",
       "    <tr>\n",
       "      <th>db_number</th>\n",
       "      <th></th>\n",
       "      <th></th>\n",
       "      <th></th>\n",
       "      <th></th>\n",
       "      <th></th>\n",
       "      <th></th>\n",
       "      <th></th>\n",
       "      <th></th>\n",
       "    </tr>\n",
       "  </thead>\n",
       "  <tbody>\n",
       "    <tr>\n",
       "      <th>2</th>\n",
       "      <td>507</td>\n",
       "      <td>1.66%</td>\n",
       "      <td>|</td>\n",
       "      <td>475</td>\n",
       "      <td>93.69%</td>\n",
       "      <td>32</td>\n",
       "      <td>6.31%</td>\n",
       "      <td>|</td>\n",
       "    </tr>\n",
       "    <tr>\n",
       "      <th>3</th>\n",
       "      <td>30000</td>\n",
       "      <td>98.34%</td>\n",
       "      <td>|</td>\n",
       "      <td>24151</td>\n",
       "      <td>80.50%</td>\n",
       "      <td>5849</td>\n",
       "      <td>19.50%</td>\n",
       "      <td>|</td>\n",
       "    </tr>\n",
       "    <tr>\n",
       "      <th>total</th>\n",
       "      <td>30507</td>\n",
       "      <td>100.00%</td>\n",
       "      <td>|</td>\n",
       "      <td>24626</td>\n",
       "      <td>80.72%</td>\n",
       "      <td>5881</td>\n",
       "      <td>19.28%</td>\n",
       "      <td>|</td>\n",
       "    </tr>\n",
       "  </tbody>\n",
       "</table>\n",
       "</div>"
      ],
      "text/plain": [
       "           count db_ratio  |  color color_ratio  no_color no_color_ratio  |\n",
       "db_number                                                                  \n",
       "2            507    1.66%  |    475      93.69%        32          6.31%  |\n",
       "3          30000   98.34%  |  24151      80.50%      5849         19.50%  |\n",
       "total      30507  100.00%  |  24626      80.72%      5881         19.28%  |"
      ]
     },
     "execution_count": 13,
     "metadata": {},
     "output_type": "execute_result"
    }
   ],
   "source": [
    "# TEST DATASET - ANALYSIS OF COLOR\n",
    "# --------------------------------\n",
    " \n",
    "stats_test_db = df_test.groupby('db_number')[['count', 'color', 'no_color']].sum()\n",
    "stats_test_db.loc['total'] = stats_test_db.sum()\n",
    "stats_test_db['db_ratio'] = (stats_test_db['count'] / len(df_test)) .map('{:.2%}'.format)\n",
    "stats_test_db['color_ratio'] = (stats_test_db['color'] / stats_test_db['count']) .map('{:.2%}'.format)\n",
    "stats_test_db['no_color_ratio'] = (stats_test_db['no_color'] / stats_test_db['count']) .map('{:.2%}'.format)\n",
    "stats_test_db['|'] = '|'\n",
    "stats_test_db = stats_test_db[['count', 'db_ratio','|', 'color', 'color_ratio', 'no_color', 'no_color_ratio','|']]\n",
    "stats_test_db"
   ]
  },
  {
   "cell_type": "code",
   "execution_count": 14,
   "metadata": {},
   "outputs": [],
   "source": [
    "# CONCLUSION OF ANALYSIS OF TEST DATASET\n",
    "# --------------------------------------\n",
    "\n",
    "# db 3 composed almost all of the test dataset (98.3%), db2 only 1.7% and db1 is absent\n",
    "# slighlty lower proportion of color images (81%) in test dataset versus train dataset (86%)\n",
    "\n",
    "# gender is unknown in the test dataset, but could be estimated by training a model from the train dataset and applying it to the test dataset\n",
    "\n",
    "# Need to take into account the differences in distribution between train and test datasets when training the model\n",
    "# => need to balance datasets (data augmentation, oversampling, undersampling, etc.) or apply wieghts in the training process\n",
    "# => it will be interesting to train a black and white model and a color model and combine the predictions, as pixel distribution will be very different\n",
    "# it could be interesting to train men and women models separately, as face occlusion levels are very different between them\n",
    "#  \n",
    "# => 4 models all together to train if crossing gender with color and black and white images)\n"
   ]
  },
  {
   "cell_type": "markdown",
   "metadata": {},
   "source": [
    "## 1.3 Gender distribution & occlusion"
   ]
  },
  {
   "cell_type": "code",
   "execution_count": 15,
   "metadata": {},
   "outputs": [],
   "source": [
    "# Analysis of gender distribution in df_train and df_test"
   ]
  },
  {
   "cell_type": "code",
   "execution_count": 16,
   "metadata": {},
   "outputs": [
    {
     "data": {
      "text/html": [
       "<div>\n",
       "<style scoped>\n",
       "    .dataframe tbody tr th:only-of-type {\n",
       "        vertical-align: middle;\n",
       "    }\n",
       "\n",
       "    .dataframe tbody tr th {\n",
       "        vertical-align: top;\n",
       "    }\n",
       "\n",
       "    .dataframe thead th {\n",
       "        text-align: right;\n",
       "    }\n",
       "</style>\n",
       "<table border=\"1\" class=\"dataframe\">\n",
       "  <thead>\n",
       "    <tr style=\"text-align: right;\">\n",
       "      <th></th>\n",
       "      <th>count</th>\n",
       "      <th>gender_id</th>\n",
       "      <th>FaceOcclusion</th>\n",
       "      <th>gender_ratio</th>\n",
       "    </tr>\n",
       "    <tr>\n",
       "      <th>db_number</th>\n",
       "      <th></th>\n",
       "      <th></th>\n",
       "      <th></th>\n",
       "      <th></th>\n",
       "    </tr>\n",
       "  </thead>\n",
       "  <tbody>\n",
       "    <tr>\n",
       "      <th>1</th>\n",
       "      <td>24045.0</td>\n",
       "      <td>8725.0</td>\n",
       "      <td>11.40%</td>\n",
       "      <td>36.29%</td>\n",
       "    </tr>\n",
       "    <tr>\n",
       "      <th>2</th>\n",
       "      <td>1093.0</td>\n",
       "      <td>584.0</td>\n",
       "      <td>12.81%</td>\n",
       "      <td>53.43%</td>\n",
       "    </tr>\n",
       "    <tr>\n",
       "      <th>3</th>\n",
       "      <td>55934.0</td>\n",
       "      <td>39434.0</td>\n",
       "      <td>7.55%</td>\n",
       "      <td>70.50%</td>\n",
       "    </tr>\n",
       "    <tr>\n",
       "      <th>TOTAL</th>\n",
       "      <td>81072.0</td>\n",
       "      <td>48743.0</td>\n",
       "      <td>8.77%</td>\n",
       "      <td>60.12%</td>\n",
       "    </tr>\n",
       "  </tbody>\n",
       "</table>\n",
       "</div>"
      ],
      "text/plain": [
       "             count  gender_id FaceOcclusion gender_ratio\n",
       "db_number                                               \n",
       "1          24045.0     8725.0        11.40%       36.29%\n",
       "2           1093.0      584.0        12.81%       53.43%\n",
       "3          55934.0    39434.0         7.55%       70.50%\n",
       "TOTAL      81072.0    48743.0         8.77%       60.12%"
      ]
     },
     "execution_count": 16,
     "metadata": {},
     "output_type": "execute_result"
    }
   ],
   "source": [
    "stats = df_train.groupby('db_number')[['count','gender_id','FaceOcclusion']].sum()\n",
    "stats.loc['TOTAL'] = stats.sum()\n",
    "stats['FaceOcclusion'] = stats['FaceOcclusion']/stats['count']\n",
    "stats['FaceOcclusion'] = stats['FaceOcclusion'].map('{:.2%}'.format)\n",
    "stats['gender_ratio'] = stats['gender_id']/stats['count']\n",
    "stats ['gender_ratio'] = stats['gender_ratio'].map('{:.2%}'.format)     \n",
    "stats\n",
    "\n",
    "#=> Forte occlusion sur la datbase 2, le plus fort occlusion alors que 53% de femmes sur la database 1"
   ]
  },
  {
   "cell_type": "code",
   "execution_count": 17,
   "metadata": {},
   "outputs": [
    {
     "data": {
      "text/html": [
       "<div>\n",
       "<style scoped>\n",
       "    .dataframe tbody tr th:only-of-type {\n",
       "        vertical-align: middle;\n",
       "    }\n",
       "\n",
       "    .dataframe tbody tr th {\n",
       "        vertical-align: top;\n",
       "    }\n",
       "\n",
       "    .dataframe thead th {\n",
       "        text-align: right;\n",
       "    }\n",
       "</style>\n",
       "<table border=\"1\" class=\"dataframe\">\n",
       "  <thead>\n",
       "    <tr style=\"text-align: right;\">\n",
       "      <th></th>\n",
       "      <th>count</th>\n",
       "      <th>FaceOcclusion</th>\n",
       "    </tr>\n",
       "    <tr>\n",
       "      <th>gender_id</th>\n",
       "      <th></th>\n",
       "      <th></th>\n",
       "    </tr>\n",
       "  </thead>\n",
       "  <tbody>\n",
       "    <tr>\n",
       "      <th>0</th>\n",
       "      <td>32329.0</td>\n",
       "      <td>12.97%</td>\n",
       "    </tr>\n",
       "    <tr>\n",
       "      <th>1</th>\n",
       "      <td>48743.0</td>\n",
       "      <td>5.97%</td>\n",
       "    </tr>\n",
       "    <tr>\n",
       "      <th>TOTAL</th>\n",
       "      <td>81072.0</td>\n",
       "      <td>8.77%</td>\n",
       "    </tr>\n",
       "  </tbody>\n",
       "</table>\n",
       "</div>"
      ],
      "text/plain": [
       "             count FaceOcclusion\n",
       "gender_id                       \n",
       "0          32329.0        12.97%\n",
       "1          48743.0         5.97%\n",
       "TOTAL      81072.0         8.77%"
      ]
     },
     "execution_count": 17,
     "metadata": {},
     "output_type": "execute_result"
    }
   ],
   "source": [
    "# Face occlusion by gender\n",
    "\n",
    "stats = df_train.groupby('gender_id')[['count','FaceOcclusion']].sum()\n",
    "stats.loc['TOTAL'] = stats.sum()\n",
    "stats['FaceOcclusion'] = stats['FaceOcclusion']/stats['count']\n",
    "stats['FaceOcclusion'] = stats['FaceOcclusion'].map('{:.2%}'.format)\n",
    "stats"
   ]
  },
  {
   "cell_type": "code",
   "execution_count": 18,
   "metadata": {},
   "outputs": [
    {
     "data": {
      "text/html": [
       "<div>\n",
       "<style scoped>\n",
       "    .dataframe tbody tr th:only-of-type {\n",
       "        vertical-align: middle;\n",
       "    }\n",
       "\n",
       "    .dataframe tbody tr th {\n",
       "        vertical-align: top;\n",
       "    }\n",
       "\n",
       "    .dataframe thead th {\n",
       "        text-align: right;\n",
       "    }\n",
       "</style>\n",
       "<table border=\"1\" class=\"dataframe\">\n",
       "  <thead>\n",
       "    <tr style=\"text-align: right;\">\n",
       "      <th></th>\n",
       "      <th>count</th>\n",
       "      <th>FaceOcclusion</th>\n",
       "    </tr>\n",
       "  </thead>\n",
       "  <tbody>\n",
       "    <tr>\n",
       "      <th>(0, 1)</th>\n",
       "      <td>15320.0</td>\n",
       "      <td>13.65%</td>\n",
       "    </tr>\n",
       "    <tr>\n",
       "      <th>(0, 2)</th>\n",
       "      <td>509.0</td>\n",
       "      <td>17.31%</td>\n",
       "    </tr>\n",
       "    <tr>\n",
       "      <th>(0, 3)</th>\n",
       "      <td>16500.0</td>\n",
       "      <td>12.21%</td>\n",
       "    </tr>\n",
       "    <tr>\n",
       "      <th>(1, 1)</th>\n",
       "      <td>8725.0</td>\n",
       "      <td>7.45%</td>\n",
       "    </tr>\n",
       "    <tr>\n",
       "      <th>(1, 2)</th>\n",
       "      <td>584.0</td>\n",
       "      <td>8.88%</td>\n",
       "    </tr>\n",
       "    <tr>\n",
       "      <th>(1, 3)</th>\n",
       "      <td>39434.0</td>\n",
       "      <td>5.60%</td>\n",
       "    </tr>\n",
       "    <tr>\n",
       "      <th>TOTAL</th>\n",
       "      <td>81072.0</td>\n",
       "      <td>8.77%</td>\n",
       "    </tr>\n",
       "  </tbody>\n",
       "</table>\n",
       "</div>"
      ],
      "text/plain": [
       "          count FaceOcclusion\n",
       "(0, 1)  15320.0        13.65%\n",
       "(0, 2)    509.0        17.31%\n",
       "(0, 3)  16500.0        12.21%\n",
       "(1, 1)   8725.0         7.45%\n",
       "(1, 2)    584.0         8.88%\n",
       "(1, 3)  39434.0         5.60%\n",
       "TOTAL   81072.0         8.77%"
      ]
     },
     "execution_count": 18,
     "metadata": {},
     "output_type": "execute_result"
    }
   ],
   "source": [
    "# stats by gender and database (1,2 or 3)\n",
    "\n",
    "stats = df_train.groupby(['gender_id','db_number'])[['count','FaceOcclusion']].sum()\n",
    "stats.loc['TOTAL'] = stats.sum()\n",
    "stats['FaceOcclusion'] = stats['FaceOcclusion']/stats['count']\n",
    "stats['FaceOcclusion'] = stats['FaceOcclusion'].map('{:.2%}'.format)\n",
    "stats"
   ]
  },
  {
   "cell_type": "code",
   "execution_count": 19,
   "metadata": {},
   "outputs": [
    {
     "data": {
      "text/html": [
       "<div>\n",
       "<style scoped>\n",
       "    .dataframe tbody tr th:only-of-type {\n",
       "        vertical-align: middle;\n",
       "    }\n",
       "\n",
       "    .dataframe tbody tr th {\n",
       "        vertical-align: top;\n",
       "    }\n",
       "\n",
       "    .dataframe thead th {\n",
       "        text-align: right;\n",
       "    }\n",
       "</style>\n",
       "<table border=\"1\" class=\"dataframe\">\n",
       "  <thead>\n",
       "    <tr style=\"text-align: right;\">\n",
       "      <th></th>\n",
       "      <th>filename</th>\n",
       "      <th>FaceOcclusion</th>\n",
       "      <th>gender</th>\n",
       "      <th>initial_index</th>\n",
       "      <th>gender_id</th>\n",
       "      <th>db_number</th>\n",
       "      <th>count</th>\n",
       "      <th>color</th>\n",
       "      <th>image_width</th>\n",
       "      <th>image_height</th>\n",
       "      <th>channels</th>\n",
       "      <th>pixels</th>\n",
       "      <th>no_color</th>\n",
       "      <th>women</th>\n",
       "      <th>women_occ</th>\n",
       "      <th>men_occ</th>\n",
       "      <th>ranges</th>\n",
       "      <th>range_id</th>\n",
       "      <th>stratification</th>\n",
       "    </tr>\n",
       "  </thead>\n",
       "  <tbody>\n",
       "    <tr>\n",
       "      <th>0</th>\n",
       "      <td>database1/img00015966.jpg</td>\n",
       "      <td>0.015</td>\n",
       "      <td>0.997</td>\n",
       "      <td>3803</td>\n",
       "      <td>1</td>\n",
       "      <td>1</td>\n",
       "      <td>1</td>\n",
       "      <td>1</td>\n",
       "      <td>224</td>\n",
       "      <td>224</td>\n",
       "      <td>3</td>\n",
       "      <td>50176</td>\n",
       "      <td>0</td>\n",
       "      <td>0</td>\n",
       "      <td>0.000</td>\n",
       "      <td>0.015</td>\n",
       "      <td>0-0.025</td>\n",
       "      <td>0</td>\n",
       "      <td>10.0</td>\n",
       "    </tr>\n",
       "    <tr>\n",
       "      <th>1</th>\n",
       "      <td>database3/database3/m.01bczm/134-FaceId-0_alig...</td>\n",
       "      <td>0.011</td>\n",
       "      <td>0.998</td>\n",
       "      <td>83938</td>\n",
       "      <td>1</td>\n",
       "      <td>3</td>\n",
       "      <td>1</td>\n",
       "      <td>1</td>\n",
       "      <td>224</td>\n",
       "      <td>224</td>\n",
       "      <td>3</td>\n",
       "      <td>50176</td>\n",
       "      <td>0</td>\n",
       "      <td>0</td>\n",
       "      <td>0.000</td>\n",
       "      <td>0.011</td>\n",
       "      <td>0-0.025</td>\n",
       "      <td>0</td>\n",
       "      <td>10.0</td>\n",
       "    </tr>\n",
       "    <tr>\n",
       "      <th>2</th>\n",
       "      <td>database3/database3/m.01bldq/0-FaceId-0_align.jpg</td>\n",
       "      <td>0.071</td>\n",
       "      <td>0.997</td>\n",
       "      <td>85474</td>\n",
       "      <td>1</td>\n",
       "      <td>3</td>\n",
       "      <td>1</td>\n",
       "      <td>1</td>\n",
       "      <td>224</td>\n",
       "      <td>224</td>\n",
       "      <td>3</td>\n",
       "      <td>50176</td>\n",
       "      <td>0</td>\n",
       "      <td>0</td>\n",
       "      <td>0.000</td>\n",
       "      <td>0.071</td>\n",
       "      <td>0.05-0.075</td>\n",
       "      <td>2</td>\n",
       "      <td>12.0</td>\n",
       "    </tr>\n",
       "    <tr>\n",
       "      <th>3</th>\n",
       "      <td>database1/img00017957.jpg</td>\n",
       "      <td>0.351</td>\n",
       "      <td>0.001</td>\n",
       "      <td>1978</td>\n",
       "      <td>0</td>\n",
       "      <td>1</td>\n",
       "      <td>1</td>\n",
       "      <td>1</td>\n",
       "      <td>224</td>\n",
       "      <td>224</td>\n",
       "      <td>3</td>\n",
       "      <td>50176</td>\n",
       "      <td>0</td>\n",
       "      <td>1</td>\n",
       "      <td>0.351</td>\n",
       "      <td>0.000</td>\n",
       "      <td>&gt;0.35</td>\n",
       "      <td>9</td>\n",
       "      <td>9.0</td>\n",
       "    </tr>\n",
       "    <tr>\n",
       "      <th>4</th>\n",
       "      <td>database1/img00020727.jpg</td>\n",
       "      <td>0.128</td>\n",
       "      <td>0.001</td>\n",
       "      <td>1200</td>\n",
       "      <td>0</td>\n",
       "      <td>1</td>\n",
       "      <td>1</td>\n",
       "      <td>1</td>\n",
       "      <td>224</td>\n",
       "      <td>224</td>\n",
       "      <td>3</td>\n",
       "      <td>50176</td>\n",
       "      <td>0</td>\n",
       "      <td>1</td>\n",
       "      <td>0.128</td>\n",
       "      <td>0.000</td>\n",
       "      <td>0.1-0.15</td>\n",
       "      <td>4</td>\n",
       "      <td>4.0</td>\n",
       "    </tr>\n",
       "  </tbody>\n",
       "</table>\n",
       "</div>"
      ],
      "text/plain": [
       "                                            filename  FaceOcclusion  gender  \\\n",
       "0                          database1/img00015966.jpg          0.015   0.997   \n",
       "1  database3/database3/m.01bczm/134-FaceId-0_alig...          0.011   0.998   \n",
       "2  database3/database3/m.01bldq/0-FaceId-0_align.jpg          0.071   0.997   \n",
       "3                          database1/img00017957.jpg          0.351   0.001   \n",
       "4                          database1/img00020727.jpg          0.128   0.001   \n",
       "\n",
       "   initial_index  gender_id  db_number  count  color  image_width  \\\n",
       "0           3803          1          1      1      1          224   \n",
       "1          83938          1          3      1      1          224   \n",
       "2          85474          1          3      1      1          224   \n",
       "3           1978          0          1      1      1          224   \n",
       "4           1200          0          1      1      1          224   \n",
       "\n",
       "   image_height  channels  pixels  no_color  women  women_occ  men_occ  \\\n",
       "0           224         3   50176         0      0      0.000    0.015   \n",
       "1           224         3   50176         0      0      0.000    0.011   \n",
       "2           224         3   50176         0      0      0.000    0.071   \n",
       "3           224         3   50176         0      1      0.351    0.000   \n",
       "4           224         3   50176         0      1      0.128    0.000   \n",
       "\n",
       "       ranges range_id  stratification  \n",
       "0     0-0.025        0            10.0  \n",
       "1     0-0.025        0            10.0  \n",
       "2  0.05-0.075        2            12.0  \n",
       "3       >0.35        9             9.0  \n",
       "4    0.1-0.15        4             4.0  "
      ]
     },
     "execution_count": 19,
     "metadata": {},
     "output_type": "execute_result"
    }
   ],
   "source": [
    "# --------------------------------------------------------------------\n",
    "# STRATIFICIATION OF THE TRAIN DATASET (new label for split & weights)\n",
    "# --------------------------------------------------------------------\n",
    "\n",
    "# define the occlusion levels (color images)\n",
    "bins = [0, 0.025, 0.05, 0.075, 0.1, 0.15, 0.2, 0.25, 0.3, 0.35, 1.0]\n",
    "labels = ['0-0.025', '0.025-0.05', '0.05-0.075', '0.075-0.1', '0.1-0.15', '0.15-0.2', '0.2-0.25', '0.25-0.3', '0.3-0.35', '>0.35']\n",
    "\n",
    "\n",
    "# add the labels to the train dataset\n",
    "df_train['ranges'] = pd.cut(df_train['FaceOcclusion'], bins=bins, labels=labels, include_lowest=True)\n",
    "df_train['range_id'] = df_train['ranges'].apply(lambda x: labels.index(x))\n",
    "\n",
    "# create a stratification labal and show distirbution\n",
    "df_train['stratification'] = df_train['gender_id']*10 + (df_train['range_id']).astype(float)\n",
    "df_train.groupby('stratification')['count'].sum()\n",
    "df_train.head()\n"
   ]
  },
  {
   "cell_type": "code",
   "execution_count": 20,
   "metadata": {},
   "outputs": [],
   "source": [
    "class Dataset_s(torch.utils.data.Dataset):\n",
    "    'Characterizes a dataset for PyTorch'\n",
    "    def __init__(self, df, image_dir):\n",
    "         'Initialization'\n",
    "         self.image_dir = image_dir\n",
    "         self.df = df\n",
    "         self.transform = transforms.ToTensor()\n",
    "         \n",
    "    def __len__(self):\n",
    "        'Denotes the total number of samples'\n",
    "        return len(self.df)\n",
    "\n",
    "    def __getitem__(self, index):\n",
    "        'Generates one sample of data'\n",
    "        # Select sample\n",
    "        row = self.df.loc[index]\n",
    "        filename = row['filename']\n",
    "        ranges = row['ranges']\n",
    "        \n",
    "\n",
    "        # Load data and get label\n",
    "        img = Image.open(f\"{self.image_dir}/{filename}\")  \n",
    "        X = self.transform(img)\n",
    "\n",
    "        y = row['FaceOcclusion']     \n",
    "        y = np.float32(y)\n",
    "\n",
    "        gender = row['gender_id'] # changed to have round values 0 or 1\n",
    "\n",
    "        return X, y, gender, filename,ranges"
   ]
  },
  {
   "cell_type": "code",
   "execution_count": 21,
   "metadata": {},
   "outputs": [],
   "source": [
    "# loss function\n",
    "\n",
    "class WeightedMSELoss(nn.Module):\n",
    "    def __init__(self, weights):\n",
    "        super(WeightedMSELoss, self,).__init__()\n",
    "        self.weights = weights\n",
    "        self.mse = nn.MSELoss(reduction='none')\n",
    "\n",
    "    def forward(self, inputs, targets, ranges):\n",
    "        loss = self.mse(inputs, targets)\n",
    "        # 将 ranges 转换为标签索引\n",
    "        # ranges_indices = torch.tensor([labels.index(label) for label in ranges], device=inputs.device)\n",
    "        weights = torch.tensor([self.weights[label] for label in ranges], device=inputs.device)\n",
    "        weighted_loss = loss * weights\n",
    "        return weighted_loss.mean()\n",
    "\n",
    "class WeightedMSELoss2(nn.Module):\n",
    "    def __init__(self, range_weights, gender_weights):\n",
    "        super(WeightedMSELoss2, self).__init__()\n",
    "        self.range_weights = range_weights\n",
    "        self.gender_weights = gender_weights\n",
    "        self.mse = nn.MSELoss(reduction='none')\n",
    "\n",
    "    def forward(self, inputs, targets, ranges, genders):\n",
    "        loss = self.mse(inputs, targets)\n",
    "        range_weights = torch.tensor([self.range_weights[str(label)] for label in ranges], device=inputs.device)\n",
    "        gender_weights = torch.tensor([self.gender_weights['male'] if gender > 0.5 else self.gender_weights['female'] for gender in genders], device=inputs.device)\n",
    "        total_weights = range_weights * gender_weights\n",
    "        weighted_loss = loss * total_weights\n",
    "        return weighted_loss.mean()\n",
    "    \n",
    "    \n",
    "def get_weights(df,column):\n",
    "    range_counts = df[column].value_counts().sort_index()\n",
    "    range_means = df.groupby(column)['FaceOcclusion'].mean()\n",
    "    stats_ = pd.concat([range_counts, range_means], axis=1)\n",
    "    print(stats_)\n",
    "\n",
    "    # compute the weights for the loss function\n",
    "    total_samples = len(df)\n",
    "    weights = {label: total_samples / count for label, count in range_counts.items()}\n",
    "    print(weights)\n",
    "    return weights\n",
    "\n",
    "def get_loader(df, image_dir, params):\n",
    "    df = df.reset_index(drop=True)\n",
    "    set = Dataset_s(df, image_dir)\n",
    "    loader = torch.utils.data.DataLoader(set, **params)\n",
    "    return loader\n",
    "\n"
   ]
  },
  {
   "cell_type": "markdown",
   "metadata": {},
   "source": [
    "#### Model color"
   ]
  },
  {
   "cell_type": "code",
   "execution_count": 22,
   "metadata": {},
   "outputs": [
    {
     "name": "stdout",
     "output_type": "stream",
     "text": [
      "            ranges  FaceOcclusion\n",
      "0-0.025      21368       0.011212\n",
      "0.025-0.05   11388       0.036696\n",
      "0.05-0.075    7166       0.062435\n",
      "0.075-0.1     5713       0.087605\n",
      "0.1-0.15      8945       0.123887\n",
      "0.15-0.2      5849       0.173674\n",
      "0.2-0.25      3832       0.223945\n",
      "0.25-0.3      2767       0.274394\n",
      "0.3-0.35      1729       0.322716\n",
      ">0.35         1047       0.396809\n",
      "{'0-0.025': 3.2667540247098463, '0.025-0.05': 6.129610115911486, '0.05-0.075': 9.74099916271281, '0.075-0.1': 12.218449151058989, '0.1-0.15': 7.8036892118501955, '0.15-0.2': 11.934347751752437, '0.2-0.25': 18.2160751565762, '0.25-0.3': 25.22732200939646, '0.3-0.35': 40.37246963562753, '>0.35': 66.67048710601719}\n",
      "{'0-0.025': 3.2667540247098463, '0.025-0.05': 6.129610115911486, '0.05-0.075': 9.74099916271281, '0.075-0.1': 12.218449151058989, '0.1-0.15': 7.8036892118501955, '0.15-0.2': 11.934347751752437, '0.2-0.25': 18.2160751565762, '0.25-0.3': 25.22732200939646, '0.3-0.35': 40.37246963562753, '>0.35': 66.67048710601719}\n"
     ]
    },
    {
     "name": "stderr",
     "output_type": "stream",
     "text": [
      "c:\\Users\\ASUS\\envs\\virtual\\Lib\\site-packages\\torchvision\\models\\_utils.py:208: UserWarning: The parameter 'pretrained' is deprecated since 0.13 and may be removed in the future, please use 'weights' instead.\n",
      "  warnings.warn(\n",
      "c:\\Users\\ASUS\\envs\\virtual\\Lib\\site-packages\\torchvision\\models\\_utils.py:223: UserWarning: Arguments other than a weight enum or `None` for 'weights' are deprecated since 0.13 and may be removed in the future. The current behavior is equivalent to passing `weights=ResNet18_Weights.IMAGENET1K_V1`. You can also use `weights=ResNet18_Weights.DEFAULT` to get the most up-to-date weights.\n",
      "  warnings.warn(msg)\n"
     ]
    },
    {
     "name": "stdout",
     "output_type": "stream",
     "text": [
      "Epoch 1/30\n"
     ]
    },
    {
     "name": "stderr",
     "output_type": "stream",
     "text": [
      "  0%|          | 3/8726 [00:01<46:06,  3.15it/s]  "
     ]
    },
    {
     "name": "stdout",
     "output_type": "stream",
     "text": [
      "Batch 0, Loss: 20.13312530517578\n"
     ]
    },
    {
     "name": "stderr",
     "output_type": "stream",
     "text": [
      " 23%|██▎       | 2002/8726 [02:32<10:39, 10.51it/s]"
     ]
    },
    {
     "name": "stdout",
     "output_type": "stream",
     "text": [
      "Batch 2000, Loss: 0.013743779622018337\n"
     ]
    },
    {
     "name": "stderr",
     "output_type": "stream",
     "text": [
      " 46%|████▌     | 4002/8726 [05:05<06:07, 12.86it/s]"
     ]
    },
    {
     "name": "stdout",
     "output_type": "stream",
     "text": [
      "Batch 4000, Loss: 0.009911954402923584\n"
     ]
    },
    {
     "name": "stderr",
     "output_type": "stream",
     "text": [
      " 69%|██████▉   | 6002/8726 [07:41<03:36, 12.60it/s]"
     ]
    },
    {
     "name": "stdout",
     "output_type": "stream",
     "text": [
      "Batch 6000, Loss: 0.03389262408018112\n"
     ]
    },
    {
     "name": "stderr",
     "output_type": "stream",
     "text": [
      " 92%|█████████▏| 8002/8726 [10:20<01:10, 10.25it/s]"
     ]
    },
    {
     "name": "stdout",
     "output_type": "stream",
     "text": [
      "Batch 8000, Loss: 0.014618917368352413\n"
     ]
    },
    {
     "name": "stderr",
     "output_type": "stream",
     "text": [
      "100%|██████████| 8726/8726 [12:53<00:00, 11.28it/s]\n"
     ]
    },
    {
     "name": "stdout",
     "output_type": "stream",
     "text": [
      "Epoch [1/30], Loss: 0.0545817563183851\n",
      "Epoch 2/30\n"
     ]
    },
    {
     "name": "stderr",
     "output_type": "stream",
     "text": [
      "  0%|          | 3/8726 [00:00<06:24, 22.67it/s]"
     ]
    },
    {
     "name": "stdout",
     "output_type": "stream",
     "text": [
      "Batch 0, Loss: 0.023117423057556152\n"
     ]
    },
    {
     "name": "stderr",
     "output_type": "stream",
     "text": [
      " 23%|██▎       | 2005/8726 [01:05<03:38, 30.73it/s]"
     ]
    },
    {
     "name": "stdout",
     "output_type": "stream",
     "text": [
      "Batch 2000, Loss: 0.006940849125385284\n"
     ]
    },
    {
     "name": "stderr",
     "output_type": "stream",
     "text": [
      " 46%|████▌     | 4006/8726 [02:09<02:31, 31.16it/s]"
     ]
    },
    {
     "name": "stdout",
     "output_type": "stream",
     "text": [
      "Batch 4000, Loss: 0.00224939058534801\n"
     ]
    },
    {
     "name": "stderr",
     "output_type": "stream",
     "text": [
      " 69%|██████▉   | 6006/8726 [03:14<01:26, 31.31it/s]"
     ]
    },
    {
     "name": "stdout",
     "output_type": "stream",
     "text": [
      "Batch 6000, Loss: 0.0030018759425729513\n"
     ]
    },
    {
     "name": "stderr",
     "output_type": "stream",
     "text": [
      " 92%|█████████▏| 8005/8726 [04:16<00:22, 31.58it/s]"
     ]
    },
    {
     "name": "stdout",
     "output_type": "stream",
     "text": [
      "Batch 8000, Loss: 0.021892445161938667\n"
     ]
    },
    {
     "name": "stderr",
     "output_type": "stream",
     "text": [
      "100%|██████████| 8726/8726 [04:39<00:00, 31.26it/s]\n"
     ]
    },
    {
     "name": "stdout",
     "output_type": "stream",
     "text": [
      "Epoch [2/30], Loss: 0.014090677687975211\n",
      "Epoch 3/30\n"
     ]
    },
    {
     "name": "stderr",
     "output_type": "stream",
     "text": [
      "  0%|          | 4/8726 [00:00<04:36, 31.58it/s]"
     ]
    },
    {
     "name": "stdout",
     "output_type": "stream",
     "text": [
      "Batch 0, Loss: 0.010315153747797012\n"
     ]
    },
    {
     "name": "stderr",
     "output_type": "stream",
     "text": [
      " 23%|██▎       | 2004/8726 [01:01<03:26, 32.57it/s]"
     ]
    },
    {
     "name": "stdout",
     "output_type": "stream",
     "text": [
      "Batch 2000, Loss: 0.005578124430030584\n"
     ]
    },
    {
     "name": "stderr",
     "output_type": "stream",
     "text": [
      " 46%|████▌     | 4004/8726 [02:03<02:23, 32.81it/s]"
     ]
    },
    {
     "name": "stdout",
     "output_type": "stream",
     "text": [
      "Batch 4000, Loss: 0.001868493971414864\n"
     ]
    },
    {
     "name": "stderr",
     "output_type": "stream",
     "text": [
      " 69%|██████▉   | 6004/8726 [03:04<01:23, 32.57it/s]"
     ]
    },
    {
     "name": "stdout",
     "output_type": "stream",
     "text": [
      "Batch 6000, Loss: 0.012031331658363342\n"
     ]
    },
    {
     "name": "stderr",
     "output_type": "stream",
     "text": [
      " 92%|█████████▏| 8004/8726 [04:05<00:22, 32.29it/s]"
     ]
    },
    {
     "name": "stdout",
     "output_type": "stream",
     "text": [
      "Batch 8000, Loss: 0.005755335092544556\n"
     ]
    },
    {
     "name": "stderr",
     "output_type": "stream",
     "text": [
      "100%|██████████| 8726/8726 [04:27<00:00, 32.57it/s]\n"
     ]
    },
    {
     "name": "stdout",
     "output_type": "stream",
     "text": [
      "Epoch [3/30], Loss: 0.01055414639845345\n",
      "Epoch 4/30\n"
     ]
    },
    {
     "name": "stderr",
     "output_type": "stream",
     "text": [
      "  0%|          | 4/8726 [00:00<04:39, 31.26it/s]"
     ]
    },
    {
     "name": "stdout",
     "output_type": "stream",
     "text": [
      "Batch 0, Loss: 0.002495615743100643\n"
     ]
    },
    {
     "name": "stderr",
     "output_type": "stream",
     "text": [
      " 23%|██▎       | 2004/8726 [01:01<03:28, 32.17it/s]"
     ]
    },
    {
     "name": "stdout",
     "output_type": "stream",
     "text": [
      "Batch 2000, Loss: 0.006852843798696995\n"
     ]
    },
    {
     "name": "stderr",
     "output_type": "stream",
     "text": [
      " 46%|████▌     | 4004/8726 [02:02<02:24, 32.65it/s]"
     ]
    },
    {
     "name": "stdout",
     "output_type": "stream",
     "text": [
      "Batch 4000, Loss: 0.0028768812771886587\n"
     ]
    },
    {
     "name": "stderr",
     "output_type": "stream",
     "text": [
      " 69%|██████▉   | 6004/8726 [03:03<01:22, 33.04it/s]"
     ]
    },
    {
     "name": "stdout",
     "output_type": "stream",
     "text": [
      "Batch 6000, Loss: 0.002399362623691559\n"
     ]
    },
    {
     "name": "stderr",
     "output_type": "stream",
     "text": [
      " 92%|█████████▏| 8004/8726 [04:05<00:22, 31.97it/s]"
     ]
    },
    {
     "name": "stdout",
     "output_type": "stream",
     "text": [
      "Batch 8000, Loss: 0.00047178854583762586\n"
     ]
    },
    {
     "name": "stderr",
     "output_type": "stream",
     "text": [
      "100%|██████████| 8726/8726 [04:27<00:00, 32.59it/s]\n"
     ]
    },
    {
     "name": "stdout",
     "output_type": "stream",
     "text": [
      "Epoch [4/30], Loss: 0.008517717897481377\n",
      "Epoch 5/30\n"
     ]
    },
    {
     "name": "stderr",
     "output_type": "stream",
     "text": [
      "  0%|          | 3/8726 [00:00<05:08, 28.31it/s]"
     ]
    },
    {
     "name": "stdout",
     "output_type": "stream",
     "text": [
      "Batch 0, Loss: 0.0022904076613485813\n"
     ]
    },
    {
     "name": "stderr",
     "output_type": "stream",
     "text": [
      " 23%|██▎       | 2007/8726 [01:01<03:27, 32.44it/s]"
     ]
    },
    {
     "name": "stdout",
     "output_type": "stream",
     "text": [
      "Batch 2000, Loss: 0.022095881402492523\n"
     ]
    },
    {
     "name": "stderr",
     "output_type": "stream",
     "text": [
      " 46%|████▌     | 4003/8726 [02:02<02:23, 32.89it/s]"
     ]
    },
    {
     "name": "stdout",
     "output_type": "stream",
     "text": [
      "Batch 4000, Loss: 0.006063148379325867\n"
     ]
    },
    {
     "name": "stderr",
     "output_type": "stream",
     "text": [
      " 69%|██████▉   | 6007/8726 [03:03<01:22, 32.87it/s]"
     ]
    },
    {
     "name": "stdout",
     "output_type": "stream",
     "text": [
      "Batch 6000, Loss: 0.002410812769085169\n"
     ]
    },
    {
     "name": "stderr",
     "output_type": "stream",
     "text": [
      " 92%|█████████▏| 8003/8726 [04:05<00:22, 32.31it/s]"
     ]
    },
    {
     "name": "stdout",
     "output_type": "stream",
     "text": [
      "Batch 8000, Loss: 0.0029832441359758377\n"
     ]
    },
    {
     "name": "stderr",
     "output_type": "stream",
     "text": [
      "100%|██████████| 8726/8726 [04:27<00:00, 32.62it/s]\n"
     ]
    },
    {
     "name": "stdout",
     "output_type": "stream",
     "text": [
      "Epoch [5/30], Loss: 0.006855047045354529\n",
      "Epoch 6/30\n"
     ]
    },
    {
     "name": "stderr",
     "output_type": "stream",
     "text": [
      "  0%|          | 3/8726 [00:00<04:51, 29.97it/s]"
     ]
    },
    {
     "name": "stdout",
     "output_type": "stream",
     "text": [
      "Batch 0, Loss: 0.0029804843943566084\n"
     ]
    },
    {
     "name": "stderr",
     "output_type": "stream",
     "text": [
      " 23%|██▎       | 2003/8726 [01:01<03:23, 32.97it/s]"
     ]
    },
    {
     "name": "stdout",
     "output_type": "stream",
     "text": [
      "Batch 2000, Loss: 0.006528818514198065\n"
     ]
    },
    {
     "name": "stderr",
     "output_type": "stream",
     "text": [
      " 46%|████▌     | 4003/8726 [02:02<02:24, 32.65it/s]"
     ]
    },
    {
     "name": "stdout",
     "output_type": "stream",
     "text": [
      "Batch 4000, Loss: 0.0054135872051119804\n"
     ]
    },
    {
     "name": "stderr",
     "output_type": "stream",
     "text": [
      " 69%|██████▉   | 6003/8726 [03:04<01:24, 32.36it/s]"
     ]
    },
    {
     "name": "stdout",
     "output_type": "stream",
     "text": [
      "Batch 6000, Loss: 0.0041282507590949535\n"
     ]
    },
    {
     "name": "stderr",
     "output_type": "stream",
     "text": [
      " 92%|█████████▏| 8003/8726 [04:05<00:22, 32.77it/s]"
     ]
    },
    {
     "name": "stdout",
     "output_type": "stream",
     "text": [
      "Batch 8000, Loss: 0.0027554440312087536\n"
     ]
    },
    {
     "name": "stderr",
     "output_type": "stream",
     "text": [
      "100%|██████████| 8726/8726 [04:27<00:00, 32.58it/s]\n"
     ]
    },
    {
     "name": "stdout",
     "output_type": "stream",
     "text": [
      "Epoch [6/30], Loss: 0.00584310033982845\n",
      "Epoch 7/30\n"
     ]
    },
    {
     "name": "stderr",
     "output_type": "stream",
     "text": [
      "  0%|          | 3/8726 [00:00<05:44, 25.35it/s]"
     ]
    },
    {
     "name": "stdout",
     "output_type": "stream",
     "text": [
      "Batch 0, Loss: 0.001392283709719777\n"
     ]
    },
    {
     "name": "stderr",
     "output_type": "stream",
     "text": [
      " 23%|██▎       | 2003/8726 [01:01<03:25, 32.73it/s]"
     ]
    },
    {
     "name": "stdout",
     "output_type": "stream",
     "text": [
      "Batch 2000, Loss: 0.0013793527614325285\n"
     ]
    },
    {
     "name": "stderr",
     "output_type": "stream",
     "text": [
      " 46%|████▌     | 4003/8726 [02:02<02:24, 32.68it/s]"
     ]
    },
    {
     "name": "stdout",
     "output_type": "stream",
     "text": [
      "Batch 4000, Loss: 0.0006331337499432266\n"
     ]
    },
    {
     "name": "stderr",
     "output_type": "stream",
     "text": [
      " 69%|██████▉   | 6003/8726 [03:04<01:23, 32.45it/s]"
     ]
    },
    {
     "name": "stdout",
     "output_type": "stream",
     "text": [
      "Batch 6000, Loss: 0.006635275669395924\n"
     ]
    },
    {
     "name": "stderr",
     "output_type": "stream",
     "text": [
      " 92%|█████████▏| 8003/8726 [04:05<00:21, 32.98it/s]"
     ]
    },
    {
     "name": "stdout",
     "output_type": "stream",
     "text": [
      "Batch 8000, Loss: 0.01592177525162697\n"
     ]
    },
    {
     "name": "stderr",
     "output_type": "stream",
     "text": [
      "100%|██████████| 8726/8726 [04:27<00:00, 32.58it/s]\n"
     ]
    },
    {
     "name": "stdout",
     "output_type": "stream",
     "text": [
      "Epoch [7/30], Loss: 0.005337192313358656\n",
      "Epoch 8/30\n"
     ]
    },
    {
     "name": "stderr",
     "output_type": "stream",
     "text": [
      "  0%|          | 3/8726 [00:00<04:57, 29.35it/s]"
     ]
    },
    {
     "name": "stdout",
     "output_type": "stream",
     "text": [
      "Batch 0, Loss: 0.0039795152842998505\n"
     ]
    },
    {
     "name": "stderr",
     "output_type": "stream",
     "text": [
      " 23%|██▎       | 2007/8726 [01:01<03:23, 33.02it/s]"
     ]
    },
    {
     "name": "stdout",
     "output_type": "stream",
     "text": [
      "Batch 2000, Loss: 0.01484476588666439\n"
     ]
    },
    {
     "name": "stderr",
     "output_type": "stream",
     "text": [
      " 46%|████▌     | 4007/8726 [02:02<02:26, 32.19it/s]"
     ]
    },
    {
     "name": "stdout",
     "output_type": "stream",
     "text": [
      "Batch 4000, Loss: 0.018821366131305695\n"
     ]
    },
    {
     "name": "stderr",
     "output_type": "stream",
     "text": [
      " 69%|██████▉   | 6003/8726 [03:04<01:23, 32.64it/s]"
     ]
    },
    {
     "name": "stdout",
     "output_type": "stream",
     "text": [
      "Batch 6000, Loss: 0.0018653601873666048\n"
     ]
    },
    {
     "name": "stderr",
     "output_type": "stream",
     "text": [
      " 92%|█████████▏| 8007/8726 [04:05<00:21, 32.85it/s]"
     ]
    },
    {
     "name": "stdout",
     "output_type": "stream",
     "text": [
      "Batch 8000, Loss: 0.028990130871534348\n"
     ]
    },
    {
     "name": "stderr",
     "output_type": "stream",
     "text": [
      "100%|██████████| 8726/8726 [04:27<00:00, 32.63it/s]\n"
     ]
    },
    {
     "name": "stdout",
     "output_type": "stream",
     "text": [
      "Epoch [8/30], Loss: 0.0045592174791486886\n",
      "Epoch 9/30\n"
     ]
    },
    {
     "name": "stderr",
     "output_type": "stream",
     "text": [
      "  0%|          | 4/8726 [00:00<04:35, 31.64it/s]"
     ]
    },
    {
     "name": "stdout",
     "output_type": "stream",
     "text": [
      "Batch 0, Loss: 0.0019278903491795063\n"
     ]
    },
    {
     "name": "stderr",
     "output_type": "stream",
     "text": [
      " 23%|██▎       | 2004/8726 [01:01<03:29, 32.12it/s]"
     ]
    },
    {
     "name": "stdout",
     "output_type": "stream",
     "text": [
      "Batch 2000, Loss: 0.003009365638718009\n"
     ]
    },
    {
     "name": "stderr",
     "output_type": "stream",
     "text": [
      " 46%|████▌     | 4004/8726 [02:03<02:25, 32.44it/s]"
     ]
    },
    {
     "name": "stdout",
     "output_type": "stream",
     "text": [
      "Batch 4000, Loss: 0.005013666115701199\n"
     ]
    },
    {
     "name": "stderr",
     "output_type": "stream",
     "text": [
      " 69%|██████▉   | 6004/8726 [03:04<01:23, 32.77it/s]"
     ]
    },
    {
     "name": "stdout",
     "output_type": "stream",
     "text": [
      "Batch 6000, Loss: 0.00324307382106781\n"
     ]
    },
    {
     "name": "stderr",
     "output_type": "stream",
     "text": [
      " 92%|█████████▏| 8004/8726 [04:05<00:22, 32.43it/s]"
     ]
    },
    {
     "name": "stdout",
     "output_type": "stream",
     "text": [
      "Batch 8000, Loss: 0.0008659203886054456\n"
     ]
    },
    {
     "name": "stderr",
     "output_type": "stream",
     "text": [
      "100%|██████████| 8726/8726 [04:27<00:00, 32.60it/s]\n"
     ]
    },
    {
     "name": "stdout",
     "output_type": "stream",
     "text": [
      "Epoch [9/30], Loss: 0.003970694327098706\n",
      "Epoch 10/30\n"
     ]
    },
    {
     "name": "stderr",
     "output_type": "stream",
     "text": [
      "  0%|          | 4/8726 [00:00<04:40, 31.06it/s]"
     ]
    },
    {
     "name": "stdout",
     "output_type": "stream",
     "text": [
      "Batch 0, Loss: 0.005432022735476494\n"
     ]
    },
    {
     "name": "stderr",
     "output_type": "stream",
     "text": [
      " 23%|██▎       | 2004/8726 [01:01<03:27, 32.37it/s]"
     ]
    },
    {
     "name": "stdout",
     "output_type": "stream",
     "text": [
      "Batch 2000, Loss: 0.0004172328335698694\n"
     ]
    },
    {
     "name": "stderr",
     "output_type": "stream",
     "text": [
      " 46%|████▌     | 4004/8726 [02:03<02:24, 32.67it/s]"
     ]
    },
    {
     "name": "stdout",
     "output_type": "stream",
     "text": [
      "Batch 4000, Loss: 0.003060867078602314\n"
     ]
    },
    {
     "name": "stderr",
     "output_type": "stream",
     "text": [
      " 69%|██████▉   | 6004/8726 [03:04<01:23, 32.78it/s]"
     ]
    },
    {
     "name": "stdout",
     "output_type": "stream",
     "text": [
      "Batch 6000, Loss: 0.006272634491324425\n"
     ]
    },
    {
     "name": "stderr",
     "output_type": "stream",
     "text": [
      " 92%|█████████▏| 8004/8726 [04:05<00:21, 32.84it/s]"
     ]
    },
    {
     "name": "stdout",
     "output_type": "stream",
     "text": [
      "Batch 8000, Loss: 0.0018552382243797183\n"
     ]
    },
    {
     "name": "stderr",
     "output_type": "stream",
     "text": [
      "100%|██████████| 8726/8726 [04:27<00:00, 32.60it/s]\n"
     ]
    },
    {
     "name": "stdout",
     "output_type": "stream",
     "text": [
      "Epoch [10/30], Loss: 0.003561671688979392\n",
      "Epoch 11/30\n"
     ]
    },
    {
     "name": "stderr",
     "output_type": "stream",
     "text": [
      "  0%|          | 4/8726 [00:00<04:43, 30.79it/s]"
     ]
    },
    {
     "name": "stdout",
     "output_type": "stream",
     "text": [
      "Batch 0, Loss: 0.006403532810509205\n"
     ]
    },
    {
     "name": "stderr",
     "output_type": "stream",
     "text": [
      " 23%|██▎       | 2004/8726 [01:02<03:26, 32.57it/s]"
     ]
    },
    {
     "name": "stdout",
     "output_type": "stream",
     "text": [
      "Batch 2000, Loss: 0.0009919130243360996\n"
     ]
    },
    {
     "name": "stderr",
     "output_type": "stream",
     "text": [
      " 46%|████▌     | 4004/8726 [02:03<02:23, 32.87it/s]"
     ]
    },
    {
     "name": "stdout",
     "output_type": "stream",
     "text": [
      "Batch 4000, Loss: 0.0004898543702438474\n"
     ]
    },
    {
     "name": "stderr",
     "output_type": "stream",
     "text": [
      " 69%|██████▉   | 6004/8726 [03:04<01:22, 32.86it/s]"
     ]
    },
    {
     "name": "stdout",
     "output_type": "stream",
     "text": [
      "Batch 6000, Loss: 0.0019915264565497637\n"
     ]
    },
    {
     "name": "stderr",
     "output_type": "stream",
     "text": [
      " 92%|█████████▏| 8004/8726 [04:05<00:22, 32.33it/s]"
     ]
    },
    {
     "name": "stdout",
     "output_type": "stream",
     "text": [
      "Batch 8000, Loss: 0.0008099740371108055\n"
     ]
    },
    {
     "name": "stderr",
     "output_type": "stream",
     "text": [
      "100%|██████████| 8726/8726 [04:28<00:00, 32.56it/s]\n"
     ]
    },
    {
     "name": "stdout",
     "output_type": "stream",
     "text": [
      "Epoch [11/30], Loss: 0.0033102587802005786\n",
      "Epoch 12/30\n"
     ]
    },
    {
     "name": "stderr",
     "output_type": "stream",
     "text": [
      "  0%|          | 3/8726 [00:00<05:22, 27.08it/s]"
     ]
    },
    {
     "name": "stdout",
     "output_type": "stream",
     "text": [
      "Batch 0, Loss: 0.001773116528056562\n"
     ]
    },
    {
     "name": "stderr",
     "output_type": "stream",
     "text": [
      " 23%|██▎       | 2007/8726 [01:01<03:26, 32.61it/s]"
     ]
    },
    {
     "name": "stdout",
     "output_type": "stream",
     "text": [
      "Batch 2000, Loss: 0.0017772124847397208\n"
     ]
    },
    {
     "name": "stderr",
     "output_type": "stream",
     "text": [
      " 46%|████▌     | 4007/8726 [02:03<02:23, 32.91it/s]"
     ]
    },
    {
     "name": "stdout",
     "output_type": "stream",
     "text": [
      "Batch 4000, Loss: 0.004410215653479099\n"
     ]
    },
    {
     "name": "stderr",
     "output_type": "stream",
     "text": [
      " 69%|██████▉   | 6007/8726 [03:04<01:22, 33.09it/s]"
     ]
    },
    {
     "name": "stdout",
     "output_type": "stream",
     "text": [
      "Batch 6000, Loss: 0.006988799665123224\n"
     ]
    },
    {
     "name": "stderr",
     "output_type": "stream",
     "text": [
      " 92%|█████████▏| 8003/8726 [04:05<00:22, 32.49it/s]"
     ]
    },
    {
     "name": "stdout",
     "output_type": "stream",
     "text": [
      "Batch 8000, Loss: 0.0023497510701417923\n"
     ]
    },
    {
     "name": "stderr",
     "output_type": "stream",
     "text": [
      "100%|██████████| 8726/8726 [04:27<00:00, 32.59it/s]\n"
     ]
    },
    {
     "name": "stdout",
     "output_type": "stream",
     "text": [
      "Epoch [12/30], Loss: 0.0028276082435370795\n",
      "Epoch 13/30\n"
     ]
    },
    {
     "name": "stderr",
     "output_type": "stream",
     "text": [
      "  0%|          | 3/8726 [00:00<05:00, 29.07it/s]"
     ]
    },
    {
     "name": "stdout",
     "output_type": "stream",
     "text": [
      "Batch 0, Loss: 0.005103214643895626\n"
     ]
    },
    {
     "name": "stderr",
     "output_type": "stream",
     "text": [
      " 23%|██▎       | 2003/8726 [01:01<03:30, 31.90it/s]"
     ]
    },
    {
     "name": "stdout",
     "output_type": "stream",
     "text": [
      "Batch 2000, Loss: 0.0018922080053016543\n"
     ]
    },
    {
     "name": "stderr",
     "output_type": "stream",
     "text": [
      " 46%|████▌     | 4003/8726 [02:02<02:24, 32.63it/s]"
     ]
    },
    {
     "name": "stdout",
     "output_type": "stream",
     "text": [
      "Batch 4000, Loss: 0.0008160007419064641\n"
     ]
    },
    {
     "name": "stderr",
     "output_type": "stream",
     "text": [
      " 69%|██████▉   | 6003/8726 [03:04<01:24, 32.40it/s]"
     ]
    },
    {
     "name": "stdout",
     "output_type": "stream",
     "text": [
      "Batch 6000, Loss: 0.0016483924118801951\n"
     ]
    },
    {
     "name": "stderr",
     "output_type": "stream",
     "text": [
      " 92%|█████████▏| 8003/8726 [04:06<00:22, 32.13it/s]"
     ]
    },
    {
     "name": "stdout",
     "output_type": "stream",
     "text": [
      "Batch 8000, Loss: 0.007555950433015823\n"
     ]
    },
    {
     "name": "stderr",
     "output_type": "stream",
     "text": [
      "100%|██████████| 8726/8726 [04:28<00:00, 32.49it/s]\n"
     ]
    },
    {
     "name": "stdout",
     "output_type": "stream",
     "text": [
      "Epoch [13/30], Loss: 0.0028503153217826573\n",
      "Epoch 14/30\n"
     ]
    },
    {
     "name": "stderr",
     "output_type": "stream",
     "text": [
      "  0%|          | 3/8726 [00:00<04:51, 29.91it/s]"
     ]
    },
    {
     "name": "stdout",
     "output_type": "stream",
     "text": [
      "Batch 0, Loss: 0.0007125525735318661\n"
     ]
    },
    {
     "name": "stderr",
     "output_type": "stream",
     "text": [
      " 23%|██▎       | 2003/8726 [01:01<03:26, 32.52it/s]"
     ]
    },
    {
     "name": "stdout",
     "output_type": "stream",
     "text": [
      "Batch 2000, Loss: 0.0012088369112461805\n"
     ]
    },
    {
     "name": "stderr",
     "output_type": "stream",
     "text": [
      " 46%|████▌     | 4007/8726 [02:02<02:25, 32.52it/s]"
     ]
    },
    {
     "name": "stdout",
     "output_type": "stream",
     "text": [
      "Batch 4000, Loss: 0.0016192968469113111\n"
     ]
    },
    {
     "name": "stderr",
     "output_type": "stream",
     "text": [
      " 69%|██████▉   | 6003/8726 [03:04<01:24, 32.21it/s]"
     ]
    },
    {
     "name": "stdout",
     "output_type": "stream",
     "text": [
      "Batch 6000, Loss: 0.0006753994966857135\n"
     ]
    },
    {
     "name": "stderr",
     "output_type": "stream",
     "text": [
      " 92%|█████████▏| 8003/8726 [04:06<00:22, 32.58it/s]"
     ]
    },
    {
     "name": "stdout",
     "output_type": "stream",
     "text": [
      "Batch 8000, Loss: 0.00089274812489748\n"
     ]
    },
    {
     "name": "stderr",
     "output_type": "stream",
     "text": [
      "100%|██████████| 8726/8726 [04:28<00:00, 32.47it/s]\n"
     ]
    },
    {
     "name": "stdout",
     "output_type": "stream",
     "text": [
      "Epoch [14/30], Loss: 0.0025422704368687245\n",
      "Epoch 15/30\n"
     ]
    },
    {
     "name": "stderr",
     "output_type": "stream",
     "text": [
      "  0%|          | 4/8726 [00:00<04:34, 31.79it/s]"
     ]
    },
    {
     "name": "stdout",
     "output_type": "stream",
     "text": [
      "Batch 0, Loss: 0.0005727173411287367\n"
     ]
    },
    {
     "name": "stderr",
     "output_type": "stream",
     "text": [
      " 23%|██▎       | 2005/8726 [01:08<04:09, 26.99it/s]"
     ]
    },
    {
     "name": "stdout",
     "output_type": "stream",
     "text": [
      "Batch 2000, Loss: 0.0010265937307849526\n"
     ]
    },
    {
     "name": "stderr",
     "output_type": "stream",
     "text": [
      " 46%|████▌     | 4003/8726 [02:23<03:00, 26.14it/s]"
     ]
    },
    {
     "name": "stdout",
     "output_type": "stream",
     "text": [
      "Batch 4000, Loss: 0.00029133251518942416\n"
     ]
    },
    {
     "name": "stderr",
     "output_type": "stream",
     "text": [
      " 69%|██████▉   | 6004/8726 [03:39<01:40, 27.01it/s]"
     ]
    },
    {
     "name": "stdout",
     "output_type": "stream",
     "text": [
      "Batch 6000, Loss: 0.003695341292768717\n"
     ]
    },
    {
     "name": "stderr",
     "output_type": "stream",
     "text": [
      " 92%|█████████▏| 8005/8726 [04:54<00:26, 26.90it/s]"
     ]
    },
    {
     "name": "stdout",
     "output_type": "stream",
     "text": [
      "Batch 8000, Loss: 0.0006642880034632981\n"
     ]
    },
    {
     "name": "stderr",
     "output_type": "stream",
     "text": [
      "100%|██████████| 8726/8726 [05:21<00:00, 27.10it/s]\n"
     ]
    },
    {
     "name": "stdout",
     "output_type": "stream",
     "text": [
      "Epoch [15/30], Loss: 0.002172995833051513\n",
      "Epoch 16/30\n"
     ]
    },
    {
     "name": "stderr",
     "output_type": "stream",
     "text": [
      "  0%|          | 3/8726 [00:00<05:00, 28.99it/s]"
     ]
    },
    {
     "name": "stdout",
     "output_type": "stream",
     "text": [
      "Batch 0, Loss: 0.0019209744641557336\n"
     ]
    },
    {
     "name": "stderr",
     "output_type": "stream",
     "text": [
      " 23%|██▎       | 2003/8726 [01:03<03:32, 31.69it/s]"
     ]
    },
    {
     "name": "stdout",
     "output_type": "stream",
     "text": [
      "Batch 2000, Loss: 0.001437032944522798\n"
     ]
    },
    {
     "name": "stderr",
     "output_type": "stream",
     "text": [
      " 46%|████▌     | 4003/8726 [02:07<02:29, 31.63it/s]"
     ]
    },
    {
     "name": "stdout",
     "output_type": "stream",
     "text": [
      "Batch 4000, Loss: 0.0007296361727640033\n"
     ]
    },
    {
     "name": "stderr",
     "output_type": "stream",
     "text": [
      " 69%|██████▉   | 6003/8726 [03:10<01:26, 31.43it/s]"
     ]
    },
    {
     "name": "stdout",
     "output_type": "stream",
     "text": [
      "Batch 6000, Loss: 0.0033793109469115734\n"
     ]
    },
    {
     "name": "stderr",
     "output_type": "stream",
     "text": [
      " 92%|█████████▏| 8003/8726 [04:13<00:22, 31.98it/s]"
     ]
    },
    {
     "name": "stdout",
     "output_type": "stream",
     "text": [
      "Batch 8000, Loss: 0.0016753883101046085\n"
     ]
    },
    {
     "name": "stderr",
     "output_type": "stream",
     "text": [
      "100%|██████████| 8726/8726 [04:36<00:00, 31.58it/s]\n"
     ]
    },
    {
     "name": "stdout",
     "output_type": "stream",
     "text": [
      "Epoch [16/30], Loss: 0.002087858919597063\n",
      "Epoch 17/30\n"
     ]
    },
    {
     "name": "stderr",
     "output_type": "stream",
     "text": [
      "  0%|          | 3/8726 [00:00<05:06, 28.42it/s]"
     ]
    },
    {
     "name": "stdout",
     "output_type": "stream",
     "text": [
      "Batch 0, Loss: 0.0014660945162177086\n"
     ]
    },
    {
     "name": "stderr",
     "output_type": "stream",
     "text": [
      " 23%|██▎       | 2003/8726 [01:02<03:29, 32.05it/s]"
     ]
    },
    {
     "name": "stdout",
     "output_type": "stream",
     "text": [
      "Batch 2000, Loss: 0.0030633099377155304\n"
     ]
    },
    {
     "name": "stderr",
     "output_type": "stream",
     "text": [
      " 46%|████▌     | 4003/8726 [02:04<02:25, 32.42it/s]"
     ]
    },
    {
     "name": "stdout",
     "output_type": "stream",
     "text": [
      "Batch 4000, Loss: 0.0005552422371692955\n"
     ]
    },
    {
     "name": "stderr",
     "output_type": "stream",
     "text": [
      " 69%|██████▉   | 6003/8726 [03:05<01:24, 32.39it/s]"
     ]
    },
    {
     "name": "stdout",
     "output_type": "stream",
     "text": [
      "Batch 6000, Loss: 0.009350341744720936\n"
     ]
    },
    {
     "name": "stderr",
     "output_type": "stream",
     "text": [
      " 92%|█████████▏| 8003/8726 [04:06<00:22, 32.26it/s]"
     ]
    },
    {
     "name": "stdout",
     "output_type": "stream",
     "text": [
      "Batch 8000, Loss: 0.002104757120832801\n"
     ]
    },
    {
     "name": "stderr",
     "output_type": "stream",
     "text": [
      "100%|██████████| 8726/8726 [04:28<00:00, 32.47it/s]\n"
     ]
    },
    {
     "name": "stdout",
     "output_type": "stream",
     "text": [
      "Epoch [17/30], Loss: 0.0019600086015227097\n",
      "Epoch 18/30\n"
     ]
    },
    {
     "name": "stderr",
     "output_type": "stream",
     "text": [
      "  0%|          | 3/8726 [00:00<04:55, 29.48it/s]"
     ]
    },
    {
     "name": "stdout",
     "output_type": "stream",
     "text": [
      "Batch 0, Loss: 0.002164243720471859\n"
     ]
    },
    {
     "name": "stderr",
     "output_type": "stream",
     "text": [
      " 23%|██▎       | 2003/8726 [01:01<03:27, 32.34it/s]"
     ]
    },
    {
     "name": "stdout",
     "output_type": "stream",
     "text": [
      "Batch 2000, Loss: 0.0006283822003751993\n"
     ]
    },
    {
     "name": "stderr",
     "output_type": "stream",
     "text": [
      " 46%|████▌     | 4003/8726 [02:03<02:25, 32.47it/s]"
     ]
    },
    {
     "name": "stdout",
     "output_type": "stream",
     "text": [
      "Batch 4000, Loss: 0.0009419455891475081\n"
     ]
    },
    {
     "name": "stderr",
     "output_type": "stream",
     "text": [
      " 69%|██████▉   | 6003/8726 [03:04<01:23, 32.78it/s]"
     ]
    },
    {
     "name": "stdout",
     "output_type": "stream",
     "text": [
      "Batch 6000, Loss: 0.0003652356390375644\n"
     ]
    },
    {
     "name": "stderr",
     "output_type": "stream",
     "text": [
      " 92%|█████████▏| 8007/8726 [04:05<00:22, 32.39it/s]"
     ]
    },
    {
     "name": "stdout",
     "output_type": "stream",
     "text": [
      "Batch 8000, Loss: 0.0016758688725531101\n"
     ]
    },
    {
     "name": "stderr",
     "output_type": "stream",
     "text": [
      "100%|██████████| 8726/8726 [04:27<00:00, 32.56it/s]\n"
     ]
    },
    {
     "name": "stdout",
     "output_type": "stream",
     "text": [
      "Epoch [18/30], Loss: 0.0018712483409569884\n",
      "Epoch 19/30\n"
     ]
    },
    {
     "name": "stderr",
     "output_type": "stream",
     "text": [
      "  0%|          | 3/8726 [00:00<04:52, 29.79it/s]"
     ]
    },
    {
     "name": "stdout",
     "output_type": "stream",
     "text": [
      "Batch 0, Loss: 0.0008476494112983346\n"
     ]
    },
    {
     "name": "stderr",
     "output_type": "stream",
     "text": [
      " 23%|██▎       | 2003/8726 [01:01<03:27, 32.39it/s]"
     ]
    },
    {
     "name": "stdout",
     "output_type": "stream",
     "text": [
      "Batch 2000, Loss: 0.00030957881244830787\n"
     ]
    },
    {
     "name": "stderr",
     "output_type": "stream",
     "text": [
      " 46%|████▌     | 4003/8726 [02:02<02:22, 33.06it/s]"
     ]
    },
    {
     "name": "stdout",
     "output_type": "stream",
     "text": [
      "Batch 4000, Loss: 0.0030915173701941967\n"
     ]
    },
    {
     "name": "stderr",
     "output_type": "stream",
     "text": [
      " 69%|██████▉   | 6003/8726 [03:04<01:22, 33.16it/s]"
     ]
    },
    {
     "name": "stdout",
     "output_type": "stream",
     "text": [
      "Batch 6000, Loss: 0.002366917207837105\n"
     ]
    },
    {
     "name": "stderr",
     "output_type": "stream",
     "text": [
      " 92%|█████████▏| 8003/8726 [04:05<00:22, 32.30it/s]"
     ]
    },
    {
     "name": "stdout",
     "output_type": "stream",
     "text": [
      "Batch 8000, Loss: 0.0007349745719693601\n"
     ]
    },
    {
     "name": "stderr",
     "output_type": "stream",
     "text": [
      "100%|██████████| 8726/8726 [04:28<00:00, 32.55it/s]\n"
     ]
    },
    {
     "name": "stdout",
     "output_type": "stream",
     "text": [
      "Epoch [19/30], Loss: 0.0017315416651452937\n",
      "Epoch 20/30\n"
     ]
    },
    {
     "name": "stderr",
     "output_type": "stream",
     "text": [
      "  0%|          | 3/8726 [00:00<05:04, 28.63it/s]"
     ]
    },
    {
     "name": "stdout",
     "output_type": "stream",
     "text": [
      "Batch 0, Loss: 0.007368003949522972\n"
     ]
    },
    {
     "name": "stderr",
     "output_type": "stream",
     "text": [
      " 23%|██▎       | 2007/8726 [01:01<03:25, 32.66it/s]"
     ]
    },
    {
     "name": "stdout",
     "output_type": "stream",
     "text": [
      "Batch 2000, Loss: 0.001260512974113226\n"
     ]
    },
    {
     "name": "stderr",
     "output_type": "stream",
     "text": [
      " 46%|████▌     | 4007/8726 [02:02<02:23, 32.97it/s]"
     ]
    },
    {
     "name": "stdout",
     "output_type": "stream",
     "text": [
      "Batch 4000, Loss: 0.000751333893276751\n"
     ]
    },
    {
     "name": "stderr",
     "output_type": "stream",
     "text": [
      " 69%|██████▉   | 6003/8726 [03:03<01:23, 32.58it/s]"
     ]
    },
    {
     "name": "stdout",
     "output_type": "stream",
     "text": [
      "Batch 6000, Loss: 0.0011283538769930601\n"
     ]
    },
    {
     "name": "stderr",
     "output_type": "stream",
     "text": [
      " 92%|█████████▏| 8007/8726 [04:05<00:22, 32.42it/s]"
     ]
    },
    {
     "name": "stdout",
     "output_type": "stream",
     "text": [
      "Batch 8000, Loss: 0.0004526376724243164\n"
     ]
    },
    {
     "name": "stderr",
     "output_type": "stream",
     "text": [
      "100%|██████████| 8726/8726 [04:27<00:00, 32.59it/s]\n"
     ]
    },
    {
     "name": "stdout",
     "output_type": "stream",
     "text": [
      "Epoch [20/30], Loss: 0.0016611954344159592\n",
      "Epoch 21/30\n"
     ]
    },
    {
     "name": "stderr",
     "output_type": "stream",
     "text": [
      "  0%|          | 3/8726 [00:00<05:01, 28.92it/s]"
     ]
    },
    {
     "name": "stdout",
     "output_type": "stream",
     "text": [
      "Batch 0, Loss: 0.004076059907674789\n"
     ]
    },
    {
     "name": "stderr",
     "output_type": "stream",
     "text": [
      " 23%|██▎       | 2003/8726 [01:01<03:24, 32.87it/s]"
     ]
    },
    {
     "name": "stdout",
     "output_type": "stream",
     "text": [
      "Batch 2000, Loss: 0.000711058615706861\n"
     ]
    },
    {
     "name": "stderr",
     "output_type": "stream",
     "text": [
      " 46%|████▌     | 4003/8726 [02:02<02:24, 32.59it/s]"
     ]
    },
    {
     "name": "stdout",
     "output_type": "stream",
     "text": [
      "Batch 4000, Loss: 0.0005934502696618438\n"
     ]
    },
    {
     "name": "stderr",
     "output_type": "stream",
     "text": [
      " 69%|██████▉   | 6003/8726 [03:04<01:24, 32.09it/s]"
     ]
    },
    {
     "name": "stdout",
     "output_type": "stream",
     "text": [
      "Batch 6000, Loss: 0.004887584131211042\n"
     ]
    },
    {
     "name": "stderr",
     "output_type": "stream",
     "text": [
      " 92%|█████████▏| 8007/8726 [04:05<00:21, 33.03it/s]"
     ]
    },
    {
     "name": "stdout",
     "output_type": "stream",
     "text": [
      "Batch 8000, Loss: 0.004754647146910429\n"
     ]
    },
    {
     "name": "stderr",
     "output_type": "stream",
     "text": [
      "100%|██████████| 8726/8726 [04:27<00:00, 32.58it/s]\n"
     ]
    },
    {
     "name": "stdout",
     "output_type": "stream",
     "text": [
      "Epoch [21/30], Loss: 0.001522268378318129\n",
      "Epoch 22/30\n"
     ]
    },
    {
     "name": "stderr",
     "output_type": "stream",
     "text": [
      "  0%|          | 3/8726 [00:00<04:57, 29.29it/s]"
     ]
    },
    {
     "name": "stdout",
     "output_type": "stream",
     "text": [
      "Batch 0, Loss: 0.0005185770569369197\n"
     ]
    },
    {
     "name": "stderr",
     "output_type": "stream",
     "text": [
      " 23%|██▎       | 2003/8726 [01:01<03:22, 33.22it/s]"
     ]
    },
    {
     "name": "stdout",
     "output_type": "stream",
     "text": [
      "Batch 2000, Loss: 0.0019447928061708808\n"
     ]
    },
    {
     "name": "stderr",
     "output_type": "stream",
     "text": [
      " 46%|████▌     | 4007/8726 [02:02<02:25, 32.47it/s]"
     ]
    },
    {
     "name": "stdout",
     "output_type": "stream",
     "text": [
      "Batch 4000, Loss: 0.0014216774143278599\n"
     ]
    },
    {
     "name": "stderr",
     "output_type": "stream",
     "text": [
      " 69%|██████▉   | 6003/8726 [03:04<01:24, 32.15it/s]"
     ]
    },
    {
     "name": "stdout",
     "output_type": "stream",
     "text": [
      "Batch 6000, Loss: 0.000800124485976994\n"
     ]
    },
    {
     "name": "stderr",
     "output_type": "stream",
     "text": [
      " 92%|█████████▏| 8003/8726 [04:05<00:22, 32.71it/s]"
     ]
    },
    {
     "name": "stdout",
     "output_type": "stream",
     "text": [
      "Batch 8000, Loss: 0.0014571119099855423\n"
     ]
    },
    {
     "name": "stderr",
     "output_type": "stream",
     "text": [
      "100%|██████████| 8726/8726 [04:28<00:00, 32.55it/s]\n"
     ]
    },
    {
     "name": "stdout",
     "output_type": "stream",
     "text": [
      "Epoch [22/30], Loss: 0.0015363655610835562\n",
      "Epoch 23/30\n"
     ]
    },
    {
     "name": "stderr",
     "output_type": "stream",
     "text": [
      "  0%|          | 3/8726 [00:00<04:56, 29.41it/s]"
     ]
    },
    {
     "name": "stdout",
     "output_type": "stream",
     "text": [
      "Batch 0, Loss: 0.0012825260637328029\n"
     ]
    },
    {
     "name": "stderr",
     "output_type": "stream",
     "text": [
      " 23%|██▎       | 2007/8726 [01:01<03:23, 33.02it/s]"
     ]
    },
    {
     "name": "stdout",
     "output_type": "stream",
     "text": [
      "Batch 2000, Loss: 0.001689160242676735\n"
     ]
    },
    {
     "name": "stderr",
     "output_type": "stream",
     "text": [
      " 46%|████▌     | 4003/8726 [02:02<02:26, 32.28it/s]"
     ]
    },
    {
     "name": "stdout",
     "output_type": "stream",
     "text": [
      "Batch 4000, Loss: 0.0009089752566069365\n"
     ]
    },
    {
     "name": "stderr",
     "output_type": "stream",
     "text": [
      " 69%|██████▉   | 6003/8726 [03:04<01:23, 32.43it/s]"
     ]
    },
    {
     "name": "stdout",
     "output_type": "stream",
     "text": [
      "Batch 6000, Loss: 0.0006129697430878878\n"
     ]
    },
    {
     "name": "stderr",
     "output_type": "stream",
     "text": [
      " 92%|█████████▏| 8003/8726 [04:05<00:22, 32.73it/s]"
     ]
    },
    {
     "name": "stdout",
     "output_type": "stream",
     "text": [
      "Batch 8000, Loss: 0.0012840765994042158\n"
     ]
    },
    {
     "name": "stderr",
     "output_type": "stream",
     "text": [
      "100%|██████████| 8726/8726 [04:27<00:00, 32.57it/s]\n"
     ]
    },
    {
     "name": "stdout",
     "output_type": "stream",
     "text": [
      "Epoch [23/30], Loss: 0.0012986365406429522\n",
      "Epoch 24/30\n"
     ]
    },
    {
     "name": "stderr",
     "output_type": "stream",
     "text": [
      "  0%|          | 3/8726 [00:00<04:51, 29.93it/s]"
     ]
    },
    {
     "name": "stdout",
     "output_type": "stream",
     "text": [
      "Batch 0, Loss: 0.00038697081618011\n"
     ]
    },
    {
     "name": "stderr",
     "output_type": "stream",
     "text": [
      " 23%|██▎       | 2007/8726 [01:01<03:27, 32.41it/s]"
     ]
    },
    {
     "name": "stdout",
     "output_type": "stream",
     "text": [
      "Batch 2000, Loss: 0.0032056483905762434\n"
     ]
    },
    {
     "name": "stderr",
     "output_type": "stream",
     "text": [
      " 46%|████▌     | 4003/8726 [02:03<02:27, 32.05it/s]"
     ]
    },
    {
     "name": "stdout",
     "output_type": "stream",
     "text": [
      "Batch 4000, Loss: 0.0003673895844258368\n"
     ]
    },
    {
     "name": "stderr",
     "output_type": "stream",
     "text": [
      " 69%|██████▉   | 6003/8726 [03:04<01:24, 32.37it/s]"
     ]
    },
    {
     "name": "stdout",
     "output_type": "stream",
     "text": [
      "Batch 6000, Loss: 0.00023275618150364608\n"
     ]
    },
    {
     "name": "stderr",
     "output_type": "stream",
     "text": [
      " 92%|█████████▏| 8003/8726 [04:05<00:22, 32.71it/s]"
     ]
    },
    {
     "name": "stdout",
     "output_type": "stream",
     "text": [
      "Batch 8000, Loss: 0.00209999131038785\n"
     ]
    },
    {
     "name": "stderr",
     "output_type": "stream",
     "text": [
      "100%|██████████| 8726/8726 [04:27<00:00, 32.60it/s]\n"
     ]
    },
    {
     "name": "stdout",
     "output_type": "stream",
     "text": [
      "Epoch [24/30], Loss: 0.001316572517075113\n",
      "Epoch 25/30\n"
     ]
    },
    {
     "name": "stderr",
     "output_type": "stream",
     "text": [
      "  0%|          | 3/8726 [00:00<04:58, 29.22it/s]"
     ]
    },
    {
     "name": "stdout",
     "output_type": "stream",
     "text": [
      "Batch 0, Loss: 0.0006015090038999915\n"
     ]
    },
    {
     "name": "stderr",
     "output_type": "stream",
     "text": [
      " 23%|██▎       | 2007/8726 [01:01<03:26, 32.47it/s]"
     ]
    },
    {
     "name": "stdout",
     "output_type": "stream",
     "text": [
      "Batch 2000, Loss: 0.00032778948661871254\n"
     ]
    },
    {
     "name": "stderr",
     "output_type": "stream",
     "text": [
      " 46%|████▌     | 4003/8726 [02:03<02:25, 32.47it/s]"
     ]
    },
    {
     "name": "stdout",
     "output_type": "stream",
     "text": [
      "Batch 4000, Loss: 0.001980667468160391\n"
     ]
    },
    {
     "name": "stderr",
     "output_type": "stream",
     "text": [
      " 69%|██████▉   | 6007/8726 [03:04<01:22, 32.89it/s]"
     ]
    },
    {
     "name": "stdout",
     "output_type": "stream",
     "text": [
      "Batch 6000, Loss: 0.0005719975451938808\n"
     ]
    },
    {
     "name": "stderr",
     "output_type": "stream",
     "text": [
      " 92%|█████████▏| 8003/8726 [04:05<00:22, 32.86it/s]"
     ]
    },
    {
     "name": "stdout",
     "output_type": "stream",
     "text": [
      "Batch 8000, Loss: 0.001115376129746437\n"
     ]
    },
    {
     "name": "stderr",
     "output_type": "stream",
     "text": [
      "100%|██████████| 8726/8726 [04:27<00:00, 32.56it/s]\n"
     ]
    },
    {
     "name": "stdout",
     "output_type": "stream",
     "text": [
      "Epoch [25/30], Loss: 0.0012449464174126457\n",
      "Epoch 26/30\n"
     ]
    },
    {
     "name": "stderr",
     "output_type": "stream",
     "text": [
      "  0%|          | 4/8726 [00:00<04:39, 31.17it/s]"
     ]
    },
    {
     "name": "stdout",
     "output_type": "stream",
     "text": [
      "Batch 0, Loss: 0.0017049608286470175\n"
     ]
    },
    {
     "name": "stderr",
     "output_type": "stream",
     "text": [
      " 23%|██▎       | 2004/8726 [01:01<03:24, 32.81it/s]"
     ]
    },
    {
     "name": "stdout",
     "output_type": "stream",
     "text": [
      "Batch 2000, Loss: 0.0004020735213998705\n"
     ]
    },
    {
     "name": "stderr",
     "output_type": "stream",
     "text": [
      " 46%|████▌     | 4004/8726 [02:03<02:25, 32.55it/s]"
     ]
    },
    {
     "name": "stdout",
     "output_type": "stream",
     "text": [
      "Batch 4000, Loss: 0.0009614058071747422\n"
     ]
    },
    {
     "name": "stderr",
     "output_type": "stream",
     "text": [
      " 69%|██████▉   | 6004/8726 [03:04<01:23, 32.79it/s]"
     ]
    },
    {
     "name": "stdout",
     "output_type": "stream",
     "text": [
      "Batch 6000, Loss: 0.000266449642367661\n"
     ]
    },
    {
     "name": "stderr",
     "output_type": "stream",
     "text": [
      " 92%|█████████▏| 8004/8726 [04:05<00:22, 32.04it/s]"
     ]
    },
    {
     "name": "stdout",
     "output_type": "stream",
     "text": [
      "Batch 8000, Loss: 0.00038501416565850377\n"
     ]
    },
    {
     "name": "stderr",
     "output_type": "stream",
     "text": [
      "100%|██████████| 8726/8726 [04:28<00:00, 32.54it/s]\n"
     ]
    },
    {
     "name": "stdout",
     "output_type": "stream",
     "text": [
      "Epoch [26/30], Loss: 0.0011973275219463717\n",
      "Epoch 27/30\n"
     ]
    },
    {
     "name": "stderr",
     "output_type": "stream",
     "text": [
      "  0%|          | 4/8726 [00:00<04:38, 31.35it/s]"
     ]
    },
    {
     "name": "stdout",
     "output_type": "stream",
     "text": [
      "Batch 0, Loss: 0.0021709061693400145\n"
     ]
    },
    {
     "name": "stderr",
     "output_type": "stream",
     "text": [
      " 23%|██▎       | 2004/8726 [01:01<03:29, 32.10it/s]"
     ]
    },
    {
     "name": "stdout",
     "output_type": "stream",
     "text": [
      "Batch 2000, Loss: 0.0010682251304388046\n"
     ]
    },
    {
     "name": "stderr",
     "output_type": "stream",
     "text": [
      " 46%|████▌     | 4004/8726 [02:03<02:23, 32.99it/s]"
     ]
    },
    {
     "name": "stdout",
     "output_type": "stream",
     "text": [
      "Batch 4000, Loss: 0.0010120469378307462\n"
     ]
    },
    {
     "name": "stderr",
     "output_type": "stream",
     "text": [
      " 69%|██████▉   | 6004/8726 [03:04<01:22, 32.89it/s]"
     ]
    },
    {
     "name": "stdout",
     "output_type": "stream",
     "text": [
      "Batch 6000, Loss: 0.0002033439086517319\n"
     ]
    },
    {
     "name": "stderr",
     "output_type": "stream",
     "text": [
      " 92%|█████████▏| 8004/8726 [04:06<00:22, 32.22it/s]"
     ]
    },
    {
     "name": "stdout",
     "output_type": "stream",
     "text": [
      "Batch 8000, Loss: 0.00165584369096905\n"
     ]
    },
    {
     "name": "stderr",
     "output_type": "stream",
     "text": [
      "100%|██████████| 8726/8726 [04:28<00:00, 32.45it/s]\n"
     ]
    },
    {
     "name": "stdout",
     "output_type": "stream",
     "text": [
      "Epoch [27/30], Loss: 0.0011656811295387957\n",
      "Epoch 28/30\n"
     ]
    },
    {
     "name": "stderr",
     "output_type": "stream",
     "text": [
      "  0%|          | 4/8726 [00:00<04:42, 30.85it/s]"
     ]
    },
    {
     "name": "stdout",
     "output_type": "stream",
     "text": [
      "Batch 0, Loss: 0.0012342121917754412\n"
     ]
    },
    {
     "name": "stderr",
     "output_type": "stream",
     "text": [
      " 23%|██▎       | 2004/8726 [01:01<03:24, 32.84it/s]"
     ]
    },
    {
     "name": "stdout",
     "output_type": "stream",
     "text": [
      "Batch 2000, Loss: 0.00012975532445125282\n"
     ]
    },
    {
     "name": "stderr",
     "output_type": "stream",
     "text": [
      " 46%|████▌     | 4004/8726 [02:03<02:24, 32.58it/s]"
     ]
    },
    {
     "name": "stdout",
     "output_type": "stream",
     "text": [
      "Batch 4000, Loss: 0.002911967458203435\n"
     ]
    },
    {
     "name": "stderr",
     "output_type": "stream",
     "text": [
      " 69%|██████▉   | 6004/8726 [03:04<01:24, 32.31it/s]"
     ]
    },
    {
     "name": "stdout",
     "output_type": "stream",
     "text": [
      "Batch 6000, Loss: 0.0014537025708705187\n"
     ]
    },
    {
     "name": "stderr",
     "output_type": "stream",
     "text": [
      " 92%|█████████▏| 8004/8726 [04:06<00:22, 32.22it/s]"
     ]
    },
    {
     "name": "stdout",
     "output_type": "stream",
     "text": [
      "Batch 8000, Loss: 0.0002891715557780117\n"
     ]
    },
    {
     "name": "stderr",
     "output_type": "stream",
     "text": [
      "100%|██████████| 8726/8726 [04:28<00:00, 32.47it/s]\n"
     ]
    },
    {
     "name": "stdout",
     "output_type": "stream",
     "text": [
      "Epoch [28/30], Loss: 0.0011333041033531515\n",
      "Epoch 29/30\n"
     ]
    },
    {
     "name": "stderr",
     "output_type": "stream",
     "text": [
      "  0%|          | 3/8726 [00:00<04:56, 29.44it/s]"
     ]
    },
    {
     "name": "stdout",
     "output_type": "stream",
     "text": [
      "Batch 0, Loss: 0.004395999014377594\n"
     ]
    },
    {
     "name": "stderr",
     "output_type": "stream",
     "text": [
      " 23%|██▎       | 2003/8726 [01:01<03:27, 32.39it/s]"
     ]
    },
    {
     "name": "stdout",
     "output_type": "stream",
     "text": [
      "Batch 2000, Loss: 0.0016231704503297806\n"
     ]
    },
    {
     "name": "stderr",
     "output_type": "stream",
     "text": [
      " 46%|████▌     | 4003/8726 [02:02<02:23, 32.92it/s]"
     ]
    },
    {
     "name": "stdout",
     "output_type": "stream",
     "text": [
      "Batch 4000, Loss: 0.001868677674792707\n"
     ]
    },
    {
     "name": "stderr",
     "output_type": "stream",
     "text": [
      " 69%|██████▉   | 6003/8726 [03:04<01:24, 32.38it/s]"
     ]
    },
    {
     "name": "stdout",
     "output_type": "stream",
     "text": [
      "Batch 6000, Loss: 0.00042436629883013666\n"
     ]
    },
    {
     "name": "stderr",
     "output_type": "stream",
     "text": [
      " 92%|█████████▏| 8003/8726 [04:06<00:22, 32.58it/s]"
     ]
    },
    {
     "name": "stdout",
     "output_type": "stream",
     "text": [
      "Batch 8000, Loss: 0.0005751241696998477\n"
     ]
    },
    {
     "name": "stderr",
     "output_type": "stream",
     "text": [
      "100%|██████████| 8726/8726 [04:28<00:00, 32.53it/s]\n"
     ]
    },
    {
     "name": "stdout",
     "output_type": "stream",
     "text": [
      "Epoch [29/30], Loss: 0.001112932912073846\n",
      "Epoch 30/30\n"
     ]
    },
    {
     "name": "stderr",
     "output_type": "stream",
     "text": [
      "  0%|          | 3/8726 [00:00<05:06, 28.48it/s]"
     ]
    },
    {
     "name": "stdout",
     "output_type": "stream",
     "text": [
      "Batch 0, Loss: 0.0007008244283497334\n"
     ]
    },
    {
     "name": "stderr",
     "output_type": "stream",
     "text": [
      " 23%|██▎       | 2003/8726 [01:01<03:25, 32.72it/s]"
     ]
    },
    {
     "name": "stdout",
     "output_type": "stream",
     "text": [
      "Batch 2000, Loss: 0.0016818069852888584\n"
     ]
    },
    {
     "name": "stderr",
     "output_type": "stream",
     "text": [
      " 46%|████▌     | 4003/8726 [02:02<02:25, 32.48it/s]"
     ]
    },
    {
     "name": "stdout",
     "output_type": "stream",
     "text": [
      "Batch 4000, Loss: 0.0013693104265257716\n"
     ]
    },
    {
     "name": "stderr",
     "output_type": "stream",
     "text": [
      " 69%|██████▉   | 6003/8726 [03:03<01:24, 32.33it/s]"
     ]
    },
    {
     "name": "stdout",
     "output_type": "stream",
     "text": [
      "Batch 6000, Loss: 0.001424036337994039\n"
     ]
    },
    {
     "name": "stderr",
     "output_type": "stream",
     "text": [
      " 92%|█████████▏| 8007/8726 [04:05<00:21, 32.80it/s]"
     ]
    },
    {
     "name": "stdout",
     "output_type": "stream",
     "text": [
      "Batch 8000, Loss: 0.0009735007188282907\n"
     ]
    },
    {
     "name": "stderr",
     "output_type": "stream",
     "text": [
      "100%|██████████| 8726/8726 [04:27<00:00, 32.60it/s]"
     ]
    },
    {
     "name": "stdout",
     "output_type": "stream",
     "text": [
      "Epoch [30/30], Loss: 0.0010542507976637574\n",
      "Training complete for grayscale images\n"
     ]
    },
    {
     "name": "stderr",
     "output_type": "stream",
     "text": [
      "\n"
     ]
    }
   ],
   "source": [
    "# -------------------------------------------------------------\n",
    "# COLOR IMAGES - TRAIN MODEL TO PREDICT GENDER ON COLOR IMAGES\n",
    "# -------------------------------------------------------------\n",
    "use_cuda = torch.cuda.is_available()\n",
    "device = torch.device(\"cuda:0\" if use_cuda else \"cpu\")\n",
    "torch.backends.cudnn.benchmark = True\n",
    "\n",
    "\n",
    "df = df_train[df_train['color']==1].reset_index(drop=True) # COLOR = 1\"\n",
    "weights = get_weights(df,'ranges')\n",
    "print(weights)\n",
    "# split and create DataLoaders\n",
    "batch_size = 8\n",
    "params = {'batch_size': batch_size,\n",
    "            'shuffle': True,\n",
    "            'num_workers': 0}\n",
    "training_generator = get_loader(df, image_dir, params)\n",
    "# validation_generator = get_loader(df, image_dir, params)\n",
    "\n",
    "# COLOR - TRAIN GENDER CLASSIFICATION MODEL\n",
    "# Load the pre-trained ResNet18 model\n",
    "model = models.resnet18(pretrained=True)\n",
    "model.fc = nn.Linear(model.fc.in_features, 1)\n",
    "model = model.to(device)\n",
    "\n",
    "# Parameters\n",
    "optimizer = optim.Adam(model.parameters(), lr=1e-4)\n",
    "criterion = WeightedMSELoss(weights) # stratification by range and gender\n",
    "num_epochs = 30\n",
    "\n",
    "for epoch in range(num_epochs):\n",
    "    print(f\"Epoch {epoch+1}/{num_epochs}\")\n",
    "    model.train()\n",
    "    running_loss = 0.0\n",
    "    for batch_idx, (X, y, gender, filename,ranges) in tqdm(enumerate(training_generator), total=len(training_generator)):\n",
    "        X, y = X.to(device), y.to(device).view(-1, 1)\n",
    "        ranges_indices = [labels.index(label) for label in ranges]\n",
    "        #ranges = pd.cut(y.cpu().numpy().flatten(), bins=bins, labels=labels, include_lowest=True)\n",
    "        \n",
    "        batch_ranges = pd.cut(y.cpu().numpy().flatten(), bins=bins, labels=labels, include_lowest=True)\n",
    "        #batch_ranges_id = [labels.index(label) for label in batch_ranges]\n",
    "        #batch_weights = gender * 10 + torch.tensor(batch_ranges_id).float().to(device)\n",
    "        optimizer.zero_grad()\n",
    "        y_pred = model(X)\n",
    "        loss = criterion(y_pred, y, batch_ranges)\n",
    "        loss.backward()\n",
    "        optimizer.step()\n",
    "        running_loss += loss.item()\n",
    "\n",
    "        if batch_idx % 2000 == 0:\n",
    "            print(f\"Batch {batch_idx}, Loss: {loss.item()}\")\n",
    "\n",
    "    print(f\"Epoch [{epoch+1}/{num_epochs}], Loss: {running_loss/len(training_generator)}\")\n",
    "\n",
    "print('Training complete for grayscale images')\n",
    "\n",
    "\n",
    "\n",
    "\n",
    "\n",
    "\n",
    "# train_gender_model(model, training_generator, optimizer, criterion, num_epochs)\n",
    "# train_model(model, training_generator, optimizer, criterion, num_epochs)\n",
    "\n",
    "\n",
    "# save model\n",
    "model_color = model\n",
    "torch.save(model_color.state_dict(), 'model_color.pth')"
   ]
  },
  {
   "cell_type": "markdown",
   "metadata": {},
   "source": [
    "#### Model gray"
   ]
  },
  {
   "cell_type": "code",
   "execution_count": 23,
   "metadata": {},
   "outputs": [
    {
     "name": "stderr",
     "output_type": "stream",
     "text": [
      "c:\\Users\\ASUS\\envs\\virtual\\Lib\\site-packages\\torchvision\\models\\_utils.py:208: UserWarning: The parameter 'pretrained' is deprecated since 0.13 and may be removed in the future, please use 'weights' instead.\n",
      "  warnings.warn(\n",
      "c:\\Users\\ASUS\\envs\\virtual\\Lib\\site-packages\\torchvision\\models\\_utils.py:223: UserWarning: Arguments other than a weight enum or `None` for 'weights' are deprecated since 0.13 and may be removed in the future. The current behavior is equivalent to passing `weights=ResNet18_Weights.IMAGENET1K_V1`. You can also use `weights=ResNet18_Weights.DEFAULT` to get the most up-to-date weights.\n",
      "  warnings.warn(msg)\n"
     ]
    },
    {
     "name": "stdout",
     "output_type": "stream",
     "text": [
      "            ranges  FaceOcclusion\n",
      "0-0.025       4336       0.010488\n",
      "0.025-0.05    2150       0.036778\n",
      "0.05-0.075    1150       0.062283\n",
      "0.075-0.1      850       0.087224\n",
      "0.1-0.15      1121       0.122568\n",
      "0.15-0.2       684       0.173708\n",
      "0.2-0.25       453       0.224263\n",
      "0.25-0.3       314       0.273032\n",
      "0.3-0.35       140       0.320850\n",
      ">0.35           70       0.388300\n",
      "{'0-0.025': 2.598708487084871, '0.025-0.05': 5.2409302325581395, '0.05-0.075': 9.798260869565217, '0.075-0.1': 13.256470588235294, '0.1-0.15': 10.051739518287244, '0.15-0.2': 16.473684210526315, '0.2-0.25': 24.874172185430464, '0.25-0.3': 35.88535031847134, '0.3-0.35': 80.48571428571428, '>0.35': 160.97142857142856}\n",
      "{'0-0.025': 2.598708487084871, '0.025-0.05': 5.2409302325581395, '0.05-0.075': 9.798260869565217, '0.075-0.1': 13.256470588235294, '0.1-0.15': 10.051739518287244, '0.15-0.2': 16.473684210526315, '0.2-0.25': 24.874172185430464, '0.25-0.3': 35.88535031847134, '0.3-0.35': 80.48571428571428, '>0.35': 160.97142857142856}\n",
      "Epoch 1/30\n"
     ]
    },
    {
     "name": "stderr",
     "output_type": "stream",
     "text": [
      "  0%|          | 2/1409 [00:00<01:36, 14.60it/s]"
     ]
    },
    {
     "name": "stdout",
     "output_type": "stream",
     "text": [
      "Batch 0, Loss: 1.5877892971038818\n"
     ]
    },
    {
     "name": "stderr",
     "output_type": "stream",
     "text": [
      "100%|██████████| 1409/1409 [01:35<00:00, 14.83it/s]\n"
     ]
    },
    {
     "name": "stdout",
     "output_type": "stream",
     "text": [
      "Epoch [1/30], Loss: 0.2219990248289693\n",
      "Epoch 2/30\n"
     ]
    },
    {
     "name": "stderr",
     "output_type": "stream",
     "text": [
      "  0%|          | 3/1409 [00:00<00:55, 25.45it/s]"
     ]
    },
    {
     "name": "stdout",
     "output_type": "stream",
     "text": [
      "Batch 0, Loss: 0.021764323115348816\n"
     ]
    },
    {
     "name": "stderr",
     "output_type": "stream",
     "text": [
      "100%|██████████| 1409/1409 [00:42<00:00, 33.16it/s]\n"
     ]
    },
    {
     "name": "stdout",
     "output_type": "stream",
     "text": [
      "Epoch [2/30], Loss: 0.03131711163144622\n",
      "Epoch 3/30\n"
     ]
    },
    {
     "name": "stderr",
     "output_type": "stream",
     "text": [
      "  0%|          | 4/1409 [00:00<00:43, 32.31it/s]"
     ]
    },
    {
     "name": "stdout",
     "output_type": "stream",
     "text": [
      "Batch 0, Loss: 0.04512813687324524\n"
     ]
    },
    {
     "name": "stderr",
     "output_type": "stream",
     "text": [
      "100%|██████████| 1409/1409 [00:42<00:00, 33.23it/s]\n"
     ]
    },
    {
     "name": "stdout",
     "output_type": "stream",
     "text": [
      "Epoch [3/30], Loss: 0.026875557647903982\n",
      "Epoch 4/30\n"
     ]
    },
    {
     "name": "stderr",
     "output_type": "stream",
     "text": [
      "  0%|          | 4/1409 [00:00<00:42, 33.31it/s]"
     ]
    },
    {
     "name": "stdout",
     "output_type": "stream",
     "text": [
      "Batch 0, Loss: 0.027173716574907303\n"
     ]
    },
    {
     "name": "stderr",
     "output_type": "stream",
     "text": [
      "100%|██████████| 1409/1409 [00:42<00:00, 33.49it/s]\n"
     ]
    },
    {
     "name": "stdout",
     "output_type": "stream",
     "text": [
      "Epoch [4/30], Loss: 0.018967826657953643\n",
      "Epoch 5/30\n"
     ]
    },
    {
     "name": "stderr",
     "output_type": "stream",
     "text": [
      "  0%|          | 4/1409 [00:00<00:41, 33.65it/s]"
     ]
    },
    {
     "name": "stdout",
     "output_type": "stream",
     "text": [
      "Batch 0, Loss: 0.06032704561948776\n"
     ]
    },
    {
     "name": "stderr",
     "output_type": "stream",
     "text": [
      "100%|██████████| 1409/1409 [00:41<00:00, 33.64it/s]\n"
     ]
    },
    {
     "name": "stdout",
     "output_type": "stream",
     "text": [
      "Epoch [5/30], Loss: 0.01909745155731705\n",
      "Epoch 6/30\n"
     ]
    },
    {
     "name": "stderr",
     "output_type": "stream",
     "text": [
      "  0%|          | 4/1409 [00:00<00:42, 33.34it/s]"
     ]
    },
    {
     "name": "stdout",
     "output_type": "stream",
     "text": [
      "Batch 0, Loss: 0.010968019254505634\n"
     ]
    },
    {
     "name": "stderr",
     "output_type": "stream",
     "text": [
      "100%|██████████| 1409/1409 [00:41<00:00, 33.72it/s]\n"
     ]
    },
    {
     "name": "stdout",
     "output_type": "stream",
     "text": [
      "Epoch [6/30], Loss: 0.016579406011655973\n",
      "Epoch 7/30\n"
     ]
    },
    {
     "name": "stderr",
     "output_type": "stream",
     "text": [
      "  0%|          | 4/1409 [00:00<00:43, 32.48it/s]"
     ]
    },
    {
     "name": "stdout",
     "output_type": "stream",
     "text": [
      "Batch 0, Loss: 0.04906943440437317\n"
     ]
    },
    {
     "name": "stderr",
     "output_type": "stream",
     "text": [
      "100%|██████████| 1409/1409 [00:42<00:00, 33.34it/s]\n"
     ]
    },
    {
     "name": "stdout",
     "output_type": "stream",
     "text": [
      "Epoch [7/30], Loss: 0.014058849733320215\n",
      "Epoch 8/30\n"
     ]
    },
    {
     "name": "stderr",
     "output_type": "stream",
     "text": [
      "  0%|          | 4/1409 [00:00<00:42, 33.37it/s]"
     ]
    },
    {
     "name": "stdout",
     "output_type": "stream",
     "text": [
      "Batch 0, Loss: 0.004928580950945616\n"
     ]
    },
    {
     "name": "stderr",
     "output_type": "stream",
     "text": [
      "100%|██████████| 1409/1409 [00:42<00:00, 33.25it/s]\n"
     ]
    },
    {
     "name": "stdout",
     "output_type": "stream",
     "text": [
      "Epoch [8/30], Loss: 0.01823683228890522\n",
      "Epoch 9/30\n"
     ]
    },
    {
     "name": "stderr",
     "output_type": "stream",
     "text": [
      "  0%|          | 4/1409 [00:00<00:41, 33.56it/s]"
     ]
    },
    {
     "name": "stdout",
     "output_type": "stream",
     "text": [
      "Batch 0, Loss: 0.02290888875722885\n"
     ]
    },
    {
     "name": "stderr",
     "output_type": "stream",
     "text": [
      "100%|██████████| 1409/1409 [00:42<00:00, 33.37it/s]\n"
     ]
    },
    {
     "name": "stdout",
     "output_type": "stream",
     "text": [
      "Epoch [9/30], Loss: 0.013563607636162637\n",
      "Epoch 10/30\n"
     ]
    },
    {
     "name": "stderr",
     "output_type": "stream",
     "text": [
      "  0%|          | 4/1409 [00:00<00:41, 33.55it/s]"
     ]
    },
    {
     "name": "stdout",
     "output_type": "stream",
     "text": [
      "Batch 0, Loss: 0.007223983760923147\n"
     ]
    },
    {
     "name": "stderr",
     "output_type": "stream",
     "text": [
      "100%|██████████| 1409/1409 [00:41<00:00, 33.55it/s]\n"
     ]
    },
    {
     "name": "stdout",
     "output_type": "stream",
     "text": [
      "Epoch [10/30], Loss: 0.011931705156082916\n",
      "Epoch 11/30\n"
     ]
    },
    {
     "name": "stderr",
     "output_type": "stream",
     "text": [
      "  0%|          | 4/1409 [00:00<00:42, 33.35it/s]"
     ]
    },
    {
     "name": "stdout",
     "output_type": "stream",
     "text": [
      "Batch 0, Loss: 0.002622016239911318\n"
     ]
    },
    {
     "name": "stderr",
     "output_type": "stream",
     "text": [
      "100%|██████████| 1409/1409 [00:41<00:00, 33.68it/s]\n"
     ]
    },
    {
     "name": "stdout",
     "output_type": "stream",
     "text": [
      "Epoch [11/30], Loss: 0.009496856901396513\n",
      "Epoch 12/30\n"
     ]
    },
    {
     "name": "stderr",
     "output_type": "stream",
     "text": [
      "  0%|          | 4/1409 [00:00<00:42, 32.84it/s]"
     ]
    },
    {
     "name": "stdout",
     "output_type": "stream",
     "text": [
      "Batch 0, Loss: 0.02311711572110653\n"
     ]
    },
    {
     "name": "stderr",
     "output_type": "stream",
     "text": [
      "100%|██████████| 1409/1409 [00:41<00:00, 33.73it/s]\n"
     ]
    },
    {
     "name": "stdout",
     "output_type": "stream",
     "text": [
      "Epoch [12/30], Loss: 0.011181240103970053\n",
      "Epoch 13/30\n"
     ]
    },
    {
     "name": "stderr",
     "output_type": "stream",
     "text": [
      "  0%|          | 4/1409 [00:00<00:41, 34.03it/s]"
     ]
    },
    {
     "name": "stdout",
     "output_type": "stream",
     "text": [
      "Batch 0, Loss: 0.014779936522245407\n"
     ]
    },
    {
     "name": "stderr",
     "output_type": "stream",
     "text": [
      "100%|██████████| 1409/1409 [00:42<00:00, 33.52it/s]\n"
     ]
    },
    {
     "name": "stdout",
     "output_type": "stream",
     "text": [
      "Epoch [13/30], Loss: 0.007986440523828723\n",
      "Epoch 14/30\n"
     ]
    },
    {
     "name": "stderr",
     "output_type": "stream",
     "text": [
      "  0%|          | 4/1409 [00:00<00:42, 32.96it/s]"
     ]
    },
    {
     "name": "stdout",
     "output_type": "stream",
     "text": [
      "Batch 0, Loss: 0.0029537745285779238\n"
     ]
    },
    {
     "name": "stderr",
     "output_type": "stream",
     "text": [
      "100%|██████████| 1409/1409 [00:42<00:00, 33.29it/s]\n"
     ]
    },
    {
     "name": "stdout",
     "output_type": "stream",
     "text": [
      "Epoch [14/30], Loss: 0.006146533476605858\n",
      "Epoch 15/30\n"
     ]
    },
    {
     "name": "stderr",
     "output_type": "stream",
     "text": [
      "  0%|          | 4/1409 [00:00<00:41, 33.66it/s]"
     ]
    },
    {
     "name": "stdout",
     "output_type": "stream",
     "text": [
      "Batch 0, Loss: 0.0007359043229371309\n"
     ]
    },
    {
     "name": "stderr",
     "output_type": "stream",
     "text": [
      "100%|██████████| 1409/1409 [00:42<00:00, 33.43it/s]\n"
     ]
    },
    {
     "name": "stdout",
     "output_type": "stream",
     "text": [
      "Epoch [15/30], Loss: 0.005145294727301125\n",
      "Epoch 16/30\n"
     ]
    },
    {
     "name": "stderr",
     "output_type": "stream",
     "text": [
      "  0%|          | 4/1409 [00:00<00:41, 33.47it/s]"
     ]
    },
    {
     "name": "stdout",
     "output_type": "stream",
     "text": [
      "Batch 0, Loss: 0.0046360790729522705\n"
     ]
    },
    {
     "name": "stderr",
     "output_type": "stream",
     "text": [
      "100%|██████████| 1409/1409 [00:42<00:00, 33.53it/s]\n"
     ]
    },
    {
     "name": "stdout",
     "output_type": "stream",
     "text": [
      "Epoch [16/30], Loss: 0.005004335648698194\n",
      "Epoch 17/30\n"
     ]
    },
    {
     "name": "stderr",
     "output_type": "stream",
     "text": [
      "  0%|          | 4/1409 [00:00<00:41, 33.94it/s]"
     ]
    },
    {
     "name": "stdout",
     "output_type": "stream",
     "text": [
      "Batch 0, Loss: 0.0019031865522265434\n"
     ]
    },
    {
     "name": "stderr",
     "output_type": "stream",
     "text": [
      "100%|██████████| 1409/1409 [00:41<00:00, 33.72it/s]\n"
     ]
    },
    {
     "name": "stdout",
     "output_type": "stream",
     "text": [
      "Epoch [17/30], Loss: 0.004669116964344612\n",
      "Epoch 18/30\n"
     ]
    },
    {
     "name": "stderr",
     "output_type": "stream",
     "text": [
      "  0%|          | 4/1409 [00:00<00:41, 33.46it/s]"
     ]
    },
    {
     "name": "stdout",
     "output_type": "stream",
     "text": [
      "Batch 0, Loss: 0.003360363654792309\n"
     ]
    },
    {
     "name": "stderr",
     "output_type": "stream",
     "text": [
      "100%|██████████| 1409/1409 [00:41<00:00, 33.69it/s]\n"
     ]
    },
    {
     "name": "stdout",
     "output_type": "stream",
     "text": [
      "Epoch [18/30], Loss: 0.004610033161450551\n",
      "Epoch 19/30\n"
     ]
    },
    {
     "name": "stderr",
     "output_type": "stream",
     "text": [
      "  0%|          | 4/1409 [00:00<00:41, 34.13it/s]"
     ]
    },
    {
     "name": "stdout",
     "output_type": "stream",
     "text": [
      "Batch 0, Loss: 0.0028370178770273924\n"
     ]
    },
    {
     "name": "stderr",
     "output_type": "stream",
     "text": [
      "100%|██████████| 1409/1409 [00:42<00:00, 33.27it/s]\n"
     ]
    },
    {
     "name": "stdout",
     "output_type": "stream",
     "text": [
      "Epoch [19/30], Loss: 0.0038125729385997723\n",
      "Epoch 20/30\n"
     ]
    },
    {
     "name": "stderr",
     "output_type": "stream",
     "text": [
      "  0%|          | 4/1409 [00:00<00:41, 33.77it/s]"
     ]
    },
    {
     "name": "stdout",
     "output_type": "stream",
     "text": [
      "Batch 0, Loss: 0.01698327250778675\n"
     ]
    },
    {
     "name": "stderr",
     "output_type": "stream",
     "text": [
      "100%|██████████| 1409/1409 [00:42<00:00, 33.10it/s]\n"
     ]
    },
    {
     "name": "stdout",
     "output_type": "stream",
     "text": [
      "Epoch [20/30], Loss: 0.00480241986137674\n",
      "Epoch 21/30\n"
     ]
    },
    {
     "name": "stderr",
     "output_type": "stream",
     "text": [
      "  0%|          | 4/1409 [00:00<00:41, 33.65it/s]"
     ]
    },
    {
     "name": "stdout",
     "output_type": "stream",
     "text": [
      "Batch 0, Loss: 0.008735655806958675\n"
     ]
    },
    {
     "name": "stderr",
     "output_type": "stream",
     "text": [
      "100%|██████████| 1409/1409 [00:42<00:00, 33.42it/s]\n"
     ]
    },
    {
     "name": "stdout",
     "output_type": "stream",
     "text": [
      "Epoch [21/30], Loss: 0.005374587296111746\n",
      "Epoch 22/30\n"
     ]
    },
    {
     "name": "stderr",
     "output_type": "stream",
     "text": [
      "  0%|          | 4/1409 [00:00<00:41, 33.63it/s]"
     ]
    },
    {
     "name": "stdout",
     "output_type": "stream",
     "text": [
      "Batch 0, Loss: 0.0003798841207753867\n"
     ]
    },
    {
     "name": "stderr",
     "output_type": "stream",
     "text": [
      "100%|██████████| 1409/1409 [00:41<00:00, 33.62it/s]\n"
     ]
    },
    {
     "name": "stdout",
     "output_type": "stream",
     "text": [
      "Epoch [22/30], Loss: 0.0034036030746236933\n",
      "Epoch 23/30\n"
     ]
    },
    {
     "name": "stderr",
     "output_type": "stream",
     "text": [
      "  0%|          | 4/1409 [00:00<00:42, 33.25it/s]"
     ]
    },
    {
     "name": "stdout",
     "output_type": "stream",
     "text": [
      "Batch 0, Loss: 0.02312137931585312\n"
     ]
    },
    {
     "name": "stderr",
     "output_type": "stream",
     "text": [
      "100%|██████████| 1409/1409 [00:41<00:00, 33.63it/s]\n"
     ]
    },
    {
     "name": "stdout",
     "output_type": "stream",
     "text": [
      "Epoch [23/30], Loss: 0.0027365692550527306\n",
      "Epoch 24/30\n"
     ]
    },
    {
     "name": "stderr",
     "output_type": "stream",
     "text": [
      "  0%|          | 4/1409 [00:00<00:41, 33.73it/s]"
     ]
    },
    {
     "name": "stdout",
     "output_type": "stream",
     "text": [
      "Batch 0, Loss: 0.0023973030038177967\n"
     ]
    },
    {
     "name": "stderr",
     "output_type": "stream",
     "text": [
      "100%|██████████| 1409/1409 [00:41<00:00, 33.60it/s]\n"
     ]
    },
    {
     "name": "stdout",
     "output_type": "stream",
     "text": [
      "Epoch [24/30], Loss: 0.003422789807870374\n",
      "Epoch 25/30\n"
     ]
    },
    {
     "name": "stderr",
     "output_type": "stream",
     "text": [
      "  0%|          | 4/1409 [00:00<00:42, 32.82it/s]"
     ]
    },
    {
     "name": "stdout",
     "output_type": "stream",
     "text": [
      "Batch 0, Loss: 0.0018000644631683826\n"
     ]
    },
    {
     "name": "stderr",
     "output_type": "stream",
     "text": [
      "100%|██████████| 1409/1409 [00:42<00:00, 33.16it/s]\n"
     ]
    },
    {
     "name": "stdout",
     "output_type": "stream",
     "text": [
      "Epoch [25/30], Loss: 0.0028371995587218018\n",
      "Epoch 26/30\n"
     ]
    },
    {
     "name": "stderr",
     "output_type": "stream",
     "text": [
      "  0%|          | 4/1409 [00:00<00:41, 33.58it/s]"
     ]
    },
    {
     "name": "stdout",
     "output_type": "stream",
     "text": [
      "Batch 0, Loss: 0.0005242355982773006\n"
     ]
    },
    {
     "name": "stderr",
     "output_type": "stream",
     "text": [
      "100%|██████████| 1409/1409 [00:42<00:00, 33.25it/s]\n"
     ]
    },
    {
     "name": "stdout",
     "output_type": "stream",
     "text": [
      "Epoch [26/30], Loss: 0.003133158985530079\n",
      "Epoch 27/30\n"
     ]
    },
    {
     "name": "stderr",
     "output_type": "stream",
     "text": [
      "  0%|          | 4/1409 [00:00<00:42, 32.91it/s]"
     ]
    },
    {
     "name": "stdout",
     "output_type": "stream",
     "text": [
      "Batch 0, Loss: 0.0035831944551318884\n"
     ]
    },
    {
     "name": "stderr",
     "output_type": "stream",
     "text": [
      "100%|██████████| 1409/1409 [00:42<00:00, 33.46it/s]\n"
     ]
    },
    {
     "name": "stdout",
     "output_type": "stream",
     "text": [
      "Epoch [27/30], Loss: 0.0027366468921902185\n",
      "Epoch 28/30\n"
     ]
    },
    {
     "name": "stderr",
     "output_type": "stream",
     "text": [
      "  0%|          | 4/1409 [00:00<00:41, 33.61it/s]"
     ]
    },
    {
     "name": "stdout",
     "output_type": "stream",
     "text": [
      "Batch 0, Loss: 0.0005733915604650974\n"
     ]
    },
    {
     "name": "stderr",
     "output_type": "stream",
     "text": [
      "100%|██████████| 1409/1409 [00:41<00:00, 33.72it/s]\n"
     ]
    },
    {
     "name": "stdout",
     "output_type": "stream",
     "text": [
      "Epoch [28/30], Loss: 0.0020654150569565082\n",
      "Epoch 29/30\n"
     ]
    },
    {
     "name": "stderr",
     "output_type": "stream",
     "text": [
      "  0%|          | 4/1409 [00:00<00:41, 34.05it/s]"
     ]
    },
    {
     "name": "stdout",
     "output_type": "stream",
     "text": [
      "Batch 0, Loss: 0.0027532358653843403\n"
     ]
    },
    {
     "name": "stderr",
     "output_type": "stream",
     "text": [
      "100%|██████████| 1409/1409 [00:41<00:00, 33.69it/s]\n"
     ]
    },
    {
     "name": "stdout",
     "output_type": "stream",
     "text": [
      "Epoch [29/30], Loss: 0.002551036005540157\n",
      "Epoch 30/30\n"
     ]
    },
    {
     "name": "stderr",
     "output_type": "stream",
     "text": [
      "  0%|          | 4/1409 [00:00<00:41, 34.02it/s]"
     ]
    },
    {
     "name": "stdout",
     "output_type": "stream",
     "text": [
      "Batch 0, Loss: 0.01607622765004635\n"
     ]
    },
    {
     "name": "stderr",
     "output_type": "stream",
     "text": [
      "100%|██████████| 1409/1409 [00:42<00:00, 33.45it/s]"
     ]
    },
    {
     "name": "stdout",
     "output_type": "stream",
     "text": [
      "Epoch [30/30], Loss: 0.0022763120121607164\n",
      "Training complete for grayscale images\n"
     ]
    },
    {
     "name": "stderr",
     "output_type": "stream",
     "text": [
      "\n"
     ]
    }
   ],
   "source": [
    "# -------------------------------------------------------------\n",
    "# GRAYSCALE IMAGES - TRAIN MODEL TO PREDICT GENDER ON COLOR IMAGES\n",
    "# -------------------------------------------------------------\n",
    "\n",
    "df = df_train[df_train['color']==0].reset_index(drop=True) # COLOR = 1\"\n",
    "\n",
    "weights = get_weights(df,'ranges')\n",
    "print(weights)\n",
    "\n",
    "# split and create DataLoaders\n",
    "batch_size = 8\n",
    "params = {'batch_size': batch_size,\n",
    "            'shuffle': True,\n",
    "            'num_workers': 0}\n",
    "training_generator = get_loader(df, image_dir, params)\n",
    "# validation_generator = get_loader(df, image_dir, params)\n",
    "\n",
    "# COLOR - TRAIN GENDER CLASSIFICATION MODEL\n",
    "# Load the pre-trained ResNet18 model\n",
    "model = models.resnet18(pretrained=True)\n",
    "model.fc = nn.Linear(model.fc.in_features, 1)\n",
    "model = model.to(device)\n",
    "\n",
    "# Parameters\n",
    "optimizer = optim.Adam(model.parameters(), lr=1e-4)\n",
    "criterion = WeightedMSELoss(weights) # stratification by range and gender\n",
    "num_epochs = 30\n",
    "\n",
    "for epoch in range(num_epochs):\n",
    "    print(f\"Epoch {epoch+1}/{num_epochs}\")\n",
    "    model.train()\n",
    "    running_loss = 0.0\n",
    "    for batch_idx, (X, y, gender, filename,ranges) in tqdm(enumerate(training_generator), total=len(training_generator)):\n",
    "        X, y = X.to(device), y.to(device).view(-1, 1)\n",
    "        ranges_indices = [labels.index(label) for label in ranges]\n",
    "        #ranges = pd.cut(y.cpu().numpy().flatten(), bins=bins, labels=labels, include_lowest=True)\n",
    "        \n",
    "        batch_ranges = pd.cut(y.cpu().numpy().flatten(), bins=bins, labels=labels, include_lowest=True)\n",
    "        #batch_ranges_id = [labels.index(label) for label in batch_ranges]\n",
    "        #batch_weights = gender * 10 + torch.tensor(batch_ranges_id).float().to(device)\n",
    "        optimizer.zero_grad()\n",
    "        y_pred = model(X)\n",
    "        loss = criterion(y_pred, y, batch_ranges)\n",
    "        loss.backward()\n",
    "        optimizer.step()\n",
    "        running_loss += loss.item()\n",
    "\n",
    "        if batch_idx % 2000 == 0:\n",
    "            print(f\"Batch {batch_idx}, Loss: {loss.item()}\")\n",
    "\n",
    "    print(f\"Epoch [{epoch+1}/{num_epochs}], Loss: {running_loss/len(training_generator)}\")\n",
    "\n",
    "print('Training complete for grayscale images')\n",
    "\n",
    "\n",
    "\n",
    "\n",
    "# train_gender_model(model, training_generator, optimizer, criterion, num_epochs)\n",
    "# train_model(model, training_generator, optimizer, criterion, num_epochs)\n",
    "\n",
    "\n",
    "# save model\n",
    "model_gray = model\n",
    "torch.save(model_gray.state_dict(), 'model_gray.pth')\n"
   ]
  },
  {
   "cell_type": "markdown",
   "metadata": {},
   "source": [
    "#### Validation"
   ]
  },
  {
   "cell_type": "code",
   "execution_count": 24,
   "metadata": {},
   "outputs": [],
   "source": [
    "class Dataset_val(torch.utils.data.Dataset):\n",
    "    'Characterizes a dataset for PyTorch'\n",
    "    def __init__(self, df, image_dir):\n",
    "         'Initialization'\n",
    "         self.image_dir = image_dir\n",
    "         self.df = df\n",
    "         self.transform = transforms.ToTensor()\n",
    "         \n",
    "    def __len__(self):\n",
    "        'Denotes the total number of samples'\n",
    "        return len(self.df)\n",
    "\n",
    "    def __getitem__(self, index):\n",
    "        'Generates one sample of data'\n",
    "        # Select sample\n",
    "        row = self.df.loc[index]\n",
    "        filename = row['filename']\n",
    "        \n",
    "\n",
    "        # Load data and get label\n",
    "        img = Image.open(f\"{self.image_dir}/{filename}\")  \n",
    "        X = self.transform(img)\n",
    "\n",
    "        y = row['FaceOcclusion']     \n",
    "        y = np.float32(y)\n",
    "\n",
    "        gender = row['gender_id'] # changed to have round values 0 or 1\n",
    "        color = row['color']\n",
    "\n",
    "        return X, y, gender, filename,color"
   ]
  },
  {
   "cell_type": "code",
   "execution_count": 25,
   "metadata": {},
   "outputs": [],
   "source": [
    "def get_loader_val(df, image_dir, params):\n",
    "    df = df.reset_index(drop=True)\n",
    "    set = Dataset_val(df, image_dir)\n",
    "    loader = torch.utils.data.DataLoader(set, **params)\n",
    "    return loader\n",
    "\n",
    "def error_fn(df):\n",
    "    pred = df.loc[:, \"pred\"]\n",
    "    ground_truth = df.loc[:, \"target\"]\n",
    "    weight = 1/30 + ground_truth\n",
    "\n",
    "    return np.sum(((pred - ground_truth)**2) * weight, axis=0) / np.sum(weight, axis=0)\n",
    "\n",
    "def metric_fn(female, male):\n",
    "    err_male = error_fn(male)\n",
    "    err_female = error_fn(female)\n",
    "    print(\"Male error: \", err_male)\n",
    "    print(\"Female error: \", err_female)\n",
    "    \n",
    "    return (err_male + err_female) / 2 + abs(err_male - err_female)"
   ]
  },
  {
   "cell_type": "code",
   "execution_count": 26,
   "metadata": {},
   "outputs": [],
   "source": [
    "batch_size = 8\n",
    "params = {'batch_size': batch_size,\n",
    "            'shuffle': True,\n",
    "            'num_workers': 0}\n",
    "validation_generator = get_loader_val(df_val, image_dir, params)"
   ]
  },
  {
   "cell_type": "code",
   "execution_count": 27,
   "metadata": {},
   "outputs": [
    {
     "name": "stderr",
     "output_type": "stream",
     "text": [
      "100%|██████████| 2534/2534 [02:57<00:00, 14.25it/s]\n"
     ]
    },
    {
     "data": {
      "image/png": "[encoded data removed]",
      "text/plain": [
       "<Figure size 640x480 with 2 Axes>"
      ]
     },
     "metadata": {},
     "output_type": "display_data"
    }
   ],
   "source": [
    "import torch\n",
    "import torchvision.transforms as transforms\n",
    "from torch.utils.data import Dataset, DataLoader\n",
    "from PIL import Image\n",
    "import pandas as pd\n",
    "from tqdm import tqdm\n",
    "import torchvision.models as models\n",
    "import torch.nn as nn\n",
    "import torch.optim as optim\n",
    "\n",
    "from sklearn.metrics import confusion_matrix, ConfusionMatrixDisplay, classification_report\n",
    "import matplotlib.pyplot as plt\n",
    "\n",
    "\n",
    "results_list = []\n",
    "for batch_idx, (X, y, gender, filename, color) in tqdm(enumerate(validation_generator), total=len(validation_generator)):\n",
    "    X, y = X.to(device), y.to(device).view(-1, 1)\n",
    "    \n",
    "    y_preds = []\n",
    "    for i in range(len(X)):  \n",
    "        if color[i] == 1:  # \n",
    "            y_pred = model_color(X[i].unsqueeze(0))  \n",
    "        else:\n",
    "            y_pred = model_gray(X[i].unsqueeze(0)) \n",
    "        y_preds.append(y_pred.item())\n",
    "    \n",
    "    y_np = y.cpu().numpy().flatten()\n",
    "    \n",
    "    true_ranges = pd.cut(y_np, bins=bins, labels=labels, include_lowest=True)\n",
    "    pred_ranges = pd.cut(y_preds, bins=bins, labels=labels, include_lowest=True)\n",
    "    \n",
    "    for i in range(len(X)):\n",
    "        results_list.append({\n",
    "            'true_range': str(true_ranges[i]), \n",
    "            'pred_range': str(pred_ranges[i]),\n",
    "            'pred': float(y_preds[i]),\n",
    "            'target': float(y_np[i]),\n",
    "            'gender': float(gender[i])\n",
    "        })\n",
    "\n",
    "results_df = pd.DataFrame(results_list)\n",
    "\n",
    "y_true = results_df['true_range']\n",
    "y_pred = results_df['pred_range']\n",
    "cm = confusion_matrix(y_true, y_pred, labels=labels)\n",
    "\n",
    "disp = ConfusionMatrixDisplay(confusion_matrix=cm, display_labels=labels)\n",
    "disp.plot(cmap=plt.cm.Blues)\n",
    "plt.show()\n"
   ]
  },
  {
   "cell_type": "code",
   "execution_count": 28,
   "metadata": {},
   "outputs": [
    {
     "name": "stdout",
     "output_type": "stream",
     "text": [
      "Classification Report:\n",
      "\n",
      "              precision    recall  f1-score   support\n",
      "\n",
      "     0-0.025       0.85      0.75      0.80      6288\n",
      "  0.025-0.05       0.53      0.62      0.57      3396\n",
      "  0.05-0.075       0.49      0.50      0.50      2122\n",
      "   0.075-0.1       0.48      0.49      0.49      1646\n",
      "    0.1-0.15       0.66      0.65      0.66      2456\n",
      "    0.15-0.2       0.64      0.63      0.63      1654\n",
      "    0.2-0.25       0.61      0.63      0.62      1126\n",
      "    0.25-0.3       0.60      0.61      0.61       766\n",
      "    0.3-0.35       0.67      0.61      0.64       537\n",
      "       >0.35       0.86      0.51      0.64       278\n",
      "\n",
      "   micro avg       0.65      0.64      0.64     20269\n",
      "   macro avg       0.64      0.60      0.61     20269\n",
      "weighted avg       0.66      0.64      0.65     20269\n",
      "\n"
     ]
    }
   ],
   "source": [
    "print(f\"Classification Report:\\n\")\n",
    "print(classification_report(y_true, y_pred, labels=labels, target_names=labels))"
   ]
  },
  {
   "cell_type": "code",
   "execution_count": 29,
   "metadata": {},
   "outputs": [
    {
     "data": {
      "image/png": "[encoded data removed]",
      "text/plain": [
       "<Figure size 640x480 with 2 Axes>"
      ]
     },
     "metadata": {},
     "output_type": "display_data"
    },
    {
     "name": "stdout",
     "output_type": "stream",
     "text": [
      "Classification Report for Male Confusion Matrix:\n",
      "\n",
      "              precision    recall  f1-score   support\n",
      "\n",
      "     0-0.025       0.86      0.77      0.81      5384\n",
      "  0.025-0.05       0.53      0.61      0.57      2549\n",
      "  0.05-0.075       0.46      0.48      0.47      1214\n",
      "   0.075-0.1       0.42      0.43      0.43       710\n",
      "    0.1-0.15       0.56      0.54      0.55       843\n",
      "    0.15-0.2       0.60      0.57      0.58       583\n",
      "    0.2-0.25       0.59      0.59      0.59       405\n",
      "    0.25-0.3       0.60      0.56      0.58       248\n",
      "    0.3-0.35       0.62      0.54      0.58       159\n",
      "       >0.35       0.78      0.37      0.50        76\n",
      "\n",
      "   micro avg       0.66      0.65      0.65     12171\n",
      "   macro avg       0.60      0.55      0.57     12171\n",
      "weighted avg       0.67      0.65      0.66     12171\n",
      "\n"
     ]
    },
    {
     "data": {
      "image/png": "[encoded data removed]",
      "text/plain": [
       "<Figure size 640x480 with 2 Axes>"
      ]
     },
     "metadata": {},
     "output_type": "display_data"
    },
    {
     "name": "stdout",
     "output_type": "stream",
     "text": [
      "Classification Report for Female Confusion Matrix:\n",
      "\n",
      "              precision    recall  f1-score   support\n",
      "\n",
      "     0-0.025       0.83      0.64      0.72       904\n",
      "  0.025-0.05       0.53      0.65      0.59       847\n",
      "  0.05-0.075       0.52      0.54      0.53       908\n",
      "   0.075-0.1       0.52      0.54      0.53       936\n",
      "    0.1-0.15       0.71      0.71      0.71      1613\n",
      "    0.15-0.2       0.66      0.66      0.66      1071\n",
      "    0.2-0.25       0.62      0.64      0.63       721\n",
      "    0.25-0.3       0.61      0.63      0.62       518\n",
      "    0.3-0.35       0.69      0.64      0.66       378\n",
      "       >0.35       0.88      0.56      0.68       202\n",
      "\n",
      "   micro avg       0.63      0.63      0.63      8098\n",
      "   macro avg       0.66      0.62      0.63      8098\n",
      "weighted avg       0.64      0.63      0.64      8098\n",
      "\n",
      "Male error:  0.0018175635119606392\n",
      "Female error:  0.0012960507015616712\n"
     ]
    },
    {
     "data": {
      "text/plain": [
       "0.0020783199171601234"
      ]
     },
     "execution_count": 29,
     "metadata": {},
     "output_type": "execute_result"
    }
   ],
   "source": [
    "results_male = results_df.loc[results_df[\"gender\"] == 1]\n",
    "results_female = results_df.loc[results_df[\"gender\"] == 0]\n",
    "# print(results_male)\n",
    "# print(results_female)\n",
    "\n",
    "def plot_confusion_matrix(results, title):\n",
    "    y_true = results['true_range']\n",
    "    y_pred = results['pred_range']\n",
    "    cm = confusion_matrix(y_true, y_pred, labels=labels)\n",
    "    \n",
    "    disp = ConfusionMatrixDisplay(confusion_matrix=cm, display_labels=labels)\n",
    "    disp.plot(cmap=plt.cm.Blues)\n",
    "    plt.title(title)\n",
    "    plt.show()\n",
    "    \n",
    "    print(f\"Classification Report for {title}:\\n\")\n",
    "    print(classification_report(y_true, y_pred, labels=labels, target_names=labels))\n",
    "\n",
    "\n",
    "# Male Confusion Matrix\n",
    "plot_confusion_matrix(results_male, \"Male Confusion Matrix\")\n",
    "\n",
    "# Female Confusion Matrix\n",
    "plot_confusion_matrix(results_female, \"Female Confusion Matrix\")\n",
    "\n",
    "metric_fn(results_male, results_female)"
   ]
  },
  {
   "cell_type": "markdown",
   "metadata": {},
   "source": [
    "#### Test"
   ]
  },
  {
   "cell_type": "code",
   "execution_count": 30,
   "metadata": {},
   "outputs": [
    {
     "data": {
      "text/html": [
       "<div>\n",
       "<style scoped>\n",
       "    .dataframe tbody tr th:only-of-type {\n",
       "        vertical-align: middle;\n",
       "    }\n",
       "\n",
       "    .dataframe tbody tr th {\n",
       "        vertical-align: top;\n",
       "    }\n",
       "\n",
       "    .dataframe thead th {\n",
       "        text-align: right;\n",
       "    }\n",
       "</style>\n",
       "<table border=\"1\" class=\"dataframe\">\n",
       "  <thead>\n",
       "    <tr style=\"text-align: right;\">\n",
       "      <th></th>\n",
       "      <th>filename</th>\n",
       "      <th>is_grayscale</th>\n",
       "    </tr>\n",
       "  </thead>\n",
       "  <tbody>\n",
       "    <tr>\n",
       "      <th>0</th>\n",
       "      <td>database2/database2/test/0.jpg</td>\n",
       "      <td>False</td>\n",
       "    </tr>\n",
       "    <tr>\n",
       "      <th>1</th>\n",
       "      <td>database2/database2/test/1.jpg</td>\n",
       "      <td>False</td>\n",
       "    </tr>\n",
       "    <tr>\n",
       "      <th>2</th>\n",
       "      <td>database2/database2/test/2.jpg</td>\n",
       "      <td>True</td>\n",
       "    </tr>\n",
       "    <tr>\n",
       "      <th>3</th>\n",
       "      <td>database2/database2/test/3.jpg</td>\n",
       "      <td>False</td>\n",
       "    </tr>\n",
       "    <tr>\n",
       "      <th>4</th>\n",
       "      <td>database2/database2/test/4.jpg</td>\n",
       "      <td>False</td>\n",
       "    </tr>\n",
       "  </tbody>\n",
       "</table>\n",
       "</div>"
      ],
      "text/plain": [
       "                         filename  is_grayscale\n",
       "0  database2/database2/test/0.jpg         False\n",
       "1  database2/database2/test/1.jpg         False\n",
       "2  database2/database2/test/2.jpg          True\n",
       "3  database2/database2/test/3.jpg         False\n",
       "4  database2/database2/test/4.jpg         False"
      ]
     },
     "execution_count": 30,
     "metadata": {},
     "output_type": "execute_result"
    }
   ],
   "source": [
    "df_test = pd.read_csv(\"listes_training/data_100K/test_students.csv\", delimiter=' ')\n",
    "df_test = df_test.dropna()\n",
    "\n",
    "def is_grayscale(image_path):\n",
    "    img = Image.open(image_path).convert('RGB')\n",
    "    img_np = np.array(img)\n",
    "    if np.array_equal(img_np[..., 0], img_np[..., 1]) and np.array_equal(img_np[..., 0], img_np[..., 2]):\n",
    "        return True\n",
    "    return False\n",
    "\n",
    "df_test['is_grayscale'] = df_test['filename'].apply(lambda x: is_grayscale(f\"{image_dir}/{x}\"))\n",
    "df_test.head()\n"
   ]
  },
  {
   "cell_type": "code",
   "execution_count": 31,
   "metadata": {},
   "outputs": [
    {
     "name": "stderr",
     "output_type": "stream",
     "text": [
      "100%|██████████| 3814/3814 [02:03<00:00, 30.86it/s]\n"
     ]
    },
    {
     "data": {
      "text/html": [
       "<div>\n",
       "<style scoped>\n",
       "    .dataframe tbody tr th:only-of-type {\n",
       "        vertical-align: middle;\n",
       "    }\n",
       "\n",
       "    .dataframe tbody tr th {\n",
       "        vertical-align: top;\n",
       "    }\n",
       "\n",
       "    .dataframe thead th {\n",
       "        text-align: right;\n",
       "    }\n",
       "</style>\n",
       "<table border=\"1\" class=\"dataframe\">\n",
       "  <thead>\n",
       "    <tr style=\"text-align: right;\">\n",
       "      <th></th>\n",
       "      <th>pred</th>\n",
       "    </tr>\n",
       "  </thead>\n",
       "  <tbody>\n",
       "    <tr>\n",
       "      <th>0</th>\n",
       "      <td>0.307591</td>\n",
       "    </tr>\n",
       "    <tr>\n",
       "      <th>1</th>\n",
       "      <td>0.355882</td>\n",
       "    </tr>\n",
       "    <tr>\n",
       "      <th>2</th>\n",
       "      <td>0.119028</td>\n",
       "    </tr>\n",
       "    <tr>\n",
       "      <th>3</th>\n",
       "      <td>0.309866</td>\n",
       "    </tr>\n",
       "    <tr>\n",
       "      <th>4</th>\n",
       "      <td>0.405662</td>\n",
       "    </tr>\n",
       "  </tbody>\n",
       "</table>\n",
       "</div>"
      ],
      "text/plain": [
       "       pred\n",
       "0  0.307591\n",
       "1  0.355882\n",
       "2  0.119028\n",
       "3  0.309866\n",
       "4  0.405662"
      ]
     },
     "execution_count": 31,
     "metadata": {},
     "output_type": "execute_result"
    }
   ],
   "source": [
    "class Dataset_test(torch.utils.data.Dataset):\n",
    "    'Characterizes a dataset for PyTorch'\n",
    "    def __init__(self, df, image_dir):\n",
    "         'Initialization'\n",
    "         self.image_dir = image_dir\n",
    "         self.df = df\n",
    "         self.transform = transforms.ToTensor()\n",
    "         \n",
    "    def __len__(self):\n",
    "        'Denotes the total number of samples'\n",
    "        return len(self.df)\n",
    "\n",
    "    def __getitem__(self, index):\n",
    "        'Generates one sample of data'\n",
    "        # Select sample\n",
    "        row = self.df.loc[index]\n",
    "        filename = row['filename']\n",
    "        is_gray = row['is_grayscale']\n",
    "        # Load data and get label\n",
    "        img = Image.open(f\"{image_dir}/{filename}\")\n",
    "\n",
    "        X = self.transform(img)\n",
    "\n",
    "        return X, is_gray, filename\n",
    "\n",
    "test_set = Dataset_test(df_test, image_dir)\n",
    "params_test = {'batch_size': 8,\n",
    "          'shuffle': False,\n",
    "          'num_workers': 0}\n",
    "\n",
    "test_loader = torch.utils.data.DataLoader(test_set, **params_test)\n",
    "\n",
    "\n",
    "# Prediction\n",
    "results_list = []\n",
    "for batch_idx, (X, is_gray, filename) in tqdm(enumerate(test_loader), total=len(test_loader)):\n",
    "    X = X.to(device)\n",
    "    for i in range(len(X)):  \n",
    "        if is_gray[i].item():  # Test if the image is grayscale image\n",
    "            y_pred = model_gray(X[i].unsqueeze(0)) \n",
    "        else:\n",
    "            y_pred = model_color(X[i].unsqueeze(0)) \n",
    "        \n",
    "        results_list.append({'pred': float(y_pred.squeeze().item())})\n",
    "\n",
    "test_df = pd.DataFrame(results_list)\n",
    "test_df.head()"
   ]
  },
  {
   "cell_type": "code",
   "execution_count": 32,
   "metadata": {},
   "outputs": [],
   "source": [
    "test_df.to_csv(\"Data_Challenge.csv\", header = None, index = None)\n"
   ]
  },
  {
   "cell_type": "code",
   "execution_count": null,
   "metadata": {},
   "outputs": [],
   "source": []
  },
  {
   "cell_type": "code",
   "execution_count": null,
   "metadata": {},
   "outputs": [],
   "source": []
  },
  {
   "cell_type": "code",
   "execution_count": null,
   "metadata": {},
   "outputs": [],
   "source": []
  }
 ],
 "metadata": {
  "kernelspec": {
   "display_name": "virtual",
   "language": "python",
   "name": "python3"
  },
  "language_info": {
   "codemirror_mode": {
    "name": "ipython",
    "version": 3
   },
   "file_extension": ".py",
   "mimetype": "text/x-python",
   "name": "python",
   "nbconvert_exporter": "python",
   "pygments_lexer": "ipython3",
   "version": "3.11.5"
  }
 },
 "nbformat": 4,
 "nbformat_minor": 2
}
