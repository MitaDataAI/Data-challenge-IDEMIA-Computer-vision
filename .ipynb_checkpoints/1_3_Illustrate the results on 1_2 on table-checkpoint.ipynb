{
 "cells": [
  {
   "cell_type": "markdown",
   "id": "72ea95be-f79d-453b-ba1f-ac3f3a7ad59d",
   "metadata": {},
   "source": [
    "# Package"
   ]
  },
  {
   "cell_type": "code",
   "execution_count": 7,
   "id": "bde6ae3a-ecc8-47bd-9c38-3c7a4324f099",
   "metadata": {},
   "outputs": [],
   "source": [
    "import pandas as pd\n",
    "import matplotlib.pyplot as plt"
   ]
  },
  {
   "cell_type": "markdown",
   "id": "178e97fd-daa8-4b6e-9d8b-2b7a4a7706b3",
   "metadata": {},
   "source": [
    "# Load Data"
   ]
  },
  {
   "cell_type": "code",
   "execution_count": 2,
   "id": "5c0b9bcb-210e-47ad-94a7-bb7d5bcf0e7a",
   "metadata": {},
   "outputs": [],
   "source": [
    "df_train = pd.read_csv(\"df_train.csv\")\n",
    "df_test = pd.read_csv(\"df_test.csv\")"
   ]
  },
  {
   "cell_type": "markdown",
   "id": "6efaef3a-7d97-45e4-9cf0-c68916ccf61d",
   "metadata": {},
   "source": [
    "# Analysis of gender distribution in df_train and df_test"
   ]
  },
  {
   "cell_type": "code",
   "execution_count": 3,
   "id": "64b1eac8-ffa4-43c8-a0e0-bb2f8ea2380e",
   "metadata": {},
   "outputs": [
    {
     "data": {
      "text/html": [
       "<div>\n",
       "<style scoped>\n",
       "    .dataframe tbody tr th:only-of-type {\n",
       "        vertical-align: middle;\n",
       "    }\n",
       "\n",
       "    .dataframe tbody tr th {\n",
       "        vertical-align: top;\n",
       "    }\n",
       "\n",
       "    .dataframe thead th {\n",
       "        text-align: right;\n",
       "    }\n",
       "</style>\n",
       "<table border=\"1\" class=\"dataframe\">\n",
       "  <thead>\n",
       "    <tr style=\"text-align: right;\">\n",
       "      <th></th>\n",
       "      <th>count</th>\n",
       "      <th>gender_id</th>\n",
       "      <th>FaceOcclusion</th>\n",
       "      <th>gender_ratio</th>\n",
       "    </tr>\n",
       "    <tr>\n",
       "      <th>db_number</th>\n",
       "      <th></th>\n",
       "      <th></th>\n",
       "      <th></th>\n",
       "      <th></th>\n",
       "    </tr>\n",
       "  </thead>\n",
       "  <tbody>\n",
       "    <tr>\n",
       "      <th>1</th>\n",
       "      <td>30000.0</td>\n",
       "      <td>10845.0</td>\n",
       "      <td>11.42%</td>\n",
       "      <td>36.15%</td>\n",
       "    </tr>\n",
       "    <tr>\n",
       "      <th>2</th>\n",
       "      <td>1345.0</td>\n",
       "      <td>717.0</td>\n",
       "      <td>12.99%</td>\n",
       "      <td>53.31%</td>\n",
       "    </tr>\n",
       "    <tr>\n",
       "      <th>3</th>\n",
       "      <td>69996.0</td>\n",
       "      <td>49352.0</td>\n",
       "      <td>7.56%</td>\n",
       "      <td>70.51%</td>\n",
       "    </tr>\n",
       "    <tr>\n",
       "      <th>TOTAL</th>\n",
       "      <td>101341.0</td>\n",
       "      <td>60914.0</td>\n",
       "      <td>8.78%</td>\n",
       "      <td>60.11%</td>\n",
       "    </tr>\n",
       "  </tbody>\n",
       "</table>\n",
       "</div>"
      ],
      "text/plain": [
       "              count  gender_id FaceOcclusion gender_ratio\n",
       "db_number                                                \n",
       "1           30000.0    10845.0        11.42%       36.15%\n",
       "2            1345.0      717.0        12.99%       53.31%\n",
       "3           69996.0    49352.0         7.56%       70.51%\n",
       "TOTAL      101341.0    60914.0         8.78%       60.11%"
      ]
     },
     "execution_count": 3,
     "metadata": {},
     "output_type": "execute_result"
    }
   ],
   "source": [
    "stats = df_train.groupby('db_number')[['count','gender_id','FaceOcclusion']].sum()\n",
    "stats.loc['TOTAL'] = stats.sum()\n",
    "stats['FaceOcclusion'] = stats['FaceOcclusion']/stats['count']\n",
    "stats['FaceOcclusion'] = stats['FaceOcclusion'].map('{:.2%}'.format)\n",
    "stats['gender_ratio'] = stats['gender_id']/stats['count']\n",
    "stats ['gender_ratio'] = stats['gender_ratio'].map('{:.2%}'.format)     \n",
    "stats"
   ]
  },
  {
   "cell_type": "markdown",
   "id": "8067994f-5f45-464e-afbe-231c0037b7f7",
   "metadata": {},
   "source": [
    "# Comment"
   ]
  },
  {
   "cell_type": "markdown",
   "id": "31efbe2b-d416-4f1d-ad78-b25d6717099a",
   "metadata": {},
   "source": [
    "- DB 3 clearly dominates the dataset (≈ 69%) and is heavily female-dominated (≈ 70% of images labeled as \"female\"), while also having the lowest occlusion rate.\n",
    "- DB 2 is the smallest, but has the highest occlusion rate (≈ 13%).\n",
    "- DB 1 is mostly male (≈ 64%) with an intermediate occlusion rate (≈ 11%).\n",
    "\n",
    "→ The dataset is highly heterogeneous in terms of size, gender distribution, and degree of occlusion."
   ]
  },
  {
   "cell_type": "markdown",
   "id": "bf804bb9-7943-40ad-b24d-4d4e0b7369b9",
   "metadata": {},
   "source": [
    "# Face OCCLUSION BY GENDER"
   ]
  },
  {
   "cell_type": "code",
   "execution_count": 5,
   "id": "dac6d41c-fc74-4170-89c5-3a1f0dbdf04d",
   "metadata": {},
   "outputs": [
    {
     "data": {
      "text/html": [
       "<div>\n",
       "<style scoped>\n",
       "    .dataframe tbody tr th:only-of-type {\n",
       "        vertical-align: middle;\n",
       "    }\n",
       "\n",
       "    .dataframe tbody tr th {\n",
       "        vertical-align: top;\n",
       "    }\n",
       "\n",
       "    .dataframe thead th {\n",
       "        text-align: right;\n",
       "    }\n",
       "</style>\n",
       "<table border=\"1\" class=\"dataframe\">\n",
       "  <thead>\n",
       "    <tr style=\"text-align: right;\">\n",
       "      <th></th>\n",
       "      <th>count</th>\n",
       "      <th>FaceOcclusion</th>\n",
       "    </tr>\n",
       "    <tr>\n",
       "      <th>gender_id</th>\n",
       "      <th></th>\n",
       "      <th></th>\n",
       "    </tr>\n",
       "  </thead>\n",
       "  <tbody>\n",
       "    <tr>\n",
       "      <th>0</th>\n",
       "      <td>40427.0</td>\n",
       "      <td>13.01%</td>\n",
       "    </tr>\n",
       "    <tr>\n",
       "      <th>1</th>\n",
       "      <td>60914.0</td>\n",
       "      <td>5.97%</td>\n",
       "    </tr>\n",
       "    <tr>\n",
       "      <th>TOTAL</th>\n",
       "      <td>101341.0</td>\n",
       "      <td>8.78%</td>\n",
       "    </tr>\n",
       "  </tbody>\n",
       "</table>\n",
       "</div>"
      ],
      "text/plain": [
       "              count FaceOcclusion\n",
       "gender_id                        \n",
       "0           40427.0        13.01%\n",
       "1           60914.0         5.97%\n",
       "TOTAL      101341.0         8.78%"
      ]
     },
     "execution_count": 5,
     "metadata": {},
     "output_type": "execute_result"
    }
   ],
   "source": [
    "stats = df_train.groupby('gender_id')[['count','FaceOcclusion']].sum()\n",
    "stats.loc['TOTAL'] = stats.sum()\n",
    "stats['FaceOcclusion'] = stats['FaceOcclusion']/stats['count']\n",
    "stats['FaceOcclusion'] = stats['FaceOcclusion'].map('{:.2%}'.format)\n",
    "stats"
   ]
  },
  {
   "cell_type": "markdown",
   "id": "8ff1ac6c-af09-49f1-8a15-19dc16a2cbef",
   "metadata": {},
   "source": [
    "# Comment"
   ]
  },
  {
   "cell_type": "markdown",
   "id": "e521d1a1-2db5-4377-bb9b-b66d149bcaaa",
   "metadata": {},
   "source": [
    "- 60% of the images belong to the \"Female\" (gender class 1).\n",
    "- Female have more than twice as many partially occluded faces as women."
   ]
  },
  {
   "cell_type": "markdown",
   "id": "c1a8d4ba-5209-487c-96d9-29dfcdbd8f57",
   "metadata": {},
   "source": [
    "# stats by gender and database (1,2 or 3)"
   ]
  },
  {
   "cell_type": "code",
   "execution_count": 8,
   "id": "49638629-faad-45a3-9d7b-50dfefb1a260",
   "metadata": {},
   "outputs": [
    {
     "name": "stderr",
     "output_type": "stream",
     "text": [
      "C:\\Users\\Mita\\AppData\\Local\\Temp\\ipykernel_4256\\1617968890.py:11: FutureWarning: Series.__getitem__ treating keys as positions is deprecated. In a future version, integer keys will always be treated as labels (consistent with DataFrame behavior). To access a value by position, use `ser.iloc[pos]`\n",
      "  plt.annotate(txt, (stats['FaceOcclusion'][i], stats['pixels_mean'][i]),\n",
      "C:\\Users\\Mita\\AppData\\Local\\Temp\\ipykernel_4256\\1617968890.py:15: UserWarning: No artists with labels found to put in legend.  Note that artists whose label start with an underscore are ignored when legend() is called with no argument.\n",
      "  plt.legend()\n"
     ]
    },
    {
     "data": {
      "image/png": "[encoded data removed]",
      "text/plain": [
       "<Figure size 640x480 with 1 Axes>"
      ]
     },
     "metadata": {},
     "output_type": "display_data"
    },
    {
     "data": {
      "text/html": [
       "<div>\n",
       "<style scoped>\n",
       "    .dataframe tbody tr th:only-of-type {\n",
       "        vertical-align: middle;\n",
       "    }\n",
       "\n",
       "    .dataframe tbody tr th {\n",
       "        vertical-align: top;\n",
       "    }\n",
       "\n",
       "    .dataframe thead th {\n",
       "        text-align: right;\n",
       "    }\n",
       "</style>\n",
       "<table border=\"1\" class=\"dataframe\">\n",
       "  <thead>\n",
       "    <tr style=\"text-align: right;\">\n",
       "      <th></th>\n",
       "      <th>count</th>\n",
       "      <th>FaceOcclusion</th>\n",
       "      <th>pixels_mean</th>\n",
       "      <th>Occ_ratio</th>\n",
       "    </tr>\n",
       "  </thead>\n",
       "  <tbody>\n",
       "    <tr>\n",
       "      <th>(0, 1)</th>\n",
       "      <td>19155.0</td>\n",
       "      <td>0.136473</td>\n",
       "      <td>116.882212</td>\n",
       "      <td>13.65%</td>\n",
       "    </tr>\n",
       "    <tr>\n",
       "      <th>(0, 2)</th>\n",
       "      <td>628.0</td>\n",
       "      <td>0.176193</td>\n",
       "      <td>113.520409</td>\n",
       "      <td>17.62%</td>\n",
       "    </tr>\n",
       "    <tr>\n",
       "      <th>(0, 3)</th>\n",
       "      <td>20644.0</td>\n",
       "      <td>0.122845</td>\n",
       "      <td>119.950728</td>\n",
       "      <td>12.28%</td>\n",
       "    </tr>\n",
       "    <tr>\n",
       "      <th>(1, 1)</th>\n",
       "      <td>10845.0</td>\n",
       "      <td>0.074884</td>\n",
       "      <td>112.602381</td>\n",
       "      <td>7.49%</td>\n",
       "    </tr>\n",
       "    <tr>\n",
       "      <th>(1, 2)</th>\n",
       "      <td>717.0</td>\n",
       "      <td>0.089300</td>\n",
       "      <td>109.845270</td>\n",
       "      <td>8.93%</td>\n",
       "    </tr>\n",
       "    <tr>\n",
       "      <th>(1, 3)</th>\n",
       "      <td>49352.0</td>\n",
       "      <td>0.055876</td>\n",
       "      <td>119.965085</td>\n",
       "      <td>5.59%</td>\n",
       "    </tr>\n",
       "    <tr>\n",
       "      <th>TOTAL</th>\n",
       "      <td>101341.0</td>\n",
       "      <td>0.087769</td>\n",
       "      <td>118.479995</td>\n",
       "      <td>8.78%</td>\n",
       "    </tr>\n",
       "  </tbody>\n",
       "</table>\n",
       "</div>"
      ],
      "text/plain": [
       "           count  FaceOcclusion  pixels_mean Occ_ratio\n",
       "(0, 1)   19155.0       0.136473   116.882212    13.65%\n",
       "(0, 2)     628.0       0.176193   113.520409    17.62%\n",
       "(0, 3)   20644.0       0.122845   119.950728    12.28%\n",
       "(1, 1)   10845.0       0.074884   112.602381     7.49%\n",
       "(1, 2)     717.0       0.089300   109.845270     8.93%\n",
       "(1, 3)   49352.0       0.055876   119.965085     5.59%\n",
       "TOTAL   101341.0       0.087769   118.479995     8.78%"
      ]
     },
     "execution_count": 8,
     "metadata": {},
     "output_type": "execute_result"
    }
   ],
   "source": [
    "# stats by gender and database (1,2 or 3)\n",
    "\n",
    "stats = df_train.groupby(['gender_id','db_number'])[['count','FaceOcclusion','pixels_mean']].sum()\n",
    "stats.loc['TOTAL'] = stats.sum()\n",
    "stats['FaceOcclusion'] = stats['FaceOcclusion']/stats['count']\n",
    "stats['pixels_mean'] = stats['pixels_mean']/stats['count']\n",
    "stats['Occ_ratio'] = stats['FaceOcclusion'].map('{:.2%}'.format)\n",
    "\n",
    "plt.scatter(stats['FaceOcclusion'], stats['pixels_mean'], s=stats['count'] / 100, alpha=0.5)\n",
    "for i, txt in enumerate(stats.index):\n",
    "    plt.annotate(txt, (stats['FaceOcclusion'][i], stats['pixels_mean'][i]),\n",
    "                 textcoords=\"offset points\", xytext=(7,7), ha='center')\n",
    "plt.xlabel('FaceOcclusion')\n",
    "plt.ylabel('pixels_mean')\n",
    "plt.legend()\n",
    "plt.show()\n",
    "\n",
    "stats"
   ]
  },
  {
   "cell_type": "markdown",
   "id": "06ede795-5b1a-472b-82d1-6a22ae7e3e67",
   "metadata": {},
   "source": [
    "# Comment"
   ]
  },
  {
   "cell_type": "markdown",
   "id": "e53f58da-6672-4af5-81e7-3a8421fa7118",
   "metadata": {},
   "source": [
    "- Men are consistently more occluded than women, with nearly twice as many partially occluded faces in each database.\n",
    "\n",
    "- Women are generally brighter, especially in DB3, which shows the highest average pixel values.\n",
    "\n",
    "- DB2 is the darkest and most occluded database, while DB3 is the brightest and least occluded."
   ]
  },
  {
   "cell_type": "markdown",
   "id": "5be6e071-c36f-4388-9229-1b575da0eaa4",
   "metadata": {},
   "source": [
    "# stats by gender and database (1,2 or 3)"
   ]
  },
  {
   "cell_type": "code",
   "execution_count": 9,
   "id": "1aab076b-8f5e-416d-8ddc-45af2572621d",
   "metadata": {},
   "outputs": [
    {
     "name": "stderr",
     "output_type": "stream",
     "text": [
      "C:\\Users\\Mita\\AppData\\Local\\Temp\\ipykernel_4256\\1301217556.py:18: FutureWarning: Series.__getitem__ treating keys as positions is deprecated. In a future version, integer keys will always be treated as labels (consistent with DataFrame behavior). To access a value by position, use `ser.iloc[pos]`\n",
      "  plt.annotate(txt, (stats['FaceOcclusion'][i], stats['pixels_mean'][i]),\n",
      "C:\\Users\\Mita\\AppData\\Local\\Temp\\ipykernel_4256\\1301217556.py:23: FutureWarning: Series.__getitem__ treating keys as positions is deprecated. In a future version, integer keys will always be treated as labels (consistent with DataFrame behavior). To access a value by position, use `ser.iloc[pos]`\n",
      "  plt.annotate(txt, (stats['FaceOcclusion'][i], stats['pixels_mean'][i]),\n",
      "C:\\Users\\Mita\\AppData\\Local\\Temp\\ipykernel_4256\\1301217556.py:28: FutureWarning: Series.__getitem__ treating keys as positions is deprecated. In a future version, integer keys will always be treated as labels (consistent with DataFrame behavior). To access a value by position, use `ser.iloc[pos]`\n",
      "  plt.annotate(txt, (stats['FaceOcclusion'][i], stats['pixels_mean'][i]),\n"
     ]
    },
    {
     "data": {
      "image/png": "[encoded data removed]",
      "text/plain": [
       "<Figure size 640x480 with 1 Axes>"
      ]
     },
     "metadata": {},
     "output_type": "display_data"
    },
    {
     "data": {
      "text/html": [
       "<div>\n",
       "<style scoped>\n",
       "    .dataframe tbody tr th:only-of-type {\n",
       "        vertical-align: middle;\n",
       "    }\n",
       "\n",
       "    .dataframe tbody tr th {\n",
       "        vertical-align: top;\n",
       "    }\n",
       "\n",
       "    .dataframe thead th {\n",
       "        text-align: right;\n",
       "    }\n",
       "</style>\n",
       "<table border=\"1\" class=\"dataframe\">\n",
       "  <thead>\n",
       "    <tr style=\"text-align: right;\">\n",
       "      <th></th>\n",
       "      <th>count</th>\n",
       "      <th>FaceOcclusion</th>\n",
       "      <th>pixels_mean</th>\n",
       "      <th>Occ_ratio</th>\n",
       "    </tr>\n",
       "  </thead>\n",
       "  <tbody>\n",
       "    <tr>\n",
       "      <th>(0, 0, 2)</th>\n",
       "      <td>34.0</td>\n",
       "      <td>0.124647</td>\n",
       "      <td>121.242183</td>\n",
       "      <td>12.46%</td>\n",
       "    </tr>\n",
       "    <tr>\n",
       "      <th>(0, 0, 3)</th>\n",
       "      <td>4194.0</td>\n",
       "      <td>0.104312</td>\n",
       "      <td>125.896685</td>\n",
       "      <td>10.43%</td>\n",
       "    </tr>\n",
       "    <tr>\n",
       "      <th>(0, 1, 2)</th>\n",
       "      <td>77.0</td>\n",
       "      <td>0.075247</td>\n",
       "      <td>118.618112</td>\n",
       "      <td>7.52%</td>\n",
       "    </tr>\n",
       "    <tr>\n",
       "      <th>(0, 1, 3)</th>\n",
       "      <td>9770.0</td>\n",
       "      <td>0.054866</td>\n",
       "      <td>128.570309</td>\n",
       "      <td>5.49%</td>\n",
       "    </tr>\n",
       "    <tr>\n",
       "      <th>(1, 0, 1)</th>\n",
       "      <td>19155.0</td>\n",
       "      <td>0.136473</td>\n",
       "      <td>116.882212</td>\n",
       "      <td>13.65%</td>\n",
       "    </tr>\n",
       "    <tr>\n",
       "      <th>(1, 0, 2)</th>\n",
       "      <td>594.0</td>\n",
       "      <td>0.179143</td>\n",
       "      <td>113.078422</td>\n",
       "      <td>17.91%</td>\n",
       "    </tr>\n",
       "    <tr>\n",
       "      <th>(1, 0, 3)</th>\n",
       "      <td>16450.0</td>\n",
       "      <td>0.127571</td>\n",
       "      <td>118.434779</td>\n",
       "      <td>12.76%</td>\n",
       "    </tr>\n",
       "    <tr>\n",
       "      <th>(1, 1, 1)</th>\n",
       "      <td>10845.0</td>\n",
       "      <td>0.074884</td>\n",
       "      <td>112.602381</td>\n",
       "      <td>7.49%</td>\n",
       "    </tr>\n",
       "    <tr>\n",
       "      <th>(1, 1, 2)</th>\n",
       "      <td>640.0</td>\n",
       "      <td>0.090991</td>\n",
       "      <td>108.789788</td>\n",
       "      <td>9.10%</td>\n",
       "    </tr>\n",
       "    <tr>\n",
       "      <th>(1, 1, 3)</th>\n",
       "      <td>39582.0</td>\n",
       "      <td>0.056126</td>\n",
       "      <td>117.841063</td>\n",
       "      <td>5.61%</td>\n",
       "    </tr>\n",
       "    <tr>\n",
       "      <th>TOTAL</th>\n",
       "      <td>101341.0</td>\n",
       "      <td>0.087769</td>\n",
       "      <td>118.479995</td>\n",
       "      <td>8.78%</td>\n",
       "    </tr>\n",
       "  </tbody>\n",
       "</table>\n",
       "</div>"
      ],
      "text/plain": [
       "              count  FaceOcclusion  pixels_mean Occ_ratio\n",
       "(0, 0, 2)      34.0       0.124647   121.242183    12.46%\n",
       "(0, 0, 3)    4194.0       0.104312   125.896685    10.43%\n",
       "(0, 1, 2)      77.0       0.075247   118.618112     7.52%\n",
       "(0, 1, 3)    9770.0       0.054866   128.570309     5.49%\n",
       "(1, 0, 1)   19155.0       0.136473   116.882212    13.65%\n",
       "(1, 0, 2)     594.0       0.179143   113.078422    17.91%\n",
       "(1, 0, 3)   16450.0       0.127571   118.434779    12.76%\n",
       "(1, 1, 1)   10845.0       0.074884   112.602381     7.49%\n",
       "(1, 1, 2)     640.0       0.090991   108.789788     9.10%\n",
       "(1, 1, 3)   39582.0       0.056126   117.841063     5.61%\n",
       "TOTAL      101341.0       0.087769   118.479995     8.78%"
      ]
     },
     "execution_count": 9,
     "metadata": {},
     "output_type": "execute_result"
    }
   ],
   "source": [
    "stats = df_train.groupby(['color','gender_id','db_number'])[['count','FaceOcclusion','pixels_mean']].sum()\n",
    "stats.loc['TOTAL'] = stats.sum()\n",
    "stats['FaceOcclusion'] = stats['FaceOcclusion']/stats['count']\n",
    "stats['pixels_mean'] = stats['pixels_mean']/stats['count']\n",
    "stats['Occ_ratio'] = stats['FaceOcclusion'].map('{:.2%}'.format)\n",
    "\n",
    "\n",
    "plt.scatter(stats['FaceOcclusion'][0:4], stats['pixels_mean'][0:4], color='gray' , marker='o', label='grayscale images', s=stats['count'][0:4] / 100, alpha=0.5) \n",
    "plt.scatter(stats['FaceOcclusion'][4:10], stats['pixels_mean'][4:10],color='red' ,marker='o', label='color images', s=stats['count'][4:10] / 100, alpha=0.5)\n",
    "plt.scatter(stats['FaceOcclusion'][10:], stats['pixels_mean'][10:],color='black' , label='all images', s=stats['count'][10:] / 100, alpha=0.5)\n",
    "\n",
    "# labels = ['w db2','w db3','m db2','m db3','w db1','w db2','w db3','m db1','m db2','m db3','ALL']\n",
    "labels = ['women db2','women db3','men db2','men db3','women db1','women db2','women db3','men db1','men db2','men db3','ALL']\n",
    "labels = ['','','','','','','','','','','ALL']\n",
    "for i, txt in enumerate(labels): #enumerate(stats.index):\n",
    "    plt.annotate(txt, (stats['FaceOcclusion'][i], stats['pixels_mean'][i]),\n",
    "                 textcoords=\"offset points\", xytext=(7,7), ha='center', color = \"black\")\n",
    "# labels = ['','','','','w db1','w db2','w db3','m db1','m db2','m db3','']\n",
    "labels = ['','','','','women db1','women db2','women db3','men db1','men db2','men db3','']\n",
    "for i, txt in enumerate(labels[0:10]): #enumerate(stats.index):\n",
    "    plt.annotate(txt, (stats['FaceOcclusion'][i], stats['pixels_mean'][i]),\n",
    "                 textcoords=\"offset points\", xytext=(7,7), ha='center', color = \"red\")\n",
    "# labels = ['w db2','w db3','m db2','m db3','','','','','','','']\n",
    "labels = ['women db2','women db3','men db2','men db3','','','','','','','']\n",
    "for i, txt in enumerate(labels[0:4]): #enumerate(stats.index):\n",
    "    plt.annotate(txt, (stats['FaceOcclusion'][i], stats['pixels_mean'][i]),\n",
    "                 textcoords=\"offset points\", xytext=(7,7), ha='center', color = \"gray\")\n",
    "    \n",
    "\n",
    "plt.xlabel('FaceOcclusion')\n",
    "plt.ylabel('pixels_mean')\n",
    "plt.legend()\n",
    "plt.title('COLOR vs GRAYSCALE IMAGES PIXEL DISTRIBUTION BY SOURCE AND OCCLUSION LEVEL\\n\\n Images come from 3 databases (db1, db2 & db 3) \\nwith different pixel distribution and occlusion levels\\n(size of round is proportionnal to number of images availible)\\n')\n",
    "plt.show()\n",
    "\n",
    "stats"
   ]
  },
  {
   "cell_type": "markdown",
   "id": "55318371-f9d6-418a-87aa-23e4c6d2d75b",
   "metadata": {},
   "source": [
    "# Key Observations\n",
    "\n",
    "## Grayscale Images (Color = 0):\n",
    "- DB 3 (both genders) has the highest brightness: Males: 125.90, Females: 128.57\n",
    "- Females are less occluded than males, with lower occlusion ratios and occlusion means (e.g., 5.49% vs. 10.43%).\n",
    "- Grayscale DB 2 contains very few samples and is less reliable.\n",
    "\n",
    "## Color Images (Color = 1):\n",
    "- Males are more occluded than females across all databases: Example: DB 2 → 17.91% (♂) vs. 9.10% (♀)\n",
    "- Females are brighter in DB 3: 117.84 (♀) vs. 118.43 (♂), but with much lower occlusion (5.61% vs. 12.76%).\n",
    "- DB 1 (color only) shows same trend:Higher brightness and lower occlusion in women."
   ]
  },
  {
   "cell_type": "markdown",
   "id": "a85fd785-d3db-459b-8a46-710a334b45f6",
   "metadata": {},
   "source": [
    "# Summary : \n",
    "- Females are consistently less occluded and generally brighter, especially in grayscale DB 3.\n",
    "- Males show higher occlusion ratios, particularly in color DB 2.\n",
    "- These disparities support separate modeling or normalization strategies by gender, image type, and source."
   ]
  },
  {
   "cell_type": "markdown",
   "id": "11ed61d7-a6f7-4acb-9b2c-9d76c12c6cd8",
   "metadata": {},
   "source": [
    "# stats by color, gender and database (1,2 or 3)"
   ]
  },
  {
   "cell_type": "code",
   "execution_count": 10,
   "id": "6e2ba76b-7163-4f8b-a5f7-92b0b532aa8c",
   "metadata": {},
   "outputs": [
    {
     "data": {
      "text/html": [
       "<div>\n",
       "<style scoped>\n",
       "    .dataframe tbody tr th:only-of-type {\n",
       "        vertical-align: middle;\n",
       "    }\n",
       "\n",
       "    .dataframe tbody tr th {\n",
       "        vertical-align: top;\n",
       "    }\n",
       "\n",
       "    .dataframe thead th {\n",
       "        text-align: right;\n",
       "    }\n",
       "</style>\n",
       "<table border=\"1\" class=\"dataframe\">\n",
       "  <thead>\n",
       "    <tr style=\"text-align: right;\">\n",
       "      <th></th>\n",
       "      <th>count</th>\n",
       "      <th>FaceOcclusion</th>\n",
       "    </tr>\n",
       "  </thead>\n",
       "  <tbody>\n",
       "    <tr>\n",
       "      <th>(0, 0, 2)</th>\n",
       "      <td>34.0</td>\n",
       "      <td>12.46%</td>\n",
       "    </tr>\n",
       "    <tr>\n",
       "      <th>(0, 0, 3)</th>\n",
       "      <td>4194.0</td>\n",
       "      <td>10.43%</td>\n",
       "    </tr>\n",
       "    <tr>\n",
       "      <th>(0, 1, 2)</th>\n",
       "      <td>77.0</td>\n",
       "      <td>7.52%</td>\n",
       "    </tr>\n",
       "    <tr>\n",
       "      <th>(0, 1, 3)</th>\n",
       "      <td>9770.0</td>\n",
       "      <td>5.49%</td>\n",
       "    </tr>\n",
       "    <tr>\n",
       "      <th>(1, 0, 1)</th>\n",
       "      <td>19155.0</td>\n",
       "      <td>13.65%</td>\n",
       "    </tr>\n",
       "    <tr>\n",
       "      <th>(1, 0, 2)</th>\n",
       "      <td>594.0</td>\n",
       "      <td>17.91%</td>\n",
       "    </tr>\n",
       "    <tr>\n",
       "      <th>(1, 0, 3)</th>\n",
       "      <td>16450.0</td>\n",
       "      <td>12.76%</td>\n",
       "    </tr>\n",
       "    <tr>\n",
       "      <th>(1, 1, 1)</th>\n",
       "      <td>10845.0</td>\n",
       "      <td>7.49%</td>\n",
       "    </tr>\n",
       "    <tr>\n",
       "      <th>(1, 1, 2)</th>\n",
       "      <td>640.0</td>\n",
       "      <td>9.10%</td>\n",
       "    </tr>\n",
       "    <tr>\n",
       "      <th>(1, 1, 3)</th>\n",
       "      <td>39582.0</td>\n",
       "      <td>5.61%</td>\n",
       "    </tr>\n",
       "    <tr>\n",
       "      <th>TOTAL</th>\n",
       "      <td>101341.0</td>\n",
       "      <td>8.78%</td>\n",
       "    </tr>\n",
       "  </tbody>\n",
       "</table>\n",
       "</div>"
      ],
      "text/plain": [
       "              count FaceOcclusion\n",
       "(0, 0, 2)      34.0        12.46%\n",
       "(0, 0, 3)    4194.0        10.43%\n",
       "(0, 1, 2)      77.0         7.52%\n",
       "(0, 1, 3)    9770.0         5.49%\n",
       "(1, 0, 1)   19155.0        13.65%\n",
       "(1, 0, 2)     594.0        17.91%\n",
       "(1, 0, 3)   16450.0        12.76%\n",
       "(1, 1, 1)   10845.0         7.49%\n",
       "(1, 1, 2)     640.0         9.10%\n",
       "(1, 1, 3)   39582.0         5.61%\n",
       "TOTAL      101341.0         8.78%"
      ]
     },
     "execution_count": 10,
     "metadata": {},
     "output_type": "execute_result"
    }
   ],
   "source": [
    "stats = df_train.groupby(['color','gender_id','db_number'])[['count','FaceOcclusion']].sum()\n",
    "stats.loc['TOTAL'] = stats.sum()\n",
    "stats['FaceOcclusion'] = stats['FaceOcclusion']/stats['count']\n",
    "stats['FaceOcclusion'] = stats['FaceOcclusion'].map('{:.2%}'.format)\n",
    "stats"
   ]
  },
  {
   "cell_type": "markdown",
   "id": "c0fba99a-f640-4a87-89bc-0c302804697e",
   "metadata": {},
   "source": [
    "## Key points\n",
    "### Grayscale images (Color = 0):\n",
    "#### Men are more occluded than women, even in grayscale: \n",
    "- DB 2: 12.46% (♂) vs. 7.52% (♀)\n",
    "- DB 3: 10.43% (♂) vs. 5.49% (♀)\n",
    "#### Grayscale data is limited, especially in DB 2 (only 34 male, 77 female images), making trends less robust.\n",
    "\n",
    "### Color images (Color = 1):\n",
    "#### Men consistently have higher occlusion rates:\n",
    "- DB 1: 13.65% (♂) vs. 7.49% (♀)\n",
    "- DB 2: 17.91% (♂) vs. 9.10% (♀)\n",
    "- DB 3: 12.76% (♂) vs. 5.61% (♀)\n",
    "\n",
    "#### Gender gap in occlusion is especially wide in DB 2 (almost 2× for men).\n"
   ]
  },
  {
   "cell_type": "markdown",
   "id": "6204058f-9911-4285-88f0-b074d2f55b53",
   "metadata": {},
   "source": [
    "# Summary:\n",
    "- Across all datasets and image types, men have higher occlusion rates than women.\n",
    "- Color images are more numerous and show clearer trends.\n",
    "- These patterns confirm that occlusion is gender-biased, reinforcing the need for balanced data or gender-aware modeling."
   ]
  },
  {
   "cell_type": "markdown",
   "id": "ab288684-eabe-4aef-ae82-14f35625d17b",
   "metadata": {},
   "source": [
    "# Why we need stratification? \n",
    "Occlusion stratification groups images based on the percentage of the face that is masked (e.g., 0–5%, 5–10%, etc.). It is essential for:\n",
    "- Analyzing the distribution of occlusion levels in the dataset,\n",
    "- Balancing sampling during model training,\n",
    "- Evaluating model performance across different occlusion ranges.\n",
    "\n",
    "This helps reduce bias and improve model robustness when dealing with partially occluded faces."
   ]
  },
  {
   "cell_type": "code",
   "execution_count": 11,
   "id": "6352e786-9179-42ee-9eff-28ced52e6df9",
   "metadata": {},
   "outputs": [
    {
     "name": "stdout",
     "output_type": "stream",
     "text": [
      "['0-0.05', '0.05-0.1', '0.1-0.15', '0.15-0.2', '0.2-0.25', '0.25-0.3', '0.3-0.35', '0.35-0.4', '0.4-1.0']\n"
     ]
    },
    {
     "data": {
      "text/plain": [
       "stratification\n",
       "0.0      9097\n",
       "1.0      9144\n",
       "2.0      8204\n",
       "3.0      5324\n",
       "4.0      3467\n",
       "5.0      2525\n",
       "6.0      1666\n",
       "7.0       714\n",
       "8.0       286\n",
       "10.0    39923\n",
       "11.0     9470\n",
       "12.0     4314\n",
       "13.0     2831\n",
       "14.0     1919\n",
       "15.0     1331\n",
       "16.0      731\n",
       "17.0      286\n",
       "18.0      109\n",
       "Name: count, dtype: int64"
      ]
     },
     "execution_count": 11,
     "metadata": {},
     "output_type": "execute_result"
    }
   ],
   "source": [
    "# Prediction of gender in the test dataset\n",
    "\n",
    "# define the occlusion levels (color images)\n",
    "bins = [0, 0.05, 0.1, 0.15, 0.2, 0.25, 0.3, 0.35, 0.4, 1.0]\n",
    "labels = []\n",
    "for i in range(len(bins)-1): labels.append(str(bins[i])+'-'+str(bins[i+1]))\n",
    "print(labels)\n",
    "\n",
    "# add the labels to the train dataset\n",
    "df_train['range'] = pd.cut(df_train['FaceOcclusion'], bins=bins, labels=labels, include_lowest=True)\n",
    "df_train['range_id'] = df_train['range'].apply(lambda x: labels.index(x))\n",
    "\n",
    "#split the train dataset into train and validation datasets\n",
    "df_train['stratification'] = df_train['gender_id']*10 + (df_train['range_id']).astype(float)\n",
    "df_train.groupby('stratification')['count'].sum()"
   ]
  },
  {
   "cell_type": "code",
   "execution_count": 16,
   "id": "b0ac8f3f-e91a-4140-a77b-743c66785f3d",
   "metadata": {},
   "outputs": [
    {
     "name": "stdout",
     "output_type": "stream",
     "text": [
      "  Occlusion Range  Label  Image Count % of Total\n",
      "0          0-0.05      0        49020      48.4%\n",
      "1        0.05-0.1      1        18614      18.4%\n",
      "2        0.1-0.15      2        12518      12.4%\n",
      "3        0.15-0.2      3         8155       8.0%\n",
      "4        0.2-0.25      4         5386       5.3%\n",
      "5        0.25-0.3      5         3856       3.8%\n",
      "6        0.3-0.35      6         2397       2.4%\n",
      "7        0.35-0.4      7         1000       1.0%\n",
      "8         0.4-1.0      8          395       0.4%\n"
     ]
    }
   ],
   "source": [
    "# Group by occlusion range only (ignore gender here)\n",
    "occlusion_counts = df_train['range'].value_counts().sort_index()\n",
    "\n",
    "# Total number of images (for percentage calculation)\n",
    "total_images = occlusion_counts.sum()\n",
    "\n",
    "# Build the final table\n",
    "occlusion_table = pd.DataFrame({\n",
    "    'Occlusion Range': labels,                             # Text label for each bin\n",
    "    'Label': list(range(len(labels))),                     # Numeric index for the bin\n",
    "    'Image Count': occlusion_counts.values,                # Count of images per bin\n",
    "    '% of Total': [f\"{(v / total_images) * 100:.1f}%\" for v in occlusion_counts.values]  # Percentage\n",
    "})\n",
    "\n",
    "# Display the result\n",
    "print(occlusion_table)"
   ]
  },
  {
   "cell_type": "markdown",
   "id": "910a0bfd-68ef-496e-a699-01c9d1462f83",
   "metadata": {},
   "source": [
    "# Comment\n",
    "## The dataset is heavily concentrated in the low occlusion ranges:\n",
    "- Nearly 48.4% of images fall in the 0–5% occlusion range.\n",
    "- Over 79% of the dataset has occlusion under 10%, combining the first two bins.\n",
    "\n",
    "## As occlusion increases, the number of samples drops sharply:\n",
    "- Only 0.4% of images have occlusion above 40%.\n",
    "- The last four bins (above 25% occlusion) account for just 7.6% of the dataset.\n",
    "\n",
    "## This distribution is strongly imbalanced, suggesting a potential bias toward unobstructed faces during model training"
   ]
  }
 ],
 "metadata": {
  "kernelspec": {
   "display_name": "Python (portofolio)",
   "language": "python",
   "name": "portofolio"
  },
  "language_info": {
   "codemirror_mode": {
    "name": "ipython",
    "version": 3
   },
   "file_extension": ".py",
   "mimetype": "text/x-python",
   "name": "python",
   "nbconvert_exporter": "python",
   "pygments_lexer": "ipython3",
   "version": "3.9.21"
  }
 },
 "nbformat": 4,
 "nbformat_minor": 5
}
